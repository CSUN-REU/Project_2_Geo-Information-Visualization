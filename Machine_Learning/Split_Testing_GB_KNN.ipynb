{
 "cells": [
  {
   "cell_type": "code",
   "execution_count": 2,
   "id": "21ac3600-09d5-45ec-a18d-f1a1ba258b0b",
   "metadata": {},
   "outputs": [],
   "source": [
    "# This file was used to test 4 different ratios of undersampled data to oversampled\n",
    "# We used SMOTE to oversample and RandomUndersampler to undersample the imbalanced data\n",
    "# We tested different ratios of 1:1, 2:1, 4:1, 10:1\n",
    "# This test was split into two files with the other ML models being tested in the other file \n",
    "# This was made so you can run the tests on two different nodes at the same time, since the file takes ~20-30 hours to run"
   ]
  },
  {
   "cell_type": "code",
   "execution_count": 1,
   "id": "3b282e3b",
   "metadata": {
    "scrolled": true
   },
   "outputs": [],
   "source": [
    "#Load libaries\n",
    "import os\n",
    "import pandas as pd \n",
    "import seaborn as sns\n",
    "import numpy as np \n",
    "import matplotlib.pyplot as plt \n",
    "from pydotplus import graph_from_dot_data\n",
    "from sklearn import preprocessing\n",
    "from sklearn.preprocessing import StandardScaler, LabelEncoder\n",
    "from scipy import stats\n",
    "from sklearn.linear_model import LogisticRegression\n",
    "from sklearn.naive_bayes import MultinomialNB\n",
    "from sklearn.naive_bayes import GaussianNB\n",
    "from sklearn.neighbors import KNeighborsClassifier\n",
    "from sklearn.ensemble import RandomForestClassifier, RandomForestRegressor\n",
    "from sklearn.svm import SVC \n",
    "from sklearn import svm, metrics\n",
    "from sklearn.model_selection import GridSearchCV, RandomizedSearchCV\n",
    "from sklearn.metrics import confusion_matrix, classification_report\n",
    "from sklearn.model_selection import train_test_split, GridSearchCV, cross_validate, cross_val_score, KFold\n",
    "from sklearn.model_selection import RepeatedStratifiedKFold\n",
    "from sklearn.linear_model import ElasticNet\n",
    "from sklearn.metrics import mean_squared_error\n",
    "from sklearn.metrics import roc_curve\n",
    "from sklearn.metrics import roc_auc_score, accuracy_score, f1_score, precision_score, recall_score\n",
    "from collections import Counter\n",
    "\n",
    "import warnings\n",
    "warnings.filterwarnings('ignore')\n",
    "            "
   ]
  },
  {
   "cell_type": "code",
   "execution_count": 2,
   "id": "1bb73311",
   "metadata": {},
   "outputs": [],
   "source": [
    "#Load datasets\n",
    "data = pd.read_csv('2013_4month.csv', on_bad_lines='skip')   "
   ]
  },
  {
   "cell_type": "markdown",
   "id": "e7fd8bb3-efe9-4081-b11f-4aa932689cc3",
   "metadata": {
    "jp-MarkdownHeadingCollapsed": true
   },
   "source": [
    "### Looking into 2013 Data"
   ]
  },
  {
   "cell_type": "code",
   "execution_count": 3,
   "id": "67f3fe1c-7a2d-419e-b51a-d95dae950dca",
   "metadata": {},
   "outputs": [],
   "source": [
    "full_data = pd.read_csv('2013-data-output.csv', on_bad_lines='skip')   "
   ]
  },
  {
   "cell_type": "code",
   "execution_count": 4,
   "id": "f9c20256-66e7-4a10-a033-8d60e290322a",
   "metadata": {},
   "outputs": [],
   "source": [
    "#full_data.describe()"
   ]
  },
  {
   "cell_type": "code",
   "execution_count": 5,
   "id": "c9686bdb-4801-423b-a7a0-aa7b27900e6e",
   "metadata": {
    "scrolled": true
   },
   "outputs": [
    {
     "data": {
      "text/plain": [
       "Unnamed: 0    0\n",
       "Date          0\n",
       "Longitude     0\n",
       "Latitude      0\n",
       "EVI           0\n",
       "TA            0\n",
       "LST           0\n",
       "Wind          0\n",
       "Fire          0\n",
       "dtype: int64"
      ]
     },
     "execution_count": 5,
     "metadata": {},
     "output_type": "execute_result"
    }
   ],
   "source": [
    "full_data.isnull().sum() # return number of missing value for each column"
   ]
  },
  {
   "cell_type": "code",
   "execution_count": 6,
   "id": "e2193e2d-8351-47bc-b529-3631a6bd7fc4",
   "metadata": {},
   "outputs": [
    {
     "data": {
      "text/plain": [
       "97766345"
      ]
     },
     "execution_count": 6,
     "metadata": {},
     "output_type": "execute_result"
    }
   ],
   "source": [
    "len(full_data)"
   ]
  },
  {
   "cell_type": "code",
   "execution_count": 7,
   "id": "74d111ba-a107-436b-b82e-f30d2e0156b4",
   "metadata": {},
   "outputs": [
    {
     "data": {
      "text/plain": [
       "0    97686307\n",
       "1       80038\n",
       "Name: Fire, dtype: int64"
      ]
     },
     "execution_count": 7,
     "metadata": {},
     "output_type": "execute_result"
    }
   ],
   "source": [
    "Count=full_data.Fire.value_counts() #count target feature \n",
    "Count"
   ]
  },
  {
   "cell_type": "code",
   "execution_count": 8,
   "id": "c990d17e-ca03-41d9-a79b-6dd52a91b956",
   "metadata": {},
   "outputs": [
    {
     "name": "stdout",
     "output_type": "stream",
     "text": [
      "Proportion: 1220.5 : 1\n"
     ]
    }
   ],
   "source": [
    "print('Proportion:', round(Count[0] / Count[1], 2), ': 1')"
   ]
  },
  {
   "cell_type": "code",
   "execution_count": 9,
   "id": "9c495a37-9bce-459a-8847-3c2b5be31a7e",
   "metadata": {},
   "outputs": [],
   "source": [
    "data = full_data"
   ]
  },
  {
   "cell_type": "markdown",
   "id": "0d35feef",
   "metadata": {
    "jp-MarkdownHeadingCollapsed": true
   },
   "source": [
    "# Cleaning the data"
   ]
  },
  {
   "cell_type": "markdown",
   "id": "e646cac3-18f2-47a5-857a-a5ac5861387d",
   "metadata": {},
   "source": [
    "## Isolating to a spacific range of dataes"
   ]
  },
  {
   "cell_type": "code",
   "execution_count": 10,
   "id": "24b8cd5b-0f9e-4ea9-8a62-70973266f4e8",
   "metadata": {},
   "outputs": [],
   "source": [
    "# Create a boolean mask for x days\n",
    "#mask = (data['Date'] >= '2013-01-02') & (data['Date'] <= '2013-02-02')\n",
    "#data = data[mask]\n",
    "#data.Date.value_counts()"
   ]
  },
  {
   "cell_type": "markdown",
   "id": "85e1527a-0414-4963-9f3e-b04ef13e42a3",
   "metadata": {},
   "source": [
    "## Data Cleaning"
   ]
  },
  {
   "cell_type": "code",
   "execution_count": 11,
   "id": "linear-facing",
   "metadata": {
    "scrolled": true
   },
   "outputs": [
    {
     "data": {
      "text/html": [
       "<div>\n",
       "<style scoped>\n",
       "    .dataframe tbody tr th:only-of-type {\n",
       "        vertical-align: middle;\n",
       "    }\n",
       "\n",
       "    .dataframe tbody tr th {\n",
       "        vertical-align: top;\n",
       "    }\n",
       "\n",
       "    .dataframe thead th {\n",
       "        text-align: right;\n",
       "    }\n",
       "</style>\n",
       "<table border=\"1\" class=\"dataframe\">\n",
       "  <thead>\n",
       "    <tr style=\"text-align: right;\">\n",
       "      <th></th>\n",
       "      <th>Unnamed: 0</th>\n",
       "      <th>Date</th>\n",
       "      <th>Longitude</th>\n",
       "      <th>Latitude</th>\n",
       "      <th>EVI</th>\n",
       "      <th>TA</th>\n",
       "      <th>LST</th>\n",
       "      <th>Wind</th>\n",
       "      <th>Fire</th>\n",
       "    </tr>\n",
       "  </thead>\n",
       "  <tbody>\n",
       "    <tr>\n",
       "      <th>0</th>\n",
       "      <td>0</td>\n",
       "      <td>2013-01-01</td>\n",
       "      <td>-123.754626</td>\n",
       "      <td>41.994986</td>\n",
       "      <td>3308</td>\n",
       "      <td>5</td>\n",
       "      <td>0</td>\n",
       "      <td>21</td>\n",
       "      <td>0</td>\n",
       "    </tr>\n",
       "    <tr>\n",
       "      <th>1</th>\n",
       "      <td>1</td>\n",
       "      <td>2013-01-01</td>\n",
       "      <td>-123.750462</td>\n",
       "      <td>41.994986</td>\n",
       "      <td>3477</td>\n",
       "      <td>5</td>\n",
       "      <td>0</td>\n",
       "      <td>21</td>\n",
       "      <td>0</td>\n",
       "    </tr>\n",
       "    <tr>\n",
       "      <th>2</th>\n",
       "      <td>2</td>\n",
       "      <td>2013-01-01</td>\n",
       "      <td>-123.746298</td>\n",
       "      <td>41.994986</td>\n",
       "      <td>3477</td>\n",
       "      <td>5</td>\n",
       "      <td>0</td>\n",
       "      <td>21</td>\n",
       "      <td>0</td>\n",
       "    </tr>\n",
       "    <tr>\n",
       "      <th>3</th>\n",
       "      <td>3</td>\n",
       "      <td>2013-01-01</td>\n",
       "      <td>-123.742134</td>\n",
       "      <td>41.994986</td>\n",
       "      <td>4475</td>\n",
       "      <td>5</td>\n",
       "      <td>0</td>\n",
       "      <td>21</td>\n",
       "      <td>0</td>\n",
       "    </tr>\n",
       "    <tr>\n",
       "      <th>4</th>\n",
       "      <td>4</td>\n",
       "      <td>2013-01-01</td>\n",
       "      <td>-123.737970</td>\n",
       "      <td>41.994986</td>\n",
       "      <td>3000</td>\n",
       "      <td>5</td>\n",
       "      <td>13707</td>\n",
       "      <td>21</td>\n",
       "      <td>0</td>\n",
       "    </tr>\n",
       "  </tbody>\n",
       "</table>\n",
       "</div>"
      ],
      "text/plain": [
       "   Unnamed: 0        Date   Longitude   Latitude   EVI  TA    LST  Wind  Fire\n",
       "0           0  2013-01-01 -123.754626  41.994986  3308   5      0    21     0\n",
       "1           1  2013-01-01 -123.750462  41.994986  3477   5      0    21     0\n",
       "2           2  2013-01-01 -123.746298  41.994986  3477   5      0    21     0\n",
       "3           3  2013-01-01 -123.742134  41.994986  4475   5      0    21     0\n",
       "4           4  2013-01-01 -123.737970  41.994986  3000   5  13707    21     0"
      ]
     },
     "execution_count": 11,
     "metadata": {},
     "output_type": "execute_result"
    }
   ],
   "source": [
    "data.head()"
   ]
  },
  {
   "cell_type": "code",
   "execution_count": 12,
   "id": "b2fe6a74",
   "metadata": {},
   "outputs": [],
   "source": [
    "data = data[data['Date'] != '2013-01-01'] #Dropping the first day that has missing LST data"
   ]
  },
  {
   "cell_type": "code",
   "execution_count": 13,
   "id": "10ef5c17",
   "metadata": {},
   "outputs": [
    {
     "data": {
      "text/html": [
       "<div>\n",
       "<style scoped>\n",
       "    .dataframe tbody tr th:only-of-type {\n",
       "        vertical-align: middle;\n",
       "    }\n",
       "\n",
       "    .dataframe tbody tr th {\n",
       "        vertical-align: top;\n",
       "    }\n",
       "\n",
       "    .dataframe thead th {\n",
       "        text-align: right;\n",
       "    }\n",
       "</style>\n",
       "<table border=\"1\" class=\"dataframe\">\n",
       "  <thead>\n",
       "    <tr style=\"text-align: right;\">\n",
       "      <th></th>\n",
       "      <th>Unnamed: 0</th>\n",
       "      <th>Date</th>\n",
       "      <th>Longitude</th>\n",
       "      <th>Latitude</th>\n",
       "      <th>EVI</th>\n",
       "      <th>TA</th>\n",
       "      <th>LST</th>\n",
       "      <th>Wind</th>\n",
       "      <th>Fire</th>\n",
       "    </tr>\n",
       "  </thead>\n",
       "  <tbody>\n",
       "    <tr>\n",
       "      <th>267853</th>\n",
       "      <td>267853</td>\n",
       "      <td>2013-01-02</td>\n",
       "      <td>-123.754626</td>\n",
       "      <td>41.994986</td>\n",
       "      <td>3375</td>\n",
       "      <td>5</td>\n",
       "      <td>13639</td>\n",
       "      <td>26</td>\n",
       "      <td>0</td>\n",
       "    </tr>\n",
       "    <tr>\n",
       "      <th>267854</th>\n",
       "      <td>267854</td>\n",
       "      <td>2013-01-02</td>\n",
       "      <td>-123.750462</td>\n",
       "      <td>41.994986</td>\n",
       "      <td>3524</td>\n",
       "      <td>5</td>\n",
       "      <td>13639</td>\n",
       "      <td>26</td>\n",
       "      <td>0</td>\n",
       "    </tr>\n",
       "    <tr>\n",
       "      <th>267855</th>\n",
       "      <td>267855</td>\n",
       "      <td>2013-01-02</td>\n",
       "      <td>-123.746298</td>\n",
       "      <td>41.994986</td>\n",
       "      <td>3524</td>\n",
       "      <td>5</td>\n",
       "      <td>13639</td>\n",
       "      <td>26</td>\n",
       "      <td>0</td>\n",
       "    </tr>\n",
       "    <tr>\n",
       "      <th>267856</th>\n",
       "      <td>267856</td>\n",
       "      <td>2013-01-02</td>\n",
       "      <td>-123.742134</td>\n",
       "      <td>41.994986</td>\n",
       "      <td>4460</td>\n",
       "      <td>5</td>\n",
       "      <td>13639</td>\n",
       "      <td>26</td>\n",
       "      <td>0</td>\n",
       "    </tr>\n",
       "    <tr>\n",
       "      <th>267857</th>\n",
       "      <td>267857</td>\n",
       "      <td>2013-01-02</td>\n",
       "      <td>-123.737970</td>\n",
       "      <td>41.994986</td>\n",
       "      <td>3115</td>\n",
       "      <td>5</td>\n",
       "      <td>13677</td>\n",
       "      <td>26</td>\n",
       "      <td>0</td>\n",
       "    </tr>\n",
       "  </tbody>\n",
       "</table>\n",
       "</div>"
      ],
      "text/plain": [
       "        Unnamed: 0        Date   Longitude   Latitude   EVI  TA    LST  Wind  \\\n",
       "267853      267853  2013-01-02 -123.754626  41.994986  3375   5  13639    26   \n",
       "267854      267854  2013-01-02 -123.750462  41.994986  3524   5  13639    26   \n",
       "267855      267855  2013-01-02 -123.746298  41.994986  3524   5  13639    26   \n",
       "267856      267856  2013-01-02 -123.742134  41.994986  4460   5  13639    26   \n",
       "267857      267857  2013-01-02 -123.737970  41.994986  3115   5  13677    26   \n",
       "\n",
       "        Fire  \n",
       "267853     0  \n",
       "267854     0  \n",
       "267855     0  \n",
       "267856     0  \n",
       "267857     0  "
      ]
     },
     "execution_count": 13,
     "metadata": {},
     "output_type": "execute_result"
    }
   ],
   "source": [
    "data.head()"
   ]
  },
  {
   "cell_type": "code",
   "execution_count": 14,
   "id": "sudden-termination",
   "metadata": {},
   "outputs": [
    {
     "data": {
      "text/html": [
       "<div>\n",
       "<style scoped>\n",
       "    .dataframe tbody tr th:only-of-type {\n",
       "        vertical-align: middle;\n",
       "    }\n",
       "\n",
       "    .dataframe tbody tr th {\n",
       "        vertical-align: top;\n",
       "    }\n",
       "\n",
       "    .dataframe thead th {\n",
       "        text-align: right;\n",
       "    }\n",
       "</style>\n",
       "<table border=\"1\" class=\"dataframe\">\n",
       "  <thead>\n",
       "    <tr style=\"text-align: right;\">\n",
       "      <th></th>\n",
       "      <th>Unnamed: 0</th>\n",
       "      <th>EVI</th>\n",
       "      <th>TA</th>\n",
       "      <th>LST</th>\n",
       "      <th>Wind</th>\n",
       "      <th>Fire</th>\n",
       "    </tr>\n",
       "  </thead>\n",
       "  <tbody>\n",
       "    <tr>\n",
       "      <th>267853</th>\n",
       "      <td>267853</td>\n",
       "      <td>3375</td>\n",
       "      <td>5</td>\n",
       "      <td>13639</td>\n",
       "      <td>26</td>\n",
       "      <td>0</td>\n",
       "    </tr>\n",
       "    <tr>\n",
       "      <th>267854</th>\n",
       "      <td>267854</td>\n",
       "      <td>3524</td>\n",
       "      <td>5</td>\n",
       "      <td>13639</td>\n",
       "      <td>26</td>\n",
       "      <td>0</td>\n",
       "    </tr>\n",
       "    <tr>\n",
       "      <th>267855</th>\n",
       "      <td>267855</td>\n",
       "      <td>3524</td>\n",
       "      <td>5</td>\n",
       "      <td>13639</td>\n",
       "      <td>26</td>\n",
       "      <td>0</td>\n",
       "    </tr>\n",
       "    <tr>\n",
       "      <th>267856</th>\n",
       "      <td>267856</td>\n",
       "      <td>4460</td>\n",
       "      <td>5</td>\n",
       "      <td>13639</td>\n",
       "      <td>26</td>\n",
       "      <td>0</td>\n",
       "    </tr>\n",
       "    <tr>\n",
       "      <th>267857</th>\n",
       "      <td>267857</td>\n",
       "      <td>3115</td>\n",
       "      <td>5</td>\n",
       "      <td>13677</td>\n",
       "      <td>26</td>\n",
       "      <td>0</td>\n",
       "    </tr>\n",
       "  </tbody>\n",
       "</table>\n",
       "</div>"
      ],
      "text/plain": [
       "        Unnamed: 0   EVI  TA    LST  Wind  Fire\n",
       "267853      267853  3375   5  13639    26     0\n",
       "267854      267854  3524   5  13639    26     0\n",
       "267855      267855  3524   5  13639    26     0\n",
       "267856      267856  4460   5  13639    26     0\n",
       "267857      267857  3115   5  13677    26     0"
      ]
     },
     "execution_count": 14,
     "metadata": {},
     "output_type": "execute_result"
    }
   ],
   "source": [
    "#if 'Date' in data:\n",
    "data = data.drop(['Date', 'Longitude', 'Latitude'], axis = 1) \n",
    "data.head()"
   ]
  },
  {
   "cell_type": "code",
   "execution_count": 15,
   "id": "special-alfred",
   "metadata": {
    "scrolled": true
   },
   "outputs": [
    {
     "data": {
      "text/plain": [
       "Unnamed: 0    0\n",
       "EVI           0\n",
       "TA            0\n",
       "LST           0\n",
       "Wind          0\n",
       "Fire          0\n",
       "dtype: int64"
      ]
     },
     "execution_count": 15,
     "metadata": {},
     "output_type": "execute_result"
    }
   ],
   "source": [
    "data.isnull().sum() # return number of missing value for each column"
   ]
  },
  {
   "cell_type": "code",
   "execution_count": 16,
   "id": "f367e0de-91f9-422e-8b01-ac9b5c6ce6e2",
   "metadata": {},
   "outputs": [
    {
     "data": {
      "text/plain": [
       "Unnamed: 0    0\n",
       "EVI           0\n",
       "TA            0\n",
       "LST           0\n",
       "Wind          0\n",
       "Fire          0\n",
       "dtype: int64"
      ]
     },
     "execution_count": 16,
     "metadata": {},
     "output_type": "execute_result"
    }
   ],
   "source": [
    "data.dropna(axis=0, inplace=True) # drop the rows with null values\n",
    "data.isnull().sum() # return number of missing value for each column"
   ]
  },
  {
   "cell_type": "code",
   "execution_count": 17,
   "id": "external-seating",
   "metadata": {
    "scrolled": true
   },
   "outputs": [
    {
     "data": {
      "text/plain": [
       " 5      88881052\n",
       " 4       7813898\n",
       " 3        777155\n",
       " 9         12990\n",
       " 8          6266\n",
       "-999        6188\n",
       " 7           919\n",
       " 6            24\n",
       "Name: TA, dtype: int64"
      ]
     },
     "execution_count": 17,
     "metadata": {},
     "output_type": "execute_result"
    }
   ],
   "source": [
    "data.TA.value_counts()"
   ]
  },
  {
   "cell_type": "code",
   "execution_count": 18,
   "id": "legendary-greeting",
   "metadata": {},
   "outputs": [],
   "source": [
    "data = data[data.TA !=-999] \n",
    "data = data[data.TA != 3]\n",
    "data = data[data.TA != 4]"
   ]
  },
  {
   "cell_type": "code",
   "execution_count": 19,
   "id": "eight-simulation",
   "metadata": {},
   "outputs": [
    {
     "data": {
      "text/plain": [
       "5    88881052\n",
       "9       12990\n",
       "8        6266\n",
       "7         919\n",
       "6          24\n",
       "Name: TA, dtype: int64"
      ]
     },
     "execution_count": 19,
     "metadata": {},
     "output_type": "execute_result"
    }
   ],
   "source": [
    "data.TA.value_counts()"
   ]
  },
  {
   "cell_type": "code",
   "execution_count": 20,
   "id": "shaped-banner",
   "metadata": {},
   "outputs": [
    {
     "name": "stdout",
     "output_type": "stream",
     "text": [
      "Proportion: 1209.89 : 1\n"
     ]
    },
    {
     "data": {
      "text/plain": [
       "0    88827833\n",
       "1       73418\n",
       "Name: Fire, dtype: int64"
      ]
     },
     "execution_count": 20,
     "metadata": {},
     "output_type": "execute_result"
    }
   ],
   "source": [
    "Count=data.Fire.value_counts() #count target feature \n",
    "print('Proportion:', round(Count[0] / Count[1], 2), ': 1')\n",
    "Count"
   ]
  },
  {
   "cell_type": "code",
   "execution_count": 21,
   "id": "portuguese-macro",
   "metadata": {},
   "outputs": [
    {
     "data": {
      "text/plain": [
       "0        112921\n",
       "15062     56627\n",
       "15060     56322\n",
       "15027     56241\n",
       "15084     56220\n",
       "          ...  \n",
       "17283         1\n",
       "12859         1\n",
       "16890         1\n",
       "12797         1\n",
       "16886         1\n",
       "Name: LST, Length: 3990, dtype: int64"
      ]
     },
     "execution_count": 21,
     "metadata": {},
     "output_type": "execute_result"
    }
   ],
   "source": [
    "data.LST.value_counts()"
   ]
  },
  {
   "cell_type": "code",
   "execution_count": 22,
   "id": "right-closer",
   "metadata": {},
   "outputs": [
    {
     "name": "stdout",
     "output_type": "stream",
     "text": [
      "<class 'pandas.core.frame.DataFrame'>\n",
      "Int64Index: 88901251 entries, 267853 to 97766344\n",
      "Data columns (total 6 columns):\n",
      " #   Column      Dtype\n",
      "---  ------      -----\n",
      " 0   Unnamed: 0  int64\n",
      " 1   EVI         int64\n",
      " 2   TA          int64\n",
      " 3   LST         int64\n",
      " 4   Wind        int64\n",
      " 5   Fire        int64\n",
      "dtypes: int64(6)\n",
      "memory usage: 4.6 GB\n"
     ]
    }
   ],
   "source": [
    "data.info()"
   ]
  },
  {
   "cell_type": "code",
   "execution_count": 23,
   "id": "broke-biography",
   "metadata": {},
   "outputs": [
    {
     "data": {
      "text/html": [
       "<div>\n",
       "<style scoped>\n",
       "    .dataframe tbody tr th:only-of-type {\n",
       "        vertical-align: middle;\n",
       "    }\n",
       "\n",
       "    .dataframe tbody tr th {\n",
       "        vertical-align: top;\n",
       "    }\n",
       "\n",
       "    .dataframe thead th {\n",
       "        text-align: right;\n",
       "    }\n",
       "</style>\n",
       "<table border=\"1\" class=\"dataframe\">\n",
       "  <thead>\n",
       "    <tr style=\"text-align: right;\">\n",
       "      <th></th>\n",
       "      <th>Unnamed: 0</th>\n",
       "      <th>EVI</th>\n",
       "      <th>TA</th>\n",
       "      <th>LST</th>\n",
       "      <th>Wind</th>\n",
       "      <th>Fire</th>\n",
       "    </tr>\n",
       "  </thead>\n",
       "  <tbody>\n",
       "    <tr>\n",
       "      <th>count</th>\n",
       "      <td>8.890125e+07</td>\n",
       "      <td>8.890125e+07</td>\n",
       "      <td>8.890125e+07</td>\n",
       "      <td>8.890125e+07</td>\n",
       "      <td>8.890125e+07</td>\n",
       "      <td>8.890125e+07</td>\n",
       "    </tr>\n",
       "    <tr>\n",
       "      <th>mean</th>\n",
       "      <td>5.008608e+07</td>\n",
       "      <td>2.750837e+03</td>\n",
       "      <td>5.000817e+00</td>\n",
       "      <td>1.471818e+04</td>\n",
       "      <td>2.360307e+01</td>\n",
       "      <td>8.258376e-04</td>\n",
       "    </tr>\n",
       "    <tr>\n",
       "      <th>std</th>\n",
       "      <td>2.750768e+07</td>\n",
       "      <td>9.846965e+02</td>\n",
       "      <td>5.489236e-02</td>\n",
       "      <td>7.821603e+02</td>\n",
       "      <td>1.537075e+01</td>\n",
       "      <td>2.872552e-02</td>\n",
       "    </tr>\n",
       "    <tr>\n",
       "      <th>min</th>\n",
       "      <td>2.678530e+05</td>\n",
       "      <td>-3.000000e+03</td>\n",
       "      <td>5.000000e+00</td>\n",
       "      <td>0.000000e+00</td>\n",
       "      <td>0.000000e+00</td>\n",
       "      <td>0.000000e+00</td>\n",
       "    </tr>\n",
       "    <tr>\n",
       "      <th>25%</th>\n",
       "      <td>2.711508e+07</td>\n",
       "      <td>2.072000e+03</td>\n",
       "      <td>5.000000e+00</td>\n",
       "      <td>1.429400e+04</td>\n",
       "      <td>1.200000e+01</td>\n",
       "      <td>0.000000e+00</td>\n",
       "    </tr>\n",
       "    <tr>\n",
       "      <th>50%</th>\n",
       "      <td>5.057289e+07</td>\n",
       "      <td>2.757000e+03</td>\n",
       "      <td>5.000000e+00</td>\n",
       "      <td>1.473800e+04</td>\n",
       "      <td>2.100000e+01</td>\n",
       "      <td>0.000000e+00</td>\n",
       "    </tr>\n",
       "    <tr>\n",
       "      <th>75%</th>\n",
       "      <td>7.358747e+07</td>\n",
       "      <td>3.425000e+03</td>\n",
       "      <td>5.000000e+00</td>\n",
       "      <td>1.516000e+04</td>\n",
       "      <td>3.100000e+01</td>\n",
       "      <td>0.000000e+00</td>\n",
       "    </tr>\n",
       "    <tr>\n",
       "      <th>max</th>\n",
       "      <td>9.776634e+07</td>\n",
       "      <td>9.256000e+03</td>\n",
       "      <td>9.000000e+00</td>\n",
       "      <td>1.758000e+04</td>\n",
       "      <td>2.550000e+02</td>\n",
       "      <td>1.000000e+00</td>\n",
       "    </tr>\n",
       "  </tbody>\n",
       "</table>\n",
       "</div>"
      ],
      "text/plain": [
       "         Unnamed: 0           EVI            TA           LST          Wind  \\\n",
       "count  8.890125e+07  8.890125e+07  8.890125e+07  8.890125e+07  8.890125e+07   \n",
       "mean   5.008608e+07  2.750837e+03  5.000817e+00  1.471818e+04  2.360307e+01   \n",
       "std    2.750768e+07  9.846965e+02  5.489236e-02  7.821603e+02  1.537075e+01   \n",
       "min    2.678530e+05 -3.000000e+03  5.000000e+00  0.000000e+00  0.000000e+00   \n",
       "25%    2.711508e+07  2.072000e+03  5.000000e+00  1.429400e+04  1.200000e+01   \n",
       "50%    5.057289e+07  2.757000e+03  5.000000e+00  1.473800e+04  2.100000e+01   \n",
       "75%    7.358747e+07  3.425000e+03  5.000000e+00  1.516000e+04  3.100000e+01   \n",
       "max    9.776634e+07  9.256000e+03  9.000000e+00  1.758000e+04  2.550000e+02   \n",
       "\n",
       "               Fire  \n",
       "count  8.890125e+07  \n",
       "mean   8.258376e-04  \n",
       "std    2.872552e-02  \n",
       "min    0.000000e+00  \n",
       "25%    0.000000e+00  \n",
       "50%    0.000000e+00  \n",
       "75%    0.000000e+00  \n",
       "max    1.000000e+00  "
      ]
     },
     "execution_count": 23,
     "metadata": {},
     "output_type": "execute_result"
    }
   ],
   "source": [
    "data.describe() # Statistic summary"
   ]
  },
  {
   "cell_type": "markdown",
   "id": "18c77b2f-7862-4632-ad30-2b1dffa14476",
   "metadata": {},
   "source": [
    "## Dividing The Data to be sent to Gretel"
   ]
  },
  {
   "cell_type": "code",
   "execution_count": 24,
   "id": "a25b8ebc-1726-4198-b130-90a1fc8c4430",
   "metadata": {},
   "outputs": [],
   "source": [
    "#gretle_data = data[data.Fire == 1]\n",
    "#print(len(gretle_data))\n",
    "#len(data)-32"
   ]
  },
  {
   "cell_type": "code",
   "execution_count": 25,
   "id": "4ec19b1f-0778-46c5-a5eb-c4ab8d53562e",
   "metadata": {},
   "outputs": [],
   "source": [
    "#gretle_data.to_csv('gretle_data.csv')"
   ]
  },
  {
   "cell_type": "code",
   "execution_count": 26,
   "id": "3d4c3957-5631-4ba6-8cb3-f651bd7a24e3",
   "metadata": {},
   "outputs": [],
   "source": [
    "#data.to_csv('10_day_data.csv')"
   ]
  },
  {
   "cell_type": "code",
   "execution_count": 27,
   "id": "3e5a2c0f-54f8-4688-99d6-fbdbc5f12b24",
   "metadata": {},
   "outputs": [
    {
     "data": {
      "text/html": [
       "<div>\n",
       "<style scoped>\n",
       "    .dataframe tbody tr th:only-of-type {\n",
       "        vertical-align: middle;\n",
       "    }\n",
       "\n",
       "    .dataframe tbody tr th {\n",
       "        vertical-align: top;\n",
       "    }\n",
       "\n",
       "    .dataframe thead th {\n",
       "        text-align: right;\n",
       "    }\n",
       "</style>\n",
       "<table border=\"1\" class=\"dataframe\">\n",
       "  <thead>\n",
       "    <tr style=\"text-align: right;\">\n",
       "      <th></th>\n",
       "      <th>Unnamed: 0</th>\n",
       "      <th>EVI</th>\n",
       "      <th>TA</th>\n",
       "      <th>LST</th>\n",
       "      <th>Wind</th>\n",
       "      <th>Fire</th>\n",
       "    </tr>\n",
       "  </thead>\n",
       "  <tbody>\n",
       "    <tr>\n",
       "      <th>0</th>\n",
       "      <td>1255766</td>\n",
       "      <td>-9999.0</td>\n",
       "      <td>5.0</td>\n",
       "      <td>13816.0</td>\n",
       "      <td>-9999.0</td>\n",
       "      <td>1.0</td>\n",
       "    </tr>\n",
       "    <tr>\n",
       "      <th>1</th>\n",
       "      <td>1247033</td>\n",
       "      <td>-9999.0</td>\n",
       "      <td>5.0</td>\n",
       "      <td>13825.0</td>\n",
       "      <td>-9999.0</td>\n",
       "      <td>1.0</td>\n",
       "    </tr>\n",
       "    <tr>\n",
       "      <th>2</th>\n",
       "      <td>1270936</td>\n",
       "      <td>-9999.0</td>\n",
       "      <td>5.0</td>\n",
       "      <td>13808.0</td>\n",
       "      <td>-9999.0</td>\n",
       "      <td>1.0</td>\n",
       "    </tr>\n",
       "    <tr>\n",
       "      <th>3</th>\n",
       "      <td>1394565</td>\n",
       "      <td>-9999.0</td>\n",
       "      <td>5.0</td>\n",
       "      <td>13818.0</td>\n",
       "      <td>-9999.0</td>\n",
       "      <td>1.0</td>\n",
       "    </tr>\n",
       "    <tr>\n",
       "      <th>4</th>\n",
       "      <td>1243489</td>\n",
       "      <td>-9999.0</td>\n",
       "      <td>5.0</td>\n",
       "      <td>13828.0</td>\n",
       "      <td>-9999.0</td>\n",
       "      <td>1.0</td>\n",
       "    </tr>\n",
       "  </tbody>\n",
       "</table>\n",
       "</div>"
      ],
      "text/plain": [
       "   Unnamed: 0     EVI   TA      LST    Wind  Fire\n",
       "0     1255766 -9999.0  5.0  13816.0 -9999.0   1.0\n",
       "1     1247033 -9999.0  5.0  13825.0 -9999.0   1.0\n",
       "2     1270936 -9999.0  5.0  13808.0 -9999.0   1.0\n",
       "3     1394565 -9999.0  5.0  13818.0 -9999.0   1.0\n",
       "4     1243489 -9999.0  5.0  13828.0 -9999.0   1.0"
      ]
     },
     "execution_count": 27,
     "metadata": {},
     "output_type": "execute_result"
    }
   ],
   "source": [
    "gretle_1_to_1 = pd.read_csv('gretle_data_1_to_1.csv', on_bad_lines='skip')\n",
    "gretle_1_to_1.head()"
   ]
  },
  {
   "cell_type": "markdown",
   "id": "19de3e9c",
   "metadata": {
    "jp-MarkdownHeadingCollapsed": true
   },
   "source": [
    "# Splitting Data & Scaling Data\n",
    "We are making the data have similar range for the machine model to not weight one varible bigger then the other"
   ]
  },
  {
   "cell_type": "code",
   "execution_count": 28,
   "id": "c2d0f0bc",
   "metadata": {},
   "outputs": [],
   "source": [
    "# Getting the X & Y\n",
    "X = data.drop(columns=['Fire']).values\n",
    "Y = data['Fire'].values\n",
    "    \n",
    "# Labeling the variables\n",
    "scale = StandardScaler()\n",
    "X = scale.fit_transform(X) \n"
   ]
  },
  {
   "cell_type": "code",
   "execution_count": 29,
   "id": "823c97fb",
   "metadata": {},
   "outputs": [],
   "source": [
    "# 20% test 80% training data             \n",
    "X_train, X_test, y_train, y_test, = train_test_split(X, Y, test_size=0.2,random_state = 42)\n",
    "\n",
    "                                                         # 0.25 x 0.8 = 0.2 for validation data\n",
    "X_train, X_val, y_train, y_val, = train_test_split(X_train, y_train, test_size=0.25,random_state = 16) "
   ]
  },
  {
   "cell_type": "markdown",
   "id": "b347e92f",
   "metadata": {},
   "source": [
    "# Fixing the Imbalanced Data"
   ]
  },
  {
   "cell_type": "markdown",
   "id": "5e193836-f530-4ca8-aefa-5b28597500b7",
   "metadata": {},
   "source": [
    "## Combining Oversampled & Oversampled Data"
   ]
  },
  {
   "cell_type": "markdown",
   "id": "382310e7-0c90-4c11-8d6f-85cc9c337b4f",
   "metadata": {},
   "source": [
    "### SMOTE + Random Under Sampler || 1:1 Ratio"
   ]
  },
  {
   "cell_type": "code",
   "execution_count": 30,
   "id": "e4a89d6d-cde5-4bda-9e72-ae9adb4f87f7",
   "metadata": {},
   "outputs": [
    {
     "name": "stdout",
     "output_type": "stream",
     "text": [
      "Before Counter({0: 53296930, 1: 43820})\n",
      "After Counter({0: 5329693, 1: 5329693})\n"
     ]
    }
   ],
   "source": [
    "from imblearn.pipeline import Pipeline\n",
    "from imblearn.over_sampling import SMOTE\n",
    "from imblearn.under_sampling import RandomUnderSampler\n",
    "\n",
    "oversampling_ratio = 0.1\n",
    "# 0.01 means the majority class will be 100 times the size of minority class\n",
    "# 0.1 means the majority class will be 10 times the size of minority class\n",
    "\n",
    "undersample_ratio = 1\n",
    "# 0.01 means the majority class will be 100 times the size of minority class\n",
    "# 0.1 means the majority class will be 10 times the size of minority class\n",
    "\n",
    "counter1 = Counter(y_train)\n",
    "print('Before',counter1)\n",
    "\n",
    "# define pipeline\n",
    "over = SMOTE(sampling_strategy=oversampling_ratio, n_jobs=-1)\n",
    "under = RandomUnderSampler(sampling_strategy=undersample_ratio)\n",
    "steps = [('o', over), ('u', under)]\n",
    "pipeline = Pipeline(steps=steps)\n",
    "# transform the dataset\n",
    "X_train_1_1, y_train_1_1 = pipeline.fit_resample(X_train, y_train)\n",
    "\n",
    "counter = Counter(y_train_1_1)\n",
    "print('After',counter)"
   ]
  },
  {
   "cell_type": "markdown",
   "id": "e4c93804-7619-48dd-9abe-24b319873ad4",
   "metadata": {},
   "source": [
    "### SMOTE + Random Under Sampler || 2:1 Ratio"
   ]
  },
  {
   "cell_type": "code",
   "execution_count": 31,
   "id": "57abc6a9-e451-4767-88c6-1cab04f1ac43",
   "metadata": {},
   "outputs": [
    {
     "name": "stdout",
     "output_type": "stream",
     "text": [
      "Before Counter({0: 53296930, 1: 43820})\n",
      "After Counter({0: 10659386, 1: 5329693})\n"
     ]
    }
   ],
   "source": [
    "from imblearn.pipeline import Pipeline\n",
    "from imblearn.over_sampling import SMOTE\n",
    "from imblearn.under_sampling import RandomUnderSampler\n",
    "\n",
    "oversampling_ratio = 0.1\n",
    "# 0.01 means the majority class will be 100 times the size of minority class\n",
    "# 0.1 means the majority class will be 10 times the size of minority class\n",
    "\n",
    "undersample_ratio = 0.5\n",
    "# 0.01 means the majority class will be 100 times the size of minority class\n",
    "# 0.1 means the majority class will be 10 times the size of minority class\n",
    "\n",
    "counter1 = Counter(y_train)\n",
    "print('Before',counter1)\n",
    "\n",
    "# define pipeline\n",
    "over = SMOTE(sampling_strategy=oversampling_ratio, n_jobs=-1)\n",
    "under = RandomUnderSampler(sampling_strategy=undersample_ratio)\n",
    "steps = [('o', over), ('u', under)]\n",
    "pipeline = Pipeline(steps=steps)\n",
    "# transform the dataset\n",
    "X_train_2_1, y_train_2_1 = pipeline.fit_resample(X_train, y_train)\n",
    "\n",
    "counter = Counter(y_train_2_1)\n",
    "print('After',counter)"
   ]
  },
  {
   "cell_type": "markdown",
   "id": "080d6eee-48e4-42b6-bb64-f1045dfe536f",
   "metadata": {},
   "source": [
    "### SMOTE + Random Under Sampler || 4:1 Ratio"
   ]
  },
  {
   "cell_type": "code",
   "execution_count": 32,
   "id": "e81fb919",
   "metadata": {},
   "outputs": [
    {
     "name": "stdout",
     "output_type": "stream",
     "text": [
      "Before Counter({0: 53296930, 1: 43820})\n",
      "After Counter({0: 21318772, 1: 5329693})\n"
     ]
    }
   ],
   "source": [
    "from imblearn.pipeline import Pipeline\n",
    "from imblearn.over_sampling import SMOTE\n",
    "from imblearn.under_sampling import RandomUnderSampler\n",
    "\n",
    "oversampling_ratio = 0.1\n",
    "# 0.01 means the majority class will be 100 times the size of minority class\n",
    "# 0.1 means the majority class will be 10 times the size of minority class\n",
    "\n",
    "undersample_ratio = 0.25\n",
    "# 0.01 means the majority class will be 100 times the size of minority class\n",
    "# 0.1 means the majority class will be 10 times the size of minority class\n",
    "\n",
    "counter1 = Counter(y_train)\n",
    "print('Before',counter1)\n",
    "\n",
    "# define pipeline\n",
    "over = SMOTE(sampling_strategy=oversampling_ratio, n_jobs=-1)\n",
    "under = RandomUnderSampler(sampling_strategy=undersample_ratio)\n",
    "steps = [('o', over), ('u', under)]\n",
    "pipeline = Pipeline(steps=steps)\n",
    "# transform the dataset\n",
    "X_train_4_1, y_train_4_1 = pipeline.fit_resample(X_train, y_train)\n",
    "\n",
    "counter = Counter(y_train_4_1)\n",
    "print('After',counter)"
   ]
  },
  {
   "cell_type": "markdown",
   "id": "012e288e-7eaa-4e26-98cb-853a664fe7f2",
   "metadata": {},
   "source": [
    "### SMOTE + Random Under Sampler || 10:1 Ratio"
   ]
  },
  {
   "cell_type": "code",
   "execution_count": 33,
   "id": "98629d0e",
   "metadata": {},
   "outputs": [
    {
     "name": "stdout",
     "output_type": "stream",
     "text": [
      "Before Counter({0: 53296930, 1: 43820})\n",
      "After Counter({0: 53296930, 1: 5329693})\n"
     ]
    }
   ],
   "source": [
    "from imblearn.pipeline import Pipeline\n",
    "from imblearn.over_sampling import SMOTE\n",
    "from imblearn.under_sampling import RandomUnderSampler\n",
    "\n",
    "oversampling_ratio = 0.1\n",
    "# 0.01 means the majority class will be 100 times the size of minority class\n",
    "# 0.1 means the majority class will be 10 times the size of minority class\n",
    "\n",
    "undersample_ratio = .1\n",
    "# 0.01 means the majority class will be 100 times the size of minority class\n",
    "# 0.1 means the majority class will be 10 times the size of minority class\n",
    "\n",
    "counter1 = Counter(y_train)\n",
    "print('Before',counter1)\n",
    "\n",
    "# define pipeline\n",
    "over = SMOTE(sampling_strategy=oversampling_ratio, n_jobs=-1)\n",
    "under = RandomUnderSampler(sampling_strategy=undersample_ratio)\n",
    "steps = [('o', over), ('u', under)]\n",
    "pipeline = Pipeline(steps=steps)\n",
    "# transform the dataset\n",
    "X_train_10_1, y_train_10_1 = pipeline.fit_resample(X_train, y_train)\n",
    "\n",
    "counter = Counter(y_train_10_1)\n",
    "print('After',counter)"
   ]
  },
  {
   "cell_type": "markdown",
   "id": "aeebb669",
   "metadata": {},
   "source": [
    "# Building Models"
   ]
  },
  {
   "cell_type": "markdown",
   "id": "ddf21495-1ece-46c2-9bc5-c97e83d0aa1a",
   "metadata": {
    "jp-MarkdownHeadingCollapsed": true
   },
   "source": [
    "## AUX Meathods"
   ]
  },
  {
   "cell_type": "code",
   "execution_count": 34,
   "id": "746cb77b-0a1c-4637-990d-89c12a2536f2",
   "metadata": {},
   "outputs": [],
   "source": [
    "save_location = str(\"saved_plots/\")"
   ]
  },
  {
   "cell_type": "code",
   "execution_count": 35,
   "id": "129a095d-8c39-4776-a817-1ff69a894b7a",
   "metadata": {},
   "outputs": [],
   "source": [
    "model = list()\n",
    "resample = list()\n",
    "precision = list()\n",
    "recall = list()\n",
    "F1score = list()\n",
    "AUCROC = list()"
   ]
  },
  {
   "cell_type": "code",
   "execution_count": 36,
   "id": "2fff69c0-1cd4-4bde-a356-0e52aefd33d8",
   "metadata": {},
   "outputs": [],
   "source": [
    "# Confusion Matrix Meathod\n",
    "def confusion_matrix_build(y_test, predicted, model_name):\n",
    "    NB_cm = confusion_matrix(y_test, predicted)\n",
    "    group_names = ['TN','FP','FN','TP']\n",
    "    group_counts = [\"{0:0.0f}\".format(value) for value in\n",
    "                    NB_cm.flatten()]\n",
    "    labels = [f\"{v1}\\n{v2}\" for v1, v2 in\n",
    "              zip(group_names,group_counts)]\n",
    "    labels = np.asarray(labels).reshape(2,2)\n",
    "    sns.heatmap(NB_cm,annot=labels,fmt='')\n",
    "    plt.title(model_name)\n",
    "    plt.ylabel('True label',fontweight='bold')\n",
    "    plt.xlabel('Predicted label',fontweight='bold')\n",
    "    plt.savefig(f\"{save_location}{model_name}\",dpi=300,bbox_inches='tight', transparent=True)"
   ]
  },
  {
   "cell_type": "code",
   "execution_count": 37,
   "id": "8e0526e0-c733-4bf2-984b-186324dc0f4c",
   "metadata": {},
   "outputs": [],
   "source": [
    "def evaluation_report(clf_model, X_test, y_test, algo=None, sampling=None):\n",
    "    # Test set prediction\n",
    "    y_prob=clf_model.predict_proba(X_test)\n",
    "    y_pred=clf_model.predict(X_test)\n",
    "\n",
    "    \n",
    "    print('Classification Report')\n",
    "    print('='*60)\n",
    "    print(classification_report(y_test,y_pred),\"\\n\")\n",
    "    print('AUC-ROC')\n",
    "    print('='*60)\n",
    "    print(roc_auc_score(y_test, y_prob[:,1]))\n",
    "    print('='*60)\n",
    "    print('Confusion Matrix')\n",
    "    confusion_matrix_build(y_test, y_pred, f\"{algo}{sampling}\")\n",
    "          \n",
    "    model.append(algo)\n",
    "    precision.append(precision_score(y_test,y_pred))\n",
    "    recall.append(recall_score(y_test,y_pred))\n",
    "    F1score.append(f1_score(y_test,y_pred))\n",
    "    AUCROC.append(roc_auc_score(y_test, y_prob[:,1]))\n",
    "    resample.append(sampling)"
   ]
  },
  {
   "cell_type": "markdown",
   "id": "f0d12677-7238-419d-a57f-8690319d2e84",
   "metadata": {
    "jp-MarkdownHeadingCollapsed": true
   },
   "source": [
    "## Gaussian Naive Bayes"
   ]
  },
  {
   "cell_type": "markdown",
   "id": "60e2ffaa-aa52-4466-858b-1a5e471dd4e6",
   "metadata": {},
   "source": [
    "### Gaussian Naive Bayes Original Data"
   ]
  },
  {
   "cell_type": "code",
   "execution_count": 38,
   "id": "recognized-sunset",
   "metadata": {
    "scrolled": true
   },
   "outputs": [
    {
     "name": "stdout",
     "output_type": "stream",
     "text": [
      "Classification Report\n",
      "============================================================\n",
      "              precision    recall  f1-score   support\n",
      "\n",
      "           0       1.00      0.95      0.97  17765364\n",
      "           1       0.01      0.38      0.01     14887\n",
      "\n",
      "    accuracy                           0.95  17780251\n",
      "   macro avg       0.50      0.66      0.49  17780251\n",
      "weighted avg       1.00      0.95      0.97  17780251\n",
      " \n",
      "\n",
      "AUC-ROC\n",
      "============================================================\n",
      "0.8932265190314148\n",
      "============================================================\n",
      "Confusion Matrix\n"
     ]
    },
    {
     "data": {
      "image/png": "[encoded data removed]",
      "text/plain": [
       "<Figure size 432x288 with 2 Axes>"
      ]
     },
     "metadata": {
      "needs_background": "light"
     },
     "output_type": "display_data"
    }
   ],
   "source": [
    "NB= GaussianNB(var_smoothing= 0.0002848035868435802)\n",
    "NB.fit(X_train, y_train)\n",
    "\n",
    "evaluation_report(NB, X_test, y_test, 'Gaussian Naive Bayes', ' Original Data')"
   ]
  },
  {
   "cell_type": "code",
   "execution_count": 39,
   "id": "83eda793-9767-4f15-91ff-ae5312e5e8a0",
   "metadata": {},
   "outputs": [
    {
     "name": "stdout",
     "output_type": "stream",
     "text": [
      "Fitting 3 folds for each of 10 candidates, totalling 30 fits\n",
      "[CV] END ................var_smoothing=2.848035868435799e-08; total time=  23.5s\n",
      "[CV] END ................var_smoothing=2.848035868435799e-08; total time=  38.7s\n",
      "[CV] END ................var_smoothing=2.848035868435799e-08; total time=  24.5s\n",
      "[CV] END ...............var_smoothing=1.5199110829529332e-05; total time=  22.5s\n",
      "[CV] END ...............var_smoothing=1.5199110829529332e-05; total time=  22.2s\n",
      "[CV] END ...............var_smoothing=1.5199110829529332e-05; total time=  22.7s\n",
      "[CV] END ...............var_smoothing=4.3287612810830526e-07; total time=  21.7s\n",
      "[CV] END ...............var_smoothing=4.3287612810830526e-07; total time=  19.8s\n",
      "[CV] END ...............var_smoothing=4.3287612810830526e-07; total time=  20.3s\n",
      "[CV] END ................var_smoothing=8.111308307896872e-05; total time=  19.7s\n",
      "[CV] END ................var_smoothing=8.111308307896872e-05; total time=  19.7s\n",
      "[CV] END ................var_smoothing=8.111308307896872e-05; total time=  19.4s\n",
      "[CV] END ...............................var_smoothing=0.0001; total time=  18.8s\n",
      "[CV] END ...............................var_smoothing=0.0001; total time=  19.3s\n",
      "[CV] END ...............................var_smoothing=0.0001; total time=  19.1s\n",
      "[CV] END ................var_smoothing=0.0002848035868435802; total time=  18.6s\n",
      "[CV] END ................var_smoothing=0.0002848035868435802; total time=  18.7s\n",
      "[CV] END ................var_smoothing=0.0002848035868435802; total time=  18.6s\n",
      "[CV] END .................................var_smoothing=0.01; total time=  18.2s\n",
      "[CV] END .................................var_smoothing=0.01; total time=  18.3s\n",
      "[CV] END .................................var_smoothing=0.01; total time=  18.2s\n",
      "[CV] END ................var_smoothing=5.336699231206302e-08; total time=  18.8s\n",
      "[CV] END ................var_smoothing=5.336699231206302e-08; total time=  18.7s\n",
      "[CV] END ................var_smoothing=5.336699231206302e-08; total time=  19.2s\n",
      "[CV] END ..................var_smoothing=0.12328467394420659; total time=  18.2s\n",
      "[CV] END ..................var_smoothing=0.12328467394420659; total time=  18.3s\n",
      "[CV] END ..................var_smoothing=0.12328467394420659; total time=  18.2s\n",
      "[CV] END ..................................var_smoothing=1.0; total time=  18.7s\n",
      "[CV] END ..................................var_smoothing=1.0; total time=  25.4s\n",
      "[CV] END ..................................var_smoothing=1.0; total time=  23.9s\n"
     ]
    },
    {
     "data": {
      "text/plain": [
       "{'var_smoothing': 0.0002848035868435802}"
      ]
     },
     "execution_count": 39,
     "metadata": {},
     "output_type": "execute_result"
    }
   ],
   "source": [
    "#Hyperparameter Tuning for Gaussian Naive Bayes\n",
    "params_NB = {'var_smoothing': np.logspace(0,-9, num=100)}\n",
    "NB = GaussianNB(var_smoothing= 0.0002848035868435802)\n",
    "NB_ran = RandomizedSearchCV(NB, param_distributions=params_NB, \n",
    "                            verbose=2, cv=3, random_state=42, n_iter=10, scoring='f1')\n",
    "NB_ran.fit(X_train, y_train)\n",
    "NB_ran.best_params_"
   ]
  },
  {
   "cell_type": "markdown",
   "id": "834e1ee9-b296-4873-b692-cda4b09842bb",
   "metadata": {},
   "source": [
    "### Gaussian -- SMOTE + RAND || 1:1"
   ]
  },
  {
   "cell_type": "code",
   "execution_count": 40,
   "id": "6592e9b0-b471-40fa-a4b6-22b3bcd25a67",
   "metadata": {},
   "outputs": [
    {
     "name": "stdout",
     "output_type": "stream",
     "text": [
      "Classification Report\n",
      "============================================================\n",
      "              precision    recall  f1-score   support\n",
      "\n",
      "           0       1.00      0.59      0.74  17765364\n",
      "           1       0.00      0.97      0.00     14887\n",
      "\n",
      "    accuracy                           0.59  17780251\n",
      "   macro avg       0.50      0.78      0.37  17780251\n",
      "weighted avg       1.00      0.59      0.74  17780251\n",
      " \n",
      "\n",
      "AUC-ROC\n",
      "============================================================\n",
      "0.8931800104266978\n",
      "============================================================\n",
      "Confusion Matrix\n"
     ]
    },
    {
     "data": {
      "image/png": "[encoded data removed]",
      "text/plain": [
       "<Figure size 432x288 with 2 Axes>"
      ]
     },
     "metadata": {
      "needs_background": "light"
     },
     "output_type": "display_data"
    }
   ],
   "source": [
    "NB.fit(X_train_1_1, y_train_1_1)\n",
    "\n",
    "evaluation_report(NB, X_test, y_test, 'Gaussian Naive Bayes', ' SMOTE 1:1')"
   ]
  },
  {
   "cell_type": "markdown",
   "id": "f45eba7d-7eae-405b-8a80-0282013a0886",
   "metadata": {},
   "source": [
    "### Gaussian -- SMOTE + RAND || 2:1"
   ]
  },
  {
   "cell_type": "code",
   "execution_count": 41,
   "id": "b9fabc6f",
   "metadata": {},
   "outputs": [
    {
     "name": "stdout",
     "output_type": "stream",
     "text": [
      "Classification Report\n",
      "============================================================\n",
      "              precision    recall  f1-score   support\n",
      "\n",
      "           0       1.00      0.61      0.76  17765364\n",
      "           1       0.00      0.97      0.00     14887\n",
      "\n",
      "    accuracy                           0.61  17780251\n",
      "   macro avg       0.50      0.79      0.38  17780251\n",
      "weighted avg       1.00      0.61      0.76  17780251\n",
      " \n",
      "\n",
      "AUC-ROC\n",
      "============================================================\n",
      "0.8931969344357357\n",
      "============================================================\n",
      "Confusion Matrix\n"
     ]
    },
    {
     "data": {
      "image/png": "[encoded data removed]",
      "text/plain": [
       "<Figure size 432x288 with 2 Axes>"
      ]
     },
     "metadata": {
      "needs_background": "light"
     },
     "output_type": "display_data"
    }
   ],
   "source": [
    "NB.fit(X_train_2_1, y_train_2_1)\n",
    "\n",
    "evaluation_report(NB, X_test, y_test, 'Gaussian Naive Bayes', ' SMOTE 2:1')"
   ]
  },
  {
   "cell_type": "markdown",
   "id": "0730dd17-1b3c-4893-8f2b-256af6d2c055",
   "metadata": {},
   "source": [
    "### Gaussian -- SMOTE + RAND || 4:1"
   ]
  },
  {
   "cell_type": "code",
   "execution_count": 42,
   "id": "9eb92d72",
   "metadata": {},
   "outputs": [
    {
     "name": "stdout",
     "output_type": "stream",
     "text": [
      "Classification Report\n",
      "============================================================\n",
      "              precision    recall  f1-score   support\n",
      "\n",
      "           0       1.00      0.64      0.78  17765364\n",
      "           1       0.00      0.96      0.00     14887\n",
      "\n",
      "    accuracy                           0.64  17780251\n",
      "   macro avg       0.50      0.80      0.39  17780251\n",
      "weighted avg       1.00      0.64      0.78  17780251\n",
      " \n",
      "\n",
      "AUC-ROC\n",
      "============================================================\n",
      "0.8932015656272788\n",
      "============================================================\n",
      "Confusion Matrix\n"
     ]
    },
    {
     "data": {
      "image/png": "[encoded data removed]",
      "text/plain": [
       "<Figure size 432x288 with 2 Axes>"
      ]
     },
     "metadata": {
      "needs_background": "light"
     },
     "output_type": "display_data"
    }
   ],
   "source": [
    "NB.fit(X_train_4_1, y_train_4_1)\n",
    "\n",
    "evaluation_report(NB, X_test, y_test, 'Gaussian Naive Bayes', ' SMOTE 4:1')"
   ]
  },
  {
   "cell_type": "markdown",
   "id": "0d282480-e556-4e24-9658-eff8eff90639",
   "metadata": {},
   "source": [
    "### Gaussian -- SMOTE + RAND || 10:1"
   ]
  },
  {
   "cell_type": "code",
   "execution_count": 43,
   "id": "c68258ba",
   "metadata": {},
   "outputs": [
    {
     "name": "stdout",
     "output_type": "stream",
     "text": [
      "Classification Report\n",
      "============================================================\n",
      "              precision    recall  f1-score   support\n",
      "\n",
      "           0       1.00      0.68      0.81  17765364\n",
      "           1       0.00      0.95      0.00     14887\n",
      "\n",
      "    accuracy                           0.68  17780251\n",
      "   macro avg       0.50      0.82      0.41  17780251\n",
      "weighted avg       1.00      0.68      0.81  17780251\n",
      " \n",
      "\n",
      "AUC-ROC\n",
      "============================================================\n",
      "0.8932046875984501\n",
      "============================================================\n",
      "Confusion Matrix\n"
     ]
    },
    {
     "data": {
      "image/png": "[encoded data removed]",
      "text/plain": [
       "<Figure size 432x288 with 2 Axes>"
      ]
     },
     "metadata": {
      "needs_background": "light"
     },
     "output_type": "display_data"
    }
   ],
   "source": [
    "NB.fit(X_train_10_1, y_train_10_1)\n",
    "\n",
    "evaluation_report(NB, X_test, y_test, 'Gaussian Naive Bayes', ' SMOTE 10:1')"
   ]
  },
  {
   "cell_type": "markdown",
   "id": "amber-yahoo",
   "metadata": {},
   "source": [
    "## K - Nearest Neighbors"
   ]
  },
  {
   "cell_type": "code",
   "execution_count": 44,
   "id": "03a7845f-aaf3-48b6-9c79-df4ff1e524c4",
   "metadata": {},
   "outputs": [
    {
     "name": "stdout",
     "output_type": "stream",
     "text": [
      "Classification Report\n",
      "============================================================\n",
      "              precision    recall  f1-score   support\n",
      "\n",
      "           0       1.00      1.00      1.00  17765364\n",
      "           1       0.58      0.05      0.09     14887\n",
      "\n",
      "    accuracy                           1.00  17780251\n",
      "   macro avg       0.79      0.52      0.55  17780251\n",
      "weighted avg       1.00      1.00      1.00  17780251\n",
      " \n",
      "\n",
      "AUC-ROC\n",
      "============================================================\n",
      "0.8332967949760915\n",
      "============================================================\n",
      "Confusion Matrix\n"
     ]
    },
    {
     "data": {
      "image/png": "[encoded data removed]",
      "text/plain": [
       "<Figure size 432x288 with 2 Axes>"
      ]
     },
     "metadata": {
      "needs_background": "light"
     },
     "output_type": "display_data"
    }
   ],
   "source": [
    "KNN = KNeighborsClassifier(metric= 'euclidean', n_neighbors= 13, weights='uniform', n_jobs=-1)  \n",
    "KNN.fit(X_train, y_train)\n",
    "\n",
    "evaluation_report(KNN, X_test, y_test, 'KNN', ' Original Data')"
   ]
  },
  {
   "cell_type": "markdown",
   "id": "583e77dc-84b8-4820-9354-5fd40bfdc626",
   "metadata": {},
   "source": [
    "### KNN -- SMOTE + RAND || 1:1"
   ]
  },
  {
   "cell_type": "code",
   "execution_count": 45,
   "id": "39e8143e-7e0a-4168-9990-45e55e877b6e",
   "metadata": {},
   "outputs": [
    {
     "name": "stdout",
     "output_type": "stream",
     "text": [
      "Classification Report\n",
      "============================================================\n",
      "              precision    recall  f1-score   support\n",
      "\n",
      "           0       1.00      0.97      0.98  17765364\n",
      "           1       0.02      0.90      0.05     14887\n",
      "\n",
      "    accuracy                           0.97  17780251\n",
      "   macro avg       0.51      0.93      0.52  17780251\n",
      "weighted avg       1.00      0.97      0.98  17780251\n",
      " \n",
      "\n",
      "AUC-ROC\n",
      "============================================================\n",
      "0.9590650202715859\n",
      "============================================================\n",
      "Confusion Matrix\n"
     ]
    },
    {
     "data": {
      "image/png": "[encoded data removed]",
      "text/plain": [
       "<Figure size 432x288 with 2 Axes>"
      ]
     },
     "metadata": {
      "needs_background": "light"
     },
     "output_type": "display_data"
    }
   ],
   "source": [
    "KNN.fit(X_train_1_1, y_train_1_1)\n",
    "\n",
    "evaluation_report(KNN, X_test, y_test, 'KNN ', ' SMOTE 1:1')"
   ]
  },
  {
   "cell_type": "markdown",
   "id": "52afd1e3-5042-4a44-b3ff-2bf3f9c7da99",
   "metadata": {},
   "source": [
    "### KNN -- SMOTE + RAND ||2:1"
   ]
  },
  {
   "cell_type": "code",
   "execution_count": 46,
   "id": "b899f57a-bf25-4d22-a4ec-a386e66909f1",
   "metadata": {},
   "outputs": [
    {
     "name": "stdout",
     "output_type": "stream",
     "text": [
      "Classification Report\n",
      "============================================================\n",
      "              precision    recall  f1-score   support\n",
      "\n",
      "           0       1.00      0.98      0.99  17765364\n",
      "           1       0.04      0.85      0.07     14887\n",
      "\n",
      "    accuracy                           0.98  17780251\n",
      "   macro avg       0.52      0.91      0.53  17780251\n",
      "weighted avg       1.00      0.98      0.99  17780251\n",
      " \n",
      "\n",
      "AUC-ROC\n",
      "============================================================\n",
      "0.9434088521518648\n",
      "============================================================\n",
      "Confusion Matrix\n"
     ]
    },
    {
     "data": {
      "image/png": "[encoded data removed]",
      "text/plain": [
       "<Figure size 432x288 with 2 Axes>"
      ]
     },
     "metadata": {
      "needs_background": "light"
     },
     "output_type": "display_data"
    }
   ],
   "source": [
    "KNN.fit(X_train_2_1, y_train_2_1)\n",
    "\n",
    "evaluation_report(KNN, X_test, y_test, 'KNN ', ' SMOTE 2:1')"
   ]
  },
  {
   "cell_type": "markdown",
   "id": "e5b97b50-0374-4a9d-97b2-ea50f37d684c",
   "metadata": {},
   "source": [
    "### KNN -- SMOTE + RAND || 4:1"
   ]
  },
  {
   "cell_type": "code",
   "execution_count": 47,
   "id": "35234dcd-49e4-41cd-997f-d849e71e178f",
   "metadata": {},
   "outputs": [
    {
     "name": "stdout",
     "output_type": "stream",
     "text": [
      "Classification Report\n",
      "============================================================\n",
      "              precision    recall  f1-score   support\n",
      "\n",
      "           0       1.00      0.99      0.99  17765364\n",
      "           1       0.05      0.79      0.09     14887\n",
      "\n",
      "    accuracy                           0.99  17780251\n",
      "   macro avg       0.53      0.89      0.54  17780251\n",
      "weighted avg       1.00      0.99      0.99  17780251\n",
      " \n",
      "\n",
      "AUC-ROC\n",
      "============================================================\n",
      "0.9218781555622689\n",
      "============================================================\n",
      "Confusion Matrix\n"
     ]
    },
    {
     "data": {
      "image/png": "[encoded data removed]",
      "text/plain": [
       "<Figure size 432x288 with 2 Axes>"
      ]
     },
     "metadata": {
      "needs_background": "light"
     },
     "output_type": "display_data"
    }
   ],
   "source": [
    "KNN.fit(X_train_4_1, y_train_4_1)\n",
    "\n",
    "evaluation_report(KNN, X_test, y_test, 'KNN ', ' SMOTE 4:1')"
   ]
  },
  {
   "cell_type": "markdown",
   "id": "a0a451ed-4dbd-482e-bf8f-28de811aee4c",
   "metadata": {},
   "source": [
    "### KNN -- SMOTE + RAND || 10:1"
   ]
  },
  {
   "cell_type": "code",
   "execution_count": null,
   "id": "13c62a80-8325-4a36-8539-b9c560d196f5",
   "metadata": {},
   "outputs": [],
   "source": [
    "KNN.fit(X_train_10_1, y_train_10_1)\n",
    "\n",
    "evaluation_report(KNN, X_test, y_test, 'KNN ', ' SMOTE 1:10')"
   ]
  }
 ],
 "metadata": {
  "kernelspec": {
   "display_name": "venvpy3",
   "language": "python",
   "name": "venvpy3"
  },
  "language_info": {
   "codemirror_mode": {
    "name": "ipython",
    "version": 3
   },
   "file_extension": ".py",
   "mimetype": "text/x-python",
   "name": "python",
   "nbconvert_exporter": "python",
   "pygments_lexer": "ipython3",
   "version": "3.10.12"
  }
 },
 "nbformat": 4,
 "nbformat_minor": 5
}
