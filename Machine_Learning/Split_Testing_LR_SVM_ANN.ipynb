{
 "cells": [
  {
   "cell_type": "code",
   "execution_count": null,
   "id": "e0c57b7f-15a2-45b3-bd78-5f9d053523b4",
   "metadata": {},
   "outputs": [],
   "source": [
    "# This file was used to test 4 different ratios of undersampled data to oversampled\n",
    "# We used SMOTE to oversample and RandomUndersampler to undersample the imbalanced data\n",
    "# We tested different ratios of 1:1, 2:1, 4:1, 10:1\n",
    "# This test was split into two files with the other ML models being tested in the other file \n",
    "# This was made so you can run the tests on two different nodes at the same time, since the file takes ~20-30 hours to run"
   ]
  },
  {
   "cell_type": "code",
   "execution_count": 2,
   "id": "3b282e3b",
   "metadata": {
    "scrolled": true
   },
   "outputs": [],
   "source": [
    "#Load libaries\n",
    "import os\n",
    "import pandas as pd \n",
    "import seaborn as sns\n",
    "import numpy as np \n",
    "import matplotlib.pyplot as plt \n",
    "from pydotplus import graph_from_dot_data\n",
    "from sklearn import preprocessing\n",
    "from sklearn.preprocessing import StandardScaler, LabelEncoder\n",
    "from scipy import stats\n",
    "from sklearn.linear_model import LogisticRegression\n",
    "from sklearn.naive_bayes import MultinomialNB\n",
    "from sklearn.naive_bayes import GaussianNB\n",
    "from sklearn.neighbors import KNeighborsClassifier\n",
    "from sklearn.ensemble import RandomForestClassifier, RandomForestRegressor\n",
    "from sklearn.svm import SVC \n",
    "from sklearn import svm, metrics\n",
    "from sklearn.model_selection import GridSearchCV, RandomizedSearchCV\n",
    "from sklearn.metrics import confusion_matrix, classification_report\n",
    "from sklearn.model_selection import train_test_split, GridSearchCV, cross_validate, cross_val_score, KFold\n",
    "from sklearn.model_selection import RepeatedStratifiedKFold\n",
    "from sklearn.linear_model import ElasticNet\n",
    "from sklearn.metrics import mean_squared_error\n",
    "from sklearn.metrics import roc_curve\n",
    "from sklearn.metrics import roc_auc_score, accuracy_score, f1_score, precision_score, recall_score\n",
    "from collections import Counter\n",
    "\n",
    "import warnings\n",
    "warnings.filterwarnings('ignore')\n",
    "            "
   ]
  },
  {
   "cell_type": "code",
   "execution_count": 3,
   "id": "1bb73311",
   "metadata": {},
   "outputs": [],
   "source": [
    "#Load datasets\n",
    "data = pd.read_csv('2013_4month.csv', on_bad_lines='skip')   "
   ]
  },
  {
   "cell_type": "markdown",
   "id": "e7fd8bb3-efe9-4081-b11f-4aa932689cc3",
   "metadata": {},
   "source": [
    "### Looking into 2013 Data"
   ]
  },
  {
   "cell_type": "code",
   "execution_count": 4,
   "id": "67f3fe1c-7a2d-419e-b51a-d95dae950dca",
   "metadata": {},
   "outputs": [],
   "source": [
    "full_data = pd.read_csv('2013-data-output.csv', on_bad_lines='skip')   "
   ]
  },
  {
   "cell_type": "code",
   "execution_count": 5,
   "id": "f9c20256-66e7-4a10-a033-8d60e290322a",
   "metadata": {},
   "outputs": [],
   "source": [
    "#full_data.describe()"
   ]
  },
  {
   "cell_type": "code",
   "execution_count": 6,
   "id": "c9686bdb-4801-423b-a7a0-aa7b27900e6e",
   "metadata": {
    "scrolled": true
   },
   "outputs": [
    {
     "data": {
      "text/plain": [
       "Unnamed: 0    0\n",
       "Date          0\n",
       "Longitude     0\n",
       "Latitude      0\n",
       "EVI           0\n",
       "TA            0\n",
       "LST           0\n",
       "Wind          0\n",
       "Fire          0\n",
       "dtype: int64"
      ]
     },
     "execution_count": 6,
     "metadata": {},
     "output_type": "execute_result"
    }
   ],
   "source": [
    "full_data.isnull().sum() # return number of missing value for each column"
   ]
  },
  {
   "cell_type": "code",
   "execution_count": 7,
   "id": "74d111ba-a107-436b-b82e-f30d2e0156b4",
   "metadata": {},
   "outputs": [
    {
     "data": {
      "text/plain": [
       "0    97686307\n",
       "1       80038\n",
       "Name: Fire, dtype: int64"
      ]
     },
     "execution_count": 7,
     "metadata": {},
     "output_type": "execute_result"
    }
   ],
   "source": [
    "Count=full_data.Fire.value_counts() #count target feature \n",
    "Count"
   ]
  },
  {
   "cell_type": "code",
   "execution_count": 8,
   "id": "c990d17e-ca03-41d9-a79b-6dd52a91b956",
   "metadata": {},
   "outputs": [
    {
     "name": "stdout",
     "output_type": "stream",
     "text": [
      "Proportion: 1220.5 : 1\n"
     ]
    }
   ],
   "source": [
    "print('Proportion:', round(Count[0] / Count[1], 2), ': 1')"
   ]
  },
  {
   "cell_type": "code",
   "execution_count": 9,
   "id": "9c495a37-9bce-459a-8847-3c2b5be31a7e",
   "metadata": {},
   "outputs": [],
   "source": [
    "data = full_data"
   ]
  },
  {
   "cell_type": "markdown",
   "id": "0d35feef",
   "metadata": {},
   "source": [
    "# Cleaning the data"
   ]
  },
  {
   "cell_type": "markdown",
   "id": "e646cac3-18f2-47a5-857a-a5ac5861387d",
   "metadata": {},
   "source": [
    "## Isolating to a spacific range of dataes"
   ]
  },
  {
   "cell_type": "code",
   "execution_count": 10,
   "id": "24b8cd5b-0f9e-4ea9-8a62-70973266f4e8",
   "metadata": {},
   "outputs": [],
   "source": [
    "# Create a boolean mask for x days\n",
    "#mask = (data['Date'] >= '2013-01-02') & (data['Date'] <= '2013-02-02')\n",
    "#data = data[mask]\n",
    "#data.Date.value_counts()"
   ]
  },
  {
   "cell_type": "markdown",
   "id": "85e1527a-0414-4963-9f3e-b04ef13e42a3",
   "metadata": {},
   "source": [
    "## Data Cleaning"
   ]
  },
  {
   "cell_type": "code",
   "execution_count": 11,
   "id": "linear-facing",
   "metadata": {
    "scrolled": true
   },
   "outputs": [
    {
     "data": {
      "text/html": [
       "<div>\n",
       "<style scoped>\n",
       "    .dataframe tbody tr th:only-of-type {\n",
       "        vertical-align: middle;\n",
       "    }\n",
       "\n",
       "    .dataframe tbody tr th {\n",
       "        vertical-align: top;\n",
       "    }\n",
       "\n",
       "    .dataframe thead th {\n",
       "        text-align: right;\n",
       "    }\n",
       "</style>\n",
       "<table border=\"1\" class=\"dataframe\">\n",
       "  <thead>\n",
       "    <tr style=\"text-align: right;\">\n",
       "      <th></th>\n",
       "      <th>Unnamed: 0</th>\n",
       "      <th>Date</th>\n",
       "      <th>Longitude</th>\n",
       "      <th>Latitude</th>\n",
       "      <th>EVI</th>\n",
       "      <th>TA</th>\n",
       "      <th>LST</th>\n",
       "      <th>Wind</th>\n",
       "      <th>Fire</th>\n",
       "    </tr>\n",
       "  </thead>\n",
       "  <tbody>\n",
       "    <tr>\n",
       "      <th>0</th>\n",
       "      <td>0</td>\n",
       "      <td>2013-01-01</td>\n",
       "      <td>-123.754626</td>\n",
       "      <td>41.994986</td>\n",
       "      <td>3308</td>\n",
       "      <td>5</td>\n",
       "      <td>0</td>\n",
       "      <td>21</td>\n",
       "      <td>0</td>\n",
       "    </tr>\n",
       "    <tr>\n",
       "      <th>1</th>\n",
       "      <td>1</td>\n",
       "      <td>2013-01-01</td>\n",
       "      <td>-123.750462</td>\n",
       "      <td>41.994986</td>\n",
       "      <td>3477</td>\n",
       "      <td>5</td>\n",
       "      <td>0</td>\n",
       "      <td>21</td>\n",
       "      <td>0</td>\n",
       "    </tr>\n",
       "    <tr>\n",
       "      <th>2</th>\n",
       "      <td>2</td>\n",
       "      <td>2013-01-01</td>\n",
       "      <td>-123.746298</td>\n",
       "      <td>41.994986</td>\n",
       "      <td>3477</td>\n",
       "      <td>5</td>\n",
       "      <td>0</td>\n",
       "      <td>21</td>\n",
       "      <td>0</td>\n",
       "    </tr>\n",
       "    <tr>\n",
       "      <th>3</th>\n",
       "      <td>3</td>\n",
       "      <td>2013-01-01</td>\n",
       "      <td>-123.742134</td>\n",
       "      <td>41.994986</td>\n",
       "      <td>4475</td>\n",
       "      <td>5</td>\n",
       "      <td>0</td>\n",
       "      <td>21</td>\n",
       "      <td>0</td>\n",
       "    </tr>\n",
       "    <tr>\n",
       "      <th>4</th>\n",
       "      <td>4</td>\n",
       "      <td>2013-01-01</td>\n",
       "      <td>-123.737970</td>\n",
       "      <td>41.994986</td>\n",
       "      <td>3000</td>\n",
       "      <td>5</td>\n",
       "      <td>13707</td>\n",
       "      <td>21</td>\n",
       "      <td>0</td>\n",
       "    </tr>\n",
       "  </tbody>\n",
       "</table>\n",
       "</div>"
      ],
      "text/plain": [
       "   Unnamed: 0        Date   Longitude   Latitude   EVI  TA    LST  Wind  Fire\n",
       "0           0  2013-01-01 -123.754626  41.994986  3308   5      0    21     0\n",
       "1           1  2013-01-01 -123.750462  41.994986  3477   5      0    21     0\n",
       "2           2  2013-01-01 -123.746298  41.994986  3477   5      0    21     0\n",
       "3           3  2013-01-01 -123.742134  41.994986  4475   5      0    21     0\n",
       "4           4  2013-01-01 -123.737970  41.994986  3000   5  13707    21     0"
      ]
     },
     "execution_count": 11,
     "metadata": {},
     "output_type": "execute_result"
    }
   ],
   "source": [
    "data.head()"
   ]
  },
  {
   "cell_type": "code",
   "execution_count": 12,
   "id": "b2fe6a74",
   "metadata": {},
   "outputs": [],
   "source": [
    "data = data[data['Date'] != '2013-01-01'] #Dropping the first day that has missing LST data"
   ]
  },
  {
   "cell_type": "code",
   "execution_count": 13,
   "id": "10ef5c17",
   "metadata": {},
   "outputs": [
    {
     "data": {
      "text/html": [
       "<div>\n",
       "<style scoped>\n",
       "    .dataframe tbody tr th:only-of-type {\n",
       "        vertical-align: middle;\n",
       "    }\n",
       "\n",
       "    .dataframe tbody tr th {\n",
       "        vertical-align: top;\n",
       "    }\n",
       "\n",
       "    .dataframe thead th {\n",
       "        text-align: right;\n",
       "    }\n",
       "</style>\n",
       "<table border=\"1\" class=\"dataframe\">\n",
       "  <thead>\n",
       "    <tr style=\"text-align: right;\">\n",
       "      <th></th>\n",
       "      <th>Unnamed: 0</th>\n",
       "      <th>Date</th>\n",
       "      <th>Longitude</th>\n",
       "      <th>Latitude</th>\n",
       "      <th>EVI</th>\n",
       "      <th>TA</th>\n",
       "      <th>LST</th>\n",
       "      <th>Wind</th>\n",
       "      <th>Fire</th>\n",
       "    </tr>\n",
       "  </thead>\n",
       "  <tbody>\n",
       "    <tr>\n",
       "      <th>267853</th>\n",
       "      <td>267853</td>\n",
       "      <td>2013-01-02</td>\n",
       "      <td>-123.754626</td>\n",
       "      <td>41.994986</td>\n",
       "      <td>3375</td>\n",
       "      <td>5</td>\n",
       "      <td>13639</td>\n",
       "      <td>26</td>\n",
       "      <td>0</td>\n",
       "    </tr>\n",
       "    <tr>\n",
       "      <th>267854</th>\n",
       "      <td>267854</td>\n",
       "      <td>2013-01-02</td>\n",
       "      <td>-123.750462</td>\n",
       "      <td>41.994986</td>\n",
       "      <td>3524</td>\n",
       "      <td>5</td>\n",
       "      <td>13639</td>\n",
       "      <td>26</td>\n",
       "      <td>0</td>\n",
       "    </tr>\n",
       "    <tr>\n",
       "      <th>267855</th>\n",
       "      <td>267855</td>\n",
       "      <td>2013-01-02</td>\n",
       "      <td>-123.746298</td>\n",
       "      <td>41.994986</td>\n",
       "      <td>3524</td>\n",
       "      <td>5</td>\n",
       "      <td>13639</td>\n",
       "      <td>26</td>\n",
       "      <td>0</td>\n",
       "    </tr>\n",
       "    <tr>\n",
       "      <th>267856</th>\n",
       "      <td>267856</td>\n",
       "      <td>2013-01-02</td>\n",
       "      <td>-123.742134</td>\n",
       "      <td>41.994986</td>\n",
       "      <td>4460</td>\n",
       "      <td>5</td>\n",
       "      <td>13639</td>\n",
       "      <td>26</td>\n",
       "      <td>0</td>\n",
       "    </tr>\n",
       "    <tr>\n",
       "      <th>267857</th>\n",
       "      <td>267857</td>\n",
       "      <td>2013-01-02</td>\n",
       "      <td>-123.737970</td>\n",
       "      <td>41.994986</td>\n",
       "      <td>3115</td>\n",
       "      <td>5</td>\n",
       "      <td>13677</td>\n",
       "      <td>26</td>\n",
       "      <td>0</td>\n",
       "    </tr>\n",
       "  </tbody>\n",
       "</table>\n",
       "</div>"
      ],
      "text/plain": [
       "        Unnamed: 0        Date   Longitude   Latitude   EVI  TA    LST  Wind  \\\n",
       "267853      267853  2013-01-02 -123.754626  41.994986  3375   5  13639    26   \n",
       "267854      267854  2013-01-02 -123.750462  41.994986  3524   5  13639    26   \n",
       "267855      267855  2013-01-02 -123.746298  41.994986  3524   5  13639    26   \n",
       "267856      267856  2013-01-02 -123.742134  41.994986  4460   5  13639    26   \n",
       "267857      267857  2013-01-02 -123.737970  41.994986  3115   5  13677    26   \n",
       "\n",
       "        Fire  \n",
       "267853     0  \n",
       "267854     0  \n",
       "267855     0  \n",
       "267856     0  \n",
       "267857     0  "
      ]
     },
     "execution_count": 13,
     "metadata": {},
     "output_type": "execute_result"
    }
   ],
   "source": [
    "data.head()"
   ]
  },
  {
   "cell_type": "code",
   "execution_count": 14,
   "id": "sudden-termination",
   "metadata": {},
   "outputs": [
    {
     "data": {
      "text/html": [
       "<div>\n",
       "<style scoped>\n",
       "    .dataframe tbody tr th:only-of-type {\n",
       "        vertical-align: middle;\n",
       "    }\n",
       "\n",
       "    .dataframe tbody tr th {\n",
       "        vertical-align: top;\n",
       "    }\n",
       "\n",
       "    .dataframe thead th {\n",
       "        text-align: right;\n",
       "    }\n",
       "</style>\n",
       "<table border=\"1\" class=\"dataframe\">\n",
       "  <thead>\n",
       "    <tr style=\"text-align: right;\">\n",
       "      <th></th>\n",
       "      <th>Unnamed: 0</th>\n",
       "      <th>EVI</th>\n",
       "      <th>TA</th>\n",
       "      <th>LST</th>\n",
       "      <th>Wind</th>\n",
       "      <th>Fire</th>\n",
       "    </tr>\n",
       "  </thead>\n",
       "  <tbody>\n",
       "    <tr>\n",
       "      <th>267853</th>\n",
       "      <td>267853</td>\n",
       "      <td>3375</td>\n",
       "      <td>5</td>\n",
       "      <td>13639</td>\n",
       "      <td>26</td>\n",
       "      <td>0</td>\n",
       "    </tr>\n",
       "    <tr>\n",
       "      <th>267854</th>\n",
       "      <td>267854</td>\n",
       "      <td>3524</td>\n",
       "      <td>5</td>\n",
       "      <td>13639</td>\n",
       "      <td>26</td>\n",
       "      <td>0</td>\n",
       "    </tr>\n",
       "    <tr>\n",
       "      <th>267855</th>\n",
       "      <td>267855</td>\n",
       "      <td>3524</td>\n",
       "      <td>5</td>\n",
       "      <td>13639</td>\n",
       "      <td>26</td>\n",
       "      <td>0</td>\n",
       "    </tr>\n",
       "    <tr>\n",
       "      <th>267856</th>\n",
       "      <td>267856</td>\n",
       "      <td>4460</td>\n",
       "      <td>5</td>\n",
       "      <td>13639</td>\n",
       "      <td>26</td>\n",
       "      <td>0</td>\n",
       "    </tr>\n",
       "    <tr>\n",
       "      <th>267857</th>\n",
       "      <td>267857</td>\n",
       "      <td>3115</td>\n",
       "      <td>5</td>\n",
       "      <td>13677</td>\n",
       "      <td>26</td>\n",
       "      <td>0</td>\n",
       "    </tr>\n",
       "  </tbody>\n",
       "</table>\n",
       "</div>"
      ],
      "text/plain": [
       "        Unnamed: 0   EVI  TA    LST  Wind  Fire\n",
       "267853      267853  3375   5  13639    26     0\n",
       "267854      267854  3524   5  13639    26     0\n",
       "267855      267855  3524   5  13639    26     0\n",
       "267856      267856  4460   5  13639    26     0\n",
       "267857      267857  3115   5  13677    26     0"
      ]
     },
     "execution_count": 14,
     "metadata": {},
     "output_type": "execute_result"
    }
   ],
   "source": [
    "#if 'Date' in data:\n",
    "data = data.drop(['Date', 'Longitude', 'Latitude'], axis = 1) \n",
    "data.head()"
   ]
  },
  {
   "cell_type": "code",
   "execution_count": 15,
   "id": "special-alfred",
   "metadata": {
    "scrolled": true
   },
   "outputs": [
    {
     "data": {
      "text/plain": [
       "Unnamed: 0    0\n",
       "EVI           0\n",
       "TA            0\n",
       "LST           0\n",
       "Wind          0\n",
       "Fire          0\n",
       "dtype: int64"
      ]
     },
     "execution_count": 15,
     "metadata": {},
     "output_type": "execute_result"
    }
   ],
   "source": [
    "data.isnull().sum() # return number of missing value for each column"
   ]
  },
  {
   "cell_type": "code",
   "execution_count": 16,
   "id": "f367e0de-91f9-422e-8b01-ac9b5c6ce6e2",
   "metadata": {},
   "outputs": [
    {
     "data": {
      "text/plain": [
       "Unnamed: 0    0\n",
       "EVI           0\n",
       "TA            0\n",
       "LST           0\n",
       "Wind          0\n",
       "Fire          0\n",
       "dtype: int64"
      ]
     },
     "execution_count": 16,
     "metadata": {},
     "output_type": "execute_result"
    }
   ],
   "source": [
    "data.dropna(axis=0, inplace=True) # drop the rows with null values\n",
    "data.isnull().sum() # return number of missing value for each column"
   ]
  },
  {
   "cell_type": "code",
   "execution_count": 17,
   "id": "external-seating",
   "metadata": {
    "scrolled": true
   },
   "outputs": [
    {
     "data": {
      "text/plain": [
       " 5      88881052\n",
       " 4       7813898\n",
       " 3        777155\n",
       " 9         12990\n",
       " 8          6266\n",
       "-999        6188\n",
       " 7           919\n",
       " 6            24\n",
       "Name: TA, dtype: int64"
      ]
     },
     "execution_count": 17,
     "metadata": {},
     "output_type": "execute_result"
    }
   ],
   "source": [
    "data.TA.value_counts()"
   ]
  },
  {
   "cell_type": "code",
   "execution_count": 18,
   "id": "legendary-greeting",
   "metadata": {},
   "outputs": [],
   "source": [
    "data = data[data.TA !=-999] \n",
    "data = data[data.TA != 3]\n",
    "data = data[data.TA != 4]"
   ]
  },
  {
   "cell_type": "code",
   "execution_count": 19,
   "id": "eight-simulation",
   "metadata": {},
   "outputs": [
    {
     "data": {
      "text/plain": [
       "5    88881052\n",
       "9       12990\n",
       "8        6266\n",
       "7         919\n",
       "6          24\n",
       "Name: TA, dtype: int64"
      ]
     },
     "execution_count": 19,
     "metadata": {},
     "output_type": "execute_result"
    }
   ],
   "source": [
    "data.TA.value_counts()"
   ]
  },
  {
   "cell_type": "code",
   "execution_count": 20,
   "id": "shaped-banner",
   "metadata": {},
   "outputs": [
    {
     "name": "stdout",
     "output_type": "stream",
     "text": [
      "Proportion: 1209.89 : 1\n"
     ]
    },
    {
     "data": {
      "text/plain": [
       "0    88827833\n",
       "1       73418\n",
       "Name: Fire, dtype: int64"
      ]
     },
     "execution_count": 20,
     "metadata": {},
     "output_type": "execute_result"
    }
   ],
   "source": [
    "Count=data.Fire.value_counts() #count target feature \n",
    "print('Proportion:', round(Count[0] / Count[1], 2), ': 1')\n",
    "Count"
   ]
  },
  {
   "cell_type": "code",
   "execution_count": 21,
   "id": "portuguese-macro",
   "metadata": {},
   "outputs": [
    {
     "data": {
      "text/plain": [
       "0        112921\n",
       "15062     56627\n",
       "15060     56322\n",
       "15027     56241\n",
       "15084     56220\n",
       "          ...  \n",
       "17283         1\n",
       "12859         1\n",
       "16890         1\n",
       "12797         1\n",
       "16886         1\n",
       "Name: LST, Length: 3990, dtype: int64"
      ]
     },
     "execution_count": 21,
     "metadata": {},
     "output_type": "execute_result"
    }
   ],
   "source": [
    "data.LST.value_counts()"
   ]
  },
  {
   "cell_type": "code",
   "execution_count": 22,
   "id": "right-closer",
   "metadata": {},
   "outputs": [
    {
     "name": "stdout",
     "output_type": "stream",
     "text": [
      "<class 'pandas.core.frame.DataFrame'>\n",
      "Int64Index: 88901251 entries, 267853 to 97766344\n",
      "Data columns (total 6 columns):\n",
      " #   Column      Dtype\n",
      "---  ------      -----\n",
      " 0   Unnamed: 0  int64\n",
      " 1   EVI         int64\n",
      " 2   TA          int64\n",
      " 3   LST         int64\n",
      " 4   Wind        int64\n",
      " 5   Fire        int64\n",
      "dtypes: int64(6)\n",
      "memory usage: 4.6 GB\n"
     ]
    }
   ],
   "source": [
    "data.info()"
   ]
  },
  {
   "cell_type": "code",
   "execution_count": 23,
   "id": "broke-biography",
   "metadata": {},
   "outputs": [
    {
     "data": {
      "text/html": [
       "<div>\n",
       "<style scoped>\n",
       "    .dataframe tbody tr th:only-of-type {\n",
       "        vertical-align: middle;\n",
       "    }\n",
       "\n",
       "    .dataframe tbody tr th {\n",
       "        vertical-align: top;\n",
       "    }\n",
       "\n",
       "    .dataframe thead th {\n",
       "        text-align: right;\n",
       "    }\n",
       "</style>\n",
       "<table border=\"1\" class=\"dataframe\">\n",
       "  <thead>\n",
       "    <tr style=\"text-align: right;\">\n",
       "      <th></th>\n",
       "      <th>Unnamed: 0</th>\n",
       "      <th>EVI</th>\n",
       "      <th>TA</th>\n",
       "      <th>LST</th>\n",
       "      <th>Wind</th>\n",
       "      <th>Fire</th>\n",
       "    </tr>\n",
       "  </thead>\n",
       "  <tbody>\n",
       "    <tr>\n",
       "      <th>count</th>\n",
       "      <td>8.890125e+07</td>\n",
       "      <td>8.890125e+07</td>\n",
       "      <td>8.890125e+07</td>\n",
       "      <td>8.890125e+07</td>\n",
       "      <td>8.890125e+07</td>\n",
       "      <td>8.890125e+07</td>\n",
       "    </tr>\n",
       "    <tr>\n",
       "      <th>mean</th>\n",
       "      <td>5.008608e+07</td>\n",
       "      <td>2.750837e+03</td>\n",
       "      <td>5.000817e+00</td>\n",
       "      <td>1.471818e+04</td>\n",
       "      <td>2.360307e+01</td>\n",
       "      <td>8.258376e-04</td>\n",
       "    </tr>\n",
       "    <tr>\n",
       "      <th>std</th>\n",
       "      <td>2.750768e+07</td>\n",
       "      <td>9.846965e+02</td>\n",
       "      <td>5.489236e-02</td>\n",
       "      <td>7.821603e+02</td>\n",
       "      <td>1.537075e+01</td>\n",
       "      <td>2.872552e-02</td>\n",
       "    </tr>\n",
       "    <tr>\n",
       "      <th>min</th>\n",
       "      <td>2.678530e+05</td>\n",
       "      <td>-3.000000e+03</td>\n",
       "      <td>5.000000e+00</td>\n",
       "      <td>0.000000e+00</td>\n",
       "      <td>0.000000e+00</td>\n",
       "      <td>0.000000e+00</td>\n",
       "    </tr>\n",
       "    <tr>\n",
       "      <th>25%</th>\n",
       "      <td>2.711508e+07</td>\n",
       "      <td>2.072000e+03</td>\n",
       "      <td>5.000000e+00</td>\n",
       "      <td>1.429400e+04</td>\n",
       "      <td>1.200000e+01</td>\n",
       "      <td>0.000000e+00</td>\n",
       "    </tr>\n",
       "    <tr>\n",
       "      <th>50%</th>\n",
       "      <td>5.057289e+07</td>\n",
       "      <td>2.757000e+03</td>\n",
       "      <td>5.000000e+00</td>\n",
       "      <td>1.473800e+04</td>\n",
       "      <td>2.100000e+01</td>\n",
       "      <td>0.000000e+00</td>\n",
       "    </tr>\n",
       "    <tr>\n",
       "      <th>75%</th>\n",
       "      <td>7.358747e+07</td>\n",
       "      <td>3.425000e+03</td>\n",
       "      <td>5.000000e+00</td>\n",
       "      <td>1.516000e+04</td>\n",
       "      <td>3.100000e+01</td>\n",
       "      <td>0.000000e+00</td>\n",
       "    </tr>\n",
       "    <tr>\n",
       "      <th>max</th>\n",
       "      <td>9.776634e+07</td>\n",
       "      <td>9.256000e+03</td>\n",
       "      <td>9.000000e+00</td>\n",
       "      <td>1.758000e+04</td>\n",
       "      <td>2.550000e+02</td>\n",
       "      <td>1.000000e+00</td>\n",
       "    </tr>\n",
       "  </tbody>\n",
       "</table>\n",
       "</div>"
      ],
      "text/plain": [
       "         Unnamed: 0           EVI            TA           LST          Wind  \\\n",
       "count  8.890125e+07  8.890125e+07  8.890125e+07  8.890125e+07  8.890125e+07   \n",
       "mean   5.008608e+07  2.750837e+03  5.000817e+00  1.471818e+04  2.360307e+01   \n",
       "std    2.750768e+07  9.846965e+02  5.489236e-02  7.821603e+02  1.537075e+01   \n",
       "min    2.678530e+05 -3.000000e+03  5.000000e+00  0.000000e+00  0.000000e+00   \n",
       "25%    2.711508e+07  2.072000e+03  5.000000e+00  1.429400e+04  1.200000e+01   \n",
       "50%    5.057289e+07  2.757000e+03  5.000000e+00  1.473800e+04  2.100000e+01   \n",
       "75%    7.358747e+07  3.425000e+03  5.000000e+00  1.516000e+04  3.100000e+01   \n",
       "max    9.776634e+07  9.256000e+03  9.000000e+00  1.758000e+04  2.550000e+02   \n",
       "\n",
       "               Fire  \n",
       "count  8.890125e+07  \n",
       "mean   8.258376e-04  \n",
       "std    2.872552e-02  \n",
       "min    0.000000e+00  \n",
       "25%    0.000000e+00  \n",
       "50%    0.000000e+00  \n",
       "75%    0.000000e+00  \n",
       "max    1.000000e+00  "
      ]
     },
     "execution_count": 23,
     "metadata": {},
     "output_type": "execute_result"
    }
   ],
   "source": [
    "data.describe() # Statistic summary"
   ]
  },
  {
   "cell_type": "markdown",
   "id": "18c77b2f-7862-4632-ad30-2b1dffa14476",
   "metadata": {},
   "source": [
    "## Dividing The Data to be sent to Gretel"
   ]
  },
  {
   "cell_type": "code",
   "execution_count": 24,
   "id": "a25b8ebc-1726-4198-b130-90a1fc8c4430",
   "metadata": {},
   "outputs": [],
   "source": [
    "#gretle_data = data[data.Fire == 1]\n",
    "#print(len(gretle_data))\n",
    "#len(data)-32"
   ]
  },
  {
   "cell_type": "code",
   "execution_count": 25,
   "id": "4ec19b1f-0778-46c5-a5eb-c4ab8d53562e",
   "metadata": {},
   "outputs": [],
   "source": [
    "#gretle_data.to_csv('gretle_data.csv')"
   ]
  },
  {
   "cell_type": "code",
   "execution_count": 26,
   "id": "3d4c3957-5631-4ba6-8cb3-f651bd7a24e3",
   "metadata": {},
   "outputs": [],
   "source": [
    "#data.to_csv('10_day_data.csv')"
   ]
  },
  {
   "cell_type": "code",
   "execution_count": 27,
   "id": "3e5a2c0f-54f8-4688-99d6-fbdbc5f12b24",
   "metadata": {},
   "outputs": [
    {
     "data": {
      "text/html": [
       "<div>\n",
       "<style scoped>\n",
       "    .dataframe tbody tr th:only-of-type {\n",
       "        vertical-align: middle;\n",
       "    }\n",
       "\n",
       "    .dataframe tbody tr th {\n",
       "        vertical-align: top;\n",
       "    }\n",
       "\n",
       "    .dataframe thead th {\n",
       "        text-align: right;\n",
       "    }\n",
       "</style>\n",
       "<table border=\"1\" class=\"dataframe\">\n",
       "  <thead>\n",
       "    <tr style=\"text-align: right;\">\n",
       "      <th></th>\n",
       "      <th>Unnamed: 0</th>\n",
       "      <th>EVI</th>\n",
       "      <th>TA</th>\n",
       "      <th>LST</th>\n",
       "      <th>Wind</th>\n",
       "      <th>Fire</th>\n",
       "    </tr>\n",
       "  </thead>\n",
       "  <tbody>\n",
       "    <tr>\n",
       "      <th>0</th>\n",
       "      <td>1255766</td>\n",
       "      <td>-9999.0</td>\n",
       "      <td>5.0</td>\n",
       "      <td>13816.0</td>\n",
       "      <td>-9999.0</td>\n",
       "      <td>1.0</td>\n",
       "    </tr>\n",
       "    <tr>\n",
       "      <th>1</th>\n",
       "      <td>1247033</td>\n",
       "      <td>-9999.0</td>\n",
       "      <td>5.0</td>\n",
       "      <td>13825.0</td>\n",
       "      <td>-9999.0</td>\n",
       "      <td>1.0</td>\n",
       "    </tr>\n",
       "    <tr>\n",
       "      <th>2</th>\n",
       "      <td>1270936</td>\n",
       "      <td>-9999.0</td>\n",
       "      <td>5.0</td>\n",
       "      <td>13808.0</td>\n",
       "      <td>-9999.0</td>\n",
       "      <td>1.0</td>\n",
       "    </tr>\n",
       "    <tr>\n",
       "      <th>3</th>\n",
       "      <td>1394565</td>\n",
       "      <td>-9999.0</td>\n",
       "      <td>5.0</td>\n",
       "      <td>13818.0</td>\n",
       "      <td>-9999.0</td>\n",
       "      <td>1.0</td>\n",
       "    </tr>\n",
       "    <tr>\n",
       "      <th>4</th>\n",
       "      <td>1243489</td>\n",
       "      <td>-9999.0</td>\n",
       "      <td>5.0</td>\n",
       "      <td>13828.0</td>\n",
       "      <td>-9999.0</td>\n",
       "      <td>1.0</td>\n",
       "    </tr>\n",
       "  </tbody>\n",
       "</table>\n",
       "</div>"
      ],
      "text/plain": [
       "   Unnamed: 0     EVI   TA      LST    Wind  Fire\n",
       "0     1255766 -9999.0  5.0  13816.0 -9999.0   1.0\n",
       "1     1247033 -9999.0  5.0  13825.0 -9999.0   1.0\n",
       "2     1270936 -9999.0  5.0  13808.0 -9999.0   1.0\n",
       "3     1394565 -9999.0  5.0  13818.0 -9999.0   1.0\n",
       "4     1243489 -9999.0  5.0  13828.0 -9999.0   1.0"
      ]
     },
     "execution_count": 27,
     "metadata": {},
     "output_type": "execute_result"
    }
   ],
   "source": [
    "gretle_1_to_1 = pd.read_csv('gretle_data_1_to_1.csv', on_bad_lines='skip')\n",
    "gretle_1_to_1.head()"
   ]
  },
  {
   "cell_type": "markdown",
   "id": "19de3e9c",
   "metadata": {},
   "source": [
    "# Splitting Data & Scaling Data\n",
    "We are making the data have similar range for the machine model to not weight one varible bigger then the other"
   ]
  },
  {
   "cell_type": "code",
   "execution_count": 28,
   "id": "c2d0f0bc",
   "metadata": {},
   "outputs": [],
   "source": [
    "# Getting the X & Y\n",
    "X = data.drop(columns=['Fire']).values\n",
    "Y = data['Fire'].values\n",
    "    \n",
    "# Labeling the variables\n",
    "scale = StandardScaler()\n",
    "X = scale.fit_transform(X) \n"
   ]
  },
  {
   "cell_type": "code",
   "execution_count": 29,
   "id": "823c97fb",
   "metadata": {},
   "outputs": [],
   "source": [
    "# 20% test 80% training data             \n",
    "X_train, X_test, y_train, y_test, = train_test_split(X, Y, test_size=0.2,random_state = 42)\n",
    "\n",
    "                                                         # 0.25 x 0.8 = 0.2 for validation data\n",
    "X_train, X_val, y_train, y_val, = train_test_split(X_train, y_train, test_size=0.25,random_state = 16) "
   ]
  },
  {
   "cell_type": "markdown",
   "id": "b347e92f",
   "metadata": {},
   "source": [
    "# Fixing the Imbalanced Data"
   ]
  },
  {
   "cell_type": "markdown",
   "id": "5e193836-f530-4ca8-aefa-5b28597500b7",
   "metadata": {},
   "source": [
    "## Combining Oversampled & Oversampled Data"
   ]
  },
  {
   "cell_type": "markdown",
   "id": "382310e7-0c90-4c11-8d6f-85cc9c337b4f",
   "metadata": {},
   "source": [
    "### SMOTE + Random Under Sampler || 1:1 Ratio"
   ]
  },
  {
   "cell_type": "code",
   "execution_count": 30,
   "id": "e4a89d6d-cde5-4bda-9e72-ae9adb4f87f7",
   "metadata": {},
   "outputs": [
    {
     "name": "stdout",
     "output_type": "stream",
     "text": [
      "Before Counter({0: 53296930, 1: 43820})\n",
      "After Counter({0: 5329693, 1: 5329693})\n"
     ]
    }
   ],
   "source": [
    "from imblearn.pipeline import Pipeline\n",
    "from imblearn.over_sampling import SMOTE\n",
    "from imblearn.under_sampling import RandomUnderSampler\n",
    "\n",
    "oversampling_ratio = 0.1\n",
    "# 0.01 means the majority class will be 100 times the size of minority class\n",
    "# 0.1 means the majority class will be 10 times the size of minority class\n",
    "\n",
    "undersample_ratio = 1\n",
    "# 0.01 means the majority class will be 100 times the size of minority class\n",
    "# 0.1 means the majority class will be 10 times the size of minority class\n",
    "\n",
    "counter1 = Counter(y_train)\n",
    "print('Before',counter1)\n",
    "\n",
    "# define pipeline\n",
    "over = SMOTE(sampling_strategy=oversampling_ratio, n_jobs=-1)\n",
    "under = RandomUnderSampler(sampling_strategy=undersample_ratio)\n",
    "steps = [('o', over), ('u', under)]\n",
    "pipeline = Pipeline(steps=steps)\n",
    "# transform the dataset\n",
    "X_train_1_1, y_train_1_1 = pipeline.fit_resample(X_train, y_train)\n",
    "\n",
    "counter = Counter(y_train_1_1)\n",
    "print('After',counter)"
   ]
  },
  {
   "cell_type": "markdown",
   "id": "e4c93804-7619-48dd-9abe-24b319873ad4",
   "metadata": {},
   "source": [
    "### SMOTE + Random Under Sampler || 2:1 Ratio"
   ]
  },
  {
   "cell_type": "code",
   "execution_count": 31,
   "id": "57abc6a9-e451-4767-88c6-1cab04f1ac43",
   "metadata": {},
   "outputs": [
    {
     "name": "stdout",
     "output_type": "stream",
     "text": [
      "Before Counter({0: 53296930, 1: 43820})\n",
      "After Counter({0: 10659386, 1: 5329693})\n"
     ]
    }
   ],
   "source": [
    "from imblearn.pipeline import Pipeline\n",
    "from imblearn.over_sampling import SMOTE\n",
    "from imblearn.under_sampling import RandomUnderSampler\n",
    "\n",
    "oversampling_ratio = 0.1\n",
    "# 0.01 means the majority class will be 100 times the size of minority class\n",
    "# 0.1 means the majority class will be 10 times the size of minority class\n",
    "\n",
    "undersample_ratio = 0.5\n",
    "# 0.01 means the majority class will be 100 times the size of minority class\n",
    "# 0.1 means the majority class will be 10 times the size of minority class\n",
    "\n",
    "counter1 = Counter(y_train)\n",
    "print('Before',counter1)\n",
    "\n",
    "# define pipeline\n",
    "over = SMOTE(sampling_strategy=oversampling_ratio, n_jobs=-1)\n",
    "under = RandomUnderSampler(sampling_strategy=undersample_ratio)\n",
    "steps = [('o', over), ('u', under)]\n",
    "pipeline = Pipeline(steps=steps)\n",
    "# transform the dataset\n",
    "X_train_2_1, y_train_2_1 = pipeline.fit_resample(X_train, y_train)\n",
    "\n",
    "counter = Counter(y_train_2_1)\n",
    "print('After',counter)"
   ]
  },
  {
   "cell_type": "markdown",
   "id": "080d6eee-48e4-42b6-bb64-f1045dfe536f",
   "metadata": {},
   "source": [
    "### SMOTE + Random Under Sampler || 4:1 Ratio"
   ]
  },
  {
   "cell_type": "code",
   "execution_count": 32,
   "id": "e81fb919",
   "metadata": {},
   "outputs": [
    {
     "name": "stdout",
     "output_type": "stream",
     "text": [
      "Before Counter({0: 53296930, 1: 43820})\n",
      "After Counter({0: 21318772, 1: 5329693})\n"
     ]
    }
   ],
   "source": [
    "from imblearn.pipeline import Pipeline\n",
    "from imblearn.over_sampling import SMOTE\n",
    "from imblearn.under_sampling import RandomUnderSampler\n",
    "\n",
    "oversampling_ratio = 0.1\n",
    "# 0.01 means the majority class will be 100 times the size of minority class\n",
    "# 0.1 means the majority class will be 10 times the size of minority class\n",
    "\n",
    "undersample_ratio = 0.25\n",
    "# 0.01 means the majority class will be 100 times the size of minority class\n",
    "# 0.1 means the majority class will be 10 times the size of minority class\n",
    "\n",
    "counter1 = Counter(y_train)\n",
    "print('Before',counter1)\n",
    "\n",
    "# define pipeline\n",
    "over = SMOTE(sampling_strategy=oversampling_ratio, n_jobs=-1)\n",
    "under = RandomUnderSampler(sampling_strategy=undersample_ratio)\n",
    "steps = [('o', over), ('u', under)]\n",
    "pipeline = Pipeline(steps=steps)\n",
    "# transform the dataset\n",
    "X_train_4_1, y_train_4_1 = pipeline.fit_resample(X_train, y_train)\n",
    "\n",
    "counter = Counter(y_train_4_1)\n",
    "print('After',counter)"
   ]
  },
  {
   "cell_type": "markdown",
   "id": "012e288e-7eaa-4e26-98cb-853a664fe7f2",
   "metadata": {},
   "source": [
    "### SMOTE + Random Under Sampler || 10:1 Ratio"
   ]
  },
  {
   "cell_type": "code",
   "execution_count": 33,
   "id": "98629d0e",
   "metadata": {},
   "outputs": [
    {
     "name": "stdout",
     "output_type": "stream",
     "text": [
      "Before Counter({0: 53296930, 1: 43820})\n",
      "After Counter({0: 53296930, 1: 5329693})\n"
     ]
    }
   ],
   "source": [
    "from imblearn.pipeline import Pipeline\n",
    "from imblearn.over_sampling import SMOTE\n",
    "from imblearn.under_sampling import RandomUnderSampler\n",
    "\n",
    "oversampling_ratio = 0.1\n",
    "# 0.01 means the majority class will be 100 times the size of minority class\n",
    "# 0.1 means the majority class will be 10 times the size of minority class\n",
    "\n",
    "undersample_ratio = .1\n",
    "# 0.01 means the majority class will be 100 times the size of minority class\n",
    "# 0.1 means the majority class will be 10 times the size of minority class\n",
    "\n",
    "counter1 = Counter(y_train)\n",
    "print('Before',counter1)\n",
    "\n",
    "# define pipeline\n",
    "over = SMOTE(sampling_strategy=oversampling_ratio, n_jobs=-1)\n",
    "under = RandomUnderSampler(sampling_strategy=undersample_ratio)\n",
    "steps = [('o', over), ('u', under)]\n",
    "pipeline = Pipeline(steps=steps)\n",
    "# transform the dataset\n",
    "X_train_10_1, y_train_10_1 = pipeline.fit_resample(X_train, y_train)\n",
    "\n",
    "counter = Counter(y_train_10_1)\n",
    "print('After',counter)"
   ]
  },
  {
   "cell_type": "markdown",
   "id": "aeebb669",
   "metadata": {},
   "source": [
    "# Building Models"
   ]
  },
  {
   "cell_type": "markdown",
   "id": "ddf21495-1ece-46c2-9bc5-c97e83d0aa1a",
   "metadata": {},
   "source": [
    "## AUX Meathods"
   ]
  },
  {
   "cell_type": "code",
   "execution_count": 34,
   "id": "746cb77b-0a1c-4637-990d-89c12a2536f2",
   "metadata": {},
   "outputs": [],
   "source": [
    "save_location = str(\"saved_plots/\")"
   ]
  },
  {
   "cell_type": "code",
   "execution_count": 35,
   "id": "129a095d-8c39-4776-a817-1ff69a894b7a",
   "metadata": {},
   "outputs": [],
   "source": [
    "model = list()\n",
    "resample = list()\n",
    "precision = list()\n",
    "recall = list()\n",
    "F1score = list()\n",
    "AUCROC = list()"
   ]
  },
  {
   "cell_type": "code",
   "execution_count": 36,
   "id": "2fff69c0-1cd4-4bde-a356-0e52aefd33d8",
   "metadata": {},
   "outputs": [],
   "source": [
    "# Confusion Matrix Meathod\n",
    "def confusion_matrix_build(y_test, predicted, model_name):\n",
    "    NB_cm = confusion_matrix(y_test, predicted)\n",
    "    group_names = ['TN','FP','FN','TP']\n",
    "    group_counts = [\"{0:0.0f}\".format(value) for value in\n",
    "                    NB_cm.flatten()]\n",
    "    labels = [f\"{v1}\\n{v2}\" for v1, v2 in\n",
    "              zip(group_names,group_counts)]\n",
    "    labels = np.asarray(labels).reshape(2,2)\n",
    "    sns.heatmap(NB_cm,annot=labels,fmt='')\n",
    "    plt.title(model_name)\n",
    "    plt.ylabel('True label',fontweight='bold')\n",
    "    plt.xlabel('Predicted label',fontweight='bold')\n",
    "    plt.savefig(f\"{save_location}{model_name}\",dpi=300,bbox_inches='tight', transparent=True)"
   ]
  },
  {
   "cell_type": "code",
   "execution_count": null,
   "id": "8e0526e0-c733-4bf2-984b-186324dc0f4c",
   "metadata": {},
   "outputs": [],
   "source": [
    "def evaluation_report(clf_model, X_test, y_test, algo=None, sampling=None):\n",
    "    # Test set prediction\n",
    "    y_prob=clf_model.predict_proba(X_test)\n",
    "    y_pred=clf_model.predict(X_test)\n",
    "\n",
    "    \n",
    "    print('Classification Report')\n",
    "    print('='*60)\n",
    "    print(classification_report(y_test,y_pred),\"\\n\")\n",
    "    print('AUC-ROC')\n",
    "    print('='*60)\n",
    "    print(roc_auc_score(y_test, y_prob[:,1]))\n",
    "    print('='*60)\n",
    "    print('Confusion Matrix')\n",
    "    confusion_matrix_build(y_test, y_pred, f\"{algo}{sampling}\")\n",
    "\n",
    "\n",
    "    file_path = save_location + \" \" + algo + \" \" + sampling + \".txt\"\n",
    "    with open(file_path, 'w') as file:\n",
    "    file.write('Classification Report')\n",
    "    file.write('='*60)\n",
    "    file.write(classification_report(y_test,y_pred),\"\\n\")\n",
    "    file.write('AUC-ROC')\n",
    "    file.write('='*60)\n",
    "    file.write(roc_auc_score(y_test, y_prob[:,1]))\n",
    "    \n",
    "    model.append(algo)\n",
    "    precision.append(precision_score(y_test,y_pred))\n",
    "    recall.append(recall_score(y_test,y_pred))\n",
    "    F1score.append(f1_score(y_test,y_pred))\n",
    "    AUCROC.append(roc_auc_score(y_test, y_prob[:,1]))\n",
    "    resample.append(sampling)"
   ]
  },
  {
   "cell_type": "markdown",
   "id": "f0d12677-7238-419d-a57f-8690319d2e84",
   "metadata": {},
   "source": [
    "## Logistic Regression"
   ]
  },
  {
   "cell_type": "markdown",
   "id": "60e2ffaa-aa52-4466-858b-1a5e471dd4e6",
   "metadata": {},
   "source": [
    "### Logistic Regression Original Data"
   ]
  },
  {
   "cell_type": "code",
   "execution_count": 37,
   "id": "2e8aaa34-9e38-45c6-a843-bb3ccde27257",
   "metadata": {},
   "outputs": [],
   "source": [
    "LR = LogisticRegression(C=0.01, penalty= 'l2', solver= 'liblinear')"
   ]
  },
  {
   "cell_type": "code",
   "execution_count": 38,
   "id": "recognized-sunset",
   "metadata": {
    "scrolled": true
   },
   "outputs": [
    {
     "name": "stdout",
     "output_type": "stream",
     "text": [
      "Classification Report\n",
      "============================================================\n",
      "              precision    recall  f1-score   support\n",
      "\n",
      "           0       1.00      1.00      1.00  17765364\n",
      "           1       0.00      0.00      0.00     14887\n",
      "\n",
      "    accuracy                           1.00  17780251\n",
      "   macro avg       0.50      0.50      0.50  17780251\n",
      "weighted avg       1.00      1.00      1.00  17780251\n",
      " \n",
      "\n",
      "AUC-ROC\n",
      "============================================================\n",
      "0.9014845495139173\n",
      "============================================================\n",
      "Confusion Matrix\n"
     ]
    },
    {
     "data": {
      "image/png": "[encoded data removed]",
      "text/plain": [
       "<Figure size 432x288 with 2 Axes>"
      ]
     },
     "metadata": {
      "needs_background": "light"
     },
     "output_type": "display_data"
    }
   ],
   "source": [
    "LR.fit(X_train, y_train)\n",
    "\n",
    "evaluation_report(LR, X_test, y_test, 'Logistic Regression', ' Original Data')"
   ]
  },
  {
   "cell_type": "markdown",
   "id": "834e1ee9-b296-4873-b692-cda4b09842bb",
   "metadata": {},
   "source": [
    "### LR -- SMOTE + RAND || 1:1"
   ]
  },
  {
   "cell_type": "code",
   "execution_count": 39,
   "id": "6592e9b0-b471-40fa-a4b6-22b3bcd25a67",
   "metadata": {},
   "outputs": [
    {
     "name": "stdout",
     "output_type": "stream",
     "text": [
      "Classification Report\n",
      "============================================================\n",
      "              precision    recall  f1-score   support\n",
      "\n",
      "           0       1.00      0.78      0.87  17765364\n",
      "           1       0.00      0.95      0.01     14887\n",
      "\n",
      "    accuracy                           0.78  17780251\n",
      "   macro avg       0.50      0.86      0.44  17780251\n",
      "weighted avg       1.00      0.78      0.87  17780251\n",
      " \n",
      "\n",
      "AUC-ROC\n",
      "============================================================\n",
      "0.9008162604618639\n",
      "============================================================\n",
      "Confusion Matrix\n"
     ]
    },
    {
     "data": {
      "image/png": "[encoded data removed]",
      "text/plain": [
       "<Figure size 432x288 with 2 Axes>"
      ]
     },
     "metadata": {
      "needs_background": "light"
     },
     "output_type": "display_data"
    }
   ],
   "source": [
    "LR.fit(X_train_1_1, y_train_1_1)\n",
    "\n",
    "evaluation_report(LR, X_test, y_test, 'Logistic Regression', ' SMOTE 1:1')"
   ]
  },
  {
   "cell_type": "markdown",
   "id": "f45eba7d-7eae-405b-8a80-0282013a0886",
   "metadata": {},
   "source": [
    "### LR -- SMOTE + RAND || 2:1"
   ]
  },
  {
   "cell_type": "code",
   "execution_count": 40,
   "id": "b9fabc6f",
   "metadata": {},
   "outputs": [
    {
     "name": "stdout",
     "output_type": "stream",
     "text": [
      "Classification Report\n",
      "============================================================\n",
      "              precision    recall  f1-score   support\n",
      "\n",
      "           0       1.00      0.85      0.92  17765364\n",
      "           1       0.00      0.84      0.01     14887\n",
      "\n",
      "    accuracy                           0.85  17780251\n",
      "   macro avg       0.50      0.84      0.46  17780251\n",
      "weighted avg       1.00      0.85      0.92  17780251\n",
      " \n",
      "\n",
      "AUC-ROC\n",
      "============================================================\n",
      "0.9015996704223213\n",
      "============================================================\n",
      "Confusion Matrix\n"
     ]
    },
    {
     "data": {
      "image/png": "[encoded data removed]",
      "text/plain": [
       "<Figure size 432x288 with 2 Axes>"
      ]
     },
     "metadata": {
      "needs_background": "light"
     },
     "output_type": "display_data"
    }
   ],
   "source": [
    "LR.fit(X_train_2_1, y_train_2_1)\n",
    "\n",
    "evaluation_report(LR, X_test, y_test, 'Logistic Regression', ' SMOTE 2:1')"
   ]
  },
  {
   "cell_type": "markdown",
   "id": "0730dd17-1b3c-4893-8f2b-256af6d2c055",
   "metadata": {},
   "source": [
    "### LR -- SMOTE + RAND || 4:1"
   ]
  },
  {
   "cell_type": "code",
   "execution_count": 41,
   "id": "9eb92d72",
   "metadata": {},
   "outputs": [
    {
     "name": "stdout",
     "output_type": "stream",
     "text": [
      "Classification Report\n",
      "============================================================\n",
      "              precision    recall  f1-score   support\n",
      "\n",
      "           0       1.00      0.92      0.96  17765364\n",
      "           1       0.01      0.53      0.01     14887\n",
      "\n",
      "    accuracy                           0.92  17780251\n",
      "   macro avg       0.50      0.72      0.48  17780251\n",
      "weighted avg       1.00      0.92      0.96  17780251\n",
      " \n",
      "\n",
      "AUC-ROC\n",
      "============================================================\n",
      "0.9021599345462237\n",
      "============================================================\n",
      "Confusion Matrix\n"
     ]
    },
    {
     "data": {
      "image/png": "[encoded data removed]",
      "text/plain": [
       "<Figure size 432x288 with 2 Axes>"
      ]
     },
     "metadata": {
      "needs_background": "light"
     },
     "output_type": "display_data"
    }
   ],
   "source": [
    "LR.fit(X_train_4_1, y_train_4_1)\n",
    "\n",
    "evaluation_report(LR, X_test, y_test, 'Logistic Regression', ' SMOTE 4:1')"
   ]
  },
  {
   "cell_type": "markdown",
   "id": "0d282480-e556-4e24-9658-eff8eff90639",
   "metadata": {},
   "source": [
    "### LR -- SMOTE + RAND || 10:1"
   ]
  },
  {
   "cell_type": "code",
   "execution_count": 38,
   "id": "c68258ba",
   "metadata": {},
   "outputs": [
    {
     "name": "stdout",
     "output_type": "stream",
     "text": [
      "Classification Report\n",
      "============================================================\n",
      "              precision    recall  f1-score   support\n",
      "\n",
      "           0       1.00      0.99      0.99  17765364\n",
      "           1       0.01      0.10      0.01     14887\n",
      "\n",
      "    accuracy                           0.99  17780251\n",
      "   macro avg       0.50      0.54      0.50  17780251\n",
      "weighted avg       1.00      0.99      0.99  17780251\n",
      " \n",
      "\n",
      "AUC-ROC\n",
      "============================================================\n",
      "0.9023132104269579\n",
      "============================================================\n",
      "Confusion Matrix\n"
     ]
    },
    {
     "data": {
      "image/png": "[encoded data removed]",
      "text/plain": [
       "<Figure size 432x288 with 2 Axes>"
      ]
     },
     "metadata": {
      "needs_background": "light"
     },
     "output_type": "display_data"
    }
   ],
   "source": [
    "LR.fit(X_train_10_1, y_train_10_1)\n",
    "\n",
    "evaluation_report(LR, X_test, y_test, 'LR', ' SMOTE 10:1')"
   ]
  },
  {
   "cell_type": "markdown",
   "id": "amber-yahoo",
   "metadata": {},
   "source": [
    "## Suport Vector Machine"
   ]
  },
  {
   "cell_type": "code",
   "execution_count": null,
   "id": "03a7845f-aaf3-48b6-9c79-df4ff1e524c4",
   "metadata": {},
   "outputs": [],
   "source": [
    "SVM = SVC(C= 10, gamma= 'scale', kernel= 'rbf')\n",
    "SVM.fit(X_train, y_train)\n",
    "\n",
    "evaluation_report(SVM, X_test, y_test, 'SVM', ' Original Data')"
   ]
  },
  {
   "cell_type": "markdown",
   "id": "583e77dc-84b8-4820-9354-5fd40bfdc626",
   "metadata": {},
   "source": [
    "### SVM -- SMOTE + RAND || 1:1"
   ]
  },
  {
   "cell_type": "code",
   "execution_count": null,
   "id": "39e8143e-7e0a-4168-9990-45e55e877b6e",
   "metadata": {},
   "outputs": [],
   "source": [
    "SVM.fit(X_train_1_1, y_train_1_1)\n",
    "\n",
    "evaluation_report(SVM, X_test, y_test, 'SVM ', ' SMOTE 1:1')"
   ]
  },
  {
   "cell_type": "markdown",
   "id": "52afd1e3-5042-4a44-b3ff-2bf3f9c7da99",
   "metadata": {},
   "source": [
    "### SVM -- SMOTE + RAND ||2:1"
   ]
  },
  {
   "cell_type": "code",
   "execution_count": null,
   "id": "b899f57a-bf25-4d22-a4ec-a386e66909f1",
   "metadata": {},
   "outputs": [],
   "source": [
    "SVM.fit(X_train_2_1, y_train_2_1)\n",
    "\n",
    "evaluation_report(SVM, X_test, y_test, 'SVM ', ' SMOTE 2:1')"
   ]
  },
  {
   "cell_type": "markdown",
   "id": "e5b97b50-0374-4a9d-97b2-ea50f37d684c",
   "metadata": {},
   "source": [
    "### SVM -- SMOTE + RAND || 4:1"
   ]
  },
  {
   "cell_type": "code",
   "execution_count": null,
   "id": "35234dcd-49e4-41cd-997f-d849e71e178f",
   "metadata": {},
   "outputs": [],
   "source": [
    "SVM.fit(X_train_4_1, y_train_4_1)\n",
    "\n",
    "evaluation_report(SVM, X_test, y_test, 'SVM ', ' SMOTE 4:1')"
   ]
  },
  {
   "cell_type": "markdown",
   "id": "a0a451ed-4dbd-482e-bf8f-28de811aee4c",
   "metadata": {},
   "source": [
    "### SVM -- SMOTE + RAND || 10:1"
   ]
  },
  {
   "cell_type": "code",
   "execution_count": null,
   "id": "13c62a80-8325-4a36-8539-b9c560d196f5",
   "metadata": {},
   "outputs": [],
   "source": [
    "SVM.fit(X_train_10_1, y_train_10_1)\n",
    "\n",
    "evaluation_report(SVM, X_test, y_test, 'SVM ', ' SMOTE 1:10')"
   ]
  },
  {
   "cell_type": "markdown",
   "id": "saving-current",
   "metadata": {},
   "source": [
    "## Neural Networks"
   ]
  },
  {
   "cell_type": "code",
   "execution_count": null,
   "id": "amino-antigua",
   "metadata": {},
   "outputs": [],
   "source": [
    "from sklearn.neural_network import MLPClassifier\n",
    "\n",
    "mlp = MLPClassifier(hidden_layer_sizes=(8,8,8), activation='relu', solver='adam', max_iter=500)\n",
    "mlp.fit(X_train,y_train)\n",
    "\n",
    "NN_pred_train = mlp.predict(X_train)\n",
    "NN_pred_test = mlp.predict(X_test)\n",
    "\n",
    "evaluation_report(mlp, X_test, y_test, 'Neural Network', ' Original')"
   ]
  },
  {
   "cell_type": "markdown",
   "id": "04fdebdc-c65d-48f5-ae0a-7825ef40f63a",
   "metadata": {},
   "source": [
    "### NN -- SMOTE + RAND || 1:1"
   ]
  },
  {
   "cell_type": "code",
   "execution_count": null,
   "id": "f2ca1fa0-55db-44aa-a10e-f4a684bbfdab",
   "metadata": {},
   "outputs": [],
   "source": [
    "mlp.fit(X_train_1_1, y_train_1_1)\n",
    "\n",
    "evaluation_report(mlp, X_test, y_test, 'mlp ', ' SMOTE 1:1')"
   ]
  },
  {
   "cell_type": "markdown",
   "id": "e230c205-02da-4c05-bea9-5f55cd6b2532",
   "metadata": {},
   "source": [
    "### NN -- SMOTE + RAND || 1:2"
   ]
  },
  {
   "cell_type": "code",
   "execution_count": null,
   "id": "c8bc77d4",
   "metadata": {},
   "outputs": [],
   "source": [
    "mlp.fit(X_train_1_2, y_train_1_2)\n",
    "\n",
    "evaluation_report(mlp, X_test, y_test, 'mlp ', ' SMOTE 1:1')"
   ]
  },
  {
   "cell_type": "markdown",
   "id": "6367abd7-e8f5-48a5-87b6-8598ba90e4d6",
   "metadata": {},
   "source": [
    "### NN -- SMOTE + RAND || 1:4"
   ]
  },
  {
   "cell_type": "code",
   "execution_count": null,
   "id": "457bb106",
   "metadata": {},
   "outputs": [],
   "source": [
    "mlp.fit(X_train_1_4, y_train_1_4)\n",
    "\n",
    "evaluation_report(mlp, X_test, y_test, 'mlp ', ' SMOTE 1:1')"
   ]
  },
  {
   "cell_type": "markdown",
   "id": "7c50209d-d945-4b5e-9e7a-5ed2d079c4ea",
   "metadata": {},
   "source": [
    "### NN -- SMOTE + RAND || 1:10"
   ]
  },
  {
   "cell_type": "code",
   "execution_count": null,
   "id": "2a5fb804",
   "metadata": {},
   "outputs": [],
   "source": [
    "mlp.fit(X_train_1_10, y_train_1_10)\n",
    "\n",
    "evaluation_report(mlp, X_test, y_test, 'mlp ', ' SMOTE 1:1')"
   ]
  },
  {
   "cell_type": "markdown",
   "id": "3604be48-17b5-4d55-a036-2139500012b9",
   "metadata": {},
   "source": [
    "## RF"
   ]
  },
  {
   "cell_type": "code",
   "execution_count": null,
   "id": "7257a1d5-02ce-4f98-905b-218a51a590f5",
   "metadata": {},
   "outputs": [],
   "source": [
    "RF = RandomForestClassifier(max_features = 'sqrt', n_estimators = 100, n_jobs=-1)                      \n",
    "RF.fit(X_train, y_train)\n",
    "evaluation_report(RF, X_test, y_test, 'RF ', ' Original Data')"
   ]
  },
  {
   "cell_type": "markdown",
   "id": "12ce3028-2b4c-4ed0-88bc-2b08fd23dc29",
   "metadata": {},
   "source": [
    "### RF -- SMOTE + RAND || 1:1"
   ]
  },
  {
   "cell_type": "code",
   "execution_count": null,
   "id": "a1f708a6-4332-4a14-b121-3b37edf27e28",
   "metadata": {},
   "outputs": [],
   "source": [
    "RF.fit(X_train_1_1, y_train_1_1)\n",
    "\n",
    "evaluation_report(RF, X_test, y_test, 'RF ', ' SMOTE 1:1')"
   ]
  },
  {
   "cell_type": "markdown",
   "id": "e948baf5-a9ed-4fcf-a56f-30bfc9c6d150",
   "metadata": {},
   "source": [
    "### RF -- SMOTE + RAND || 1:2"
   ]
  },
  {
   "cell_type": "code",
   "execution_count": null,
   "id": "fca84f59-6675-4cd1-b554-d92d4c199cdb",
   "metadata": {},
   "outputs": [],
   "source": [
    "RF.fit(X_train_1_2, y_train_1_2)\n",
    "\n",
    "evaluation_report(RF, X_test, y_test, 'RF ', ' SMOTE 1:2')"
   ]
  },
  {
   "cell_type": "markdown",
   "id": "4a5d126c-efaf-41c4-9770-ef736cbe7aa3",
   "metadata": {},
   "source": [
    "### RF -- SMOTE + RAND || 1:4"
   ]
  },
  {
   "cell_type": "code",
   "execution_count": null,
   "id": "0546d341-61e2-47f0-a492-36460e284b0c",
   "metadata": {},
   "outputs": [],
   "source": [
    "RF.fit(X_train_1_4, y_train_1_4)\n",
    "\n",
    "evaluation_report(RF, X_test, y_test, 'RF ', ' SMOTE 1:4')"
   ]
  },
  {
   "cell_type": "markdown",
   "id": "efd41434-1a30-4c58-bf30-e5be300b4f06",
   "metadata": {},
   "source": [
    "### RF -- SMOTE + RAND || 1:10"
   ]
  },
  {
   "cell_type": "code",
   "execution_count": null,
   "id": "fafb0430-0885-44d6-b64a-bb02d3f62bc7",
   "metadata": {},
   "outputs": [],
   "source": [
    "RF.fit(X_train_1_10, y_train_1_10)\n",
    "\n",
    "evaluation_report(RF, X_test, y_test, 'RF ', ' SMOTE 1:10')"
   ]
  },
  {
   "cell_type": "code",
   "execution_count": null,
   "id": "204b8910-1b57-4d76-ac3d-260ba8273355",
   "metadata": {},
   "outputs": [],
   "source": []
  }
 ],
 "metadata": {
  "kernelspec": {
   "display_name": "venvpy3",
   "language": "python",
   "name": "venvpy3"
  },
  "language_info": {
   "codemirror_mode": {
    "name": "ipython",
    "version": 3
   },
   "file_extension": ".py",
   "mimetype": "text/x-python",
   "name": "python",
   "nbconvert_exporter": "python",
   "pygments_lexer": "ipython3",
   "version": "3.10.12"
  }
 },
 "nbformat": 4,
 "nbformat_minor": 5
}
