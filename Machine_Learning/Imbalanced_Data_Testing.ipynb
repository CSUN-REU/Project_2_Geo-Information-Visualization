{
 "cells": [
  {
   "cell_type": "code",
   "execution_count": null,
   "id": "232b30fc-b5b8-4e0e-9c93-0e3cfbe3e21a",
   "metadata": {},
   "outputs": [],
   "source": [
    "# READ ME\n",
    "# This file was used to test 4 different algorithms on how well they improve the preformance of different machine learning models\n",
    "# The algorithms we tested were SMOTE,ADASYN, SMOTE + TOMEK, SMOTE + ENN\n",
    "# The machine Learning models that we tested were: GNB, KNN, and NN "
   ]
  },
  {
   "cell_type": "code",
   "execution_count": 1,
   "id": "3b282e3b",
   "metadata": {},
   "outputs": [],
   "source": [
    "#Load libaries\n",
    "import os\n",
    "import pandas as pd \n",
    "import seaborn as sns\n",
    "import numpy as np \n",
    "import matplotlib.pyplot as plt \n",
    "from pydotplus import graph_from_dot_data\n",
    "from sklearn import preprocessing\n",
    "from sklearn.preprocessing import StandardScaler, LabelEncoder\n",
    "from scipy import stats\n",
    "from sklearn.linear_model import LogisticRegression\n",
    "from sklearn.naive_bayes import MultinomialNB\n",
    "from sklearn.naive_bayes import GaussianNB\n",
    "from sklearn.neighbors import KNeighborsClassifier\n",
    "from sklearn.ensemble import RandomForestClassifier, RandomForestRegressor\n",
    "from sklearn.svm import SVC \n",
    "from sklearn import svm, metrics\n",
    "from sklearn.model_selection import GridSearchCV, RandomizedSearchCV\n",
    "from sklearn.metrics import confusion_matrix, classification_report\n",
    "from sklearn.model_selection import train_test_split, GridSearchCV, cross_validate, cross_val_score, KFold\n",
    "from sklearn.model_selection import RepeatedStratifiedKFold\n",
    "from sklearn.linear_model import ElasticNet\n",
    "from sklearn.metrics import mean_squared_error\n",
    "from sklearn.metrics import roc_curve\n",
    "from sklearn.metrics import roc_auc_score, accuracy_score, f1_score, precision_score, recall_score\n",
    "from collections import Counter\n",
    "\n",
    "import warnings\n",
    "warnings.filterwarnings('ignore')\n",
    "            "
   ]
  },
  {
   "cell_type": "code",
   "execution_count": 2,
   "id": "1bb73311",
   "metadata": {},
   "outputs": [],
   "source": [
    "#Load datasets\n",
    "data = pd.read_csv('2013-data-output.csv', on_bad_lines='skip')   "
   ]
  },
  {
   "cell_type": "code",
   "execution_count": null,
   "id": "67f3fe1c-7a2d-419e-b51a-d95dae950dca",
   "metadata": {},
   "outputs": [],
   "source": [
    "full_data = pd.read_csv('2013-data-output.csv', on_bad_lines='skip')   "
   ]
  },
  {
   "cell_type": "code",
   "execution_count": 4,
   "id": "f9c20256-66e7-4a10-a033-8d60e290322a",
   "metadata": {},
   "outputs": [
    {
     "data": {
      "text/html": [
       "<div>\n",
       "<style scoped>\n",
       "    .dataframe tbody tr th:only-of-type {\n",
       "        vertical-align: middle;\n",
       "    }\n",
       "\n",
       "    .dataframe tbody tr th {\n",
       "        vertical-align: top;\n",
       "    }\n",
       "\n",
       "    .dataframe thead th {\n",
       "        text-align: right;\n",
       "    }\n",
       "</style>\n",
       "<table border=\"1\" class=\"dataframe\">\n",
       "  <thead>\n",
       "    <tr style=\"text-align: right;\">\n",
       "      <th></th>\n",
       "      <th>Unnamed: 0</th>\n",
       "      <th>Longitude</th>\n",
       "      <th>Latitude</th>\n",
       "      <th>EVI</th>\n",
       "      <th>TA</th>\n",
       "      <th>LST</th>\n",
       "      <th>Wind</th>\n",
       "      <th>Fire</th>\n",
       "    </tr>\n",
       "  </thead>\n",
       "  <tbody>\n",
       "    <tr>\n",
       "      <th>count</th>\n",
       "      <td>9.776634e+07</td>\n",
       "      <td>9.776634e+07</td>\n",
       "      <td>9.776634e+07</td>\n",
       "      <td>9.776634e+07</td>\n",
       "      <td>9.776634e+07</td>\n",
       "      <td>9.776634e+07</td>\n",
       "      <td>9.776634e+07</td>\n",
       "      <td>9.776634e+07</td>\n",
       "    </tr>\n",
       "    <tr>\n",
       "      <th>mean</th>\n",
       "      <td>4.888317e+07</td>\n",
       "      <td>-1.211427e+02</td>\n",
       "      <td>3.865945e+01</td>\n",
       "      <td>2.721132e+03</td>\n",
       "      <td>4.840701e+00</td>\n",
       "      <td>1.465975e+04</td>\n",
       "      <td>2.362577e+01</td>\n",
       "      <td>8.186662e-04</td>\n",
       "    </tr>\n",
       "    <tr>\n",
       "      <th>std</th>\n",
       "      <td>2.822271e+07</td>\n",
       "      <td>1.764654e+00</td>\n",
       "      <td>2.271792e+00</td>\n",
       "      <td>1.005279e+03</td>\n",
       "      <td>8.004126e+00</td>\n",
       "      <td>8.995667e+02</td>\n",
       "      <td>1.557653e+01</td>\n",
       "      <td>2.860063e-02</td>\n",
       "    </tr>\n",
       "    <tr>\n",
       "      <th>min</th>\n",
       "      <td>0.000000e+00</td>\n",
       "      <td>-1.241544e+02</td>\n",
       "      <td>3.255906e+01</td>\n",
       "      <td>-3.000000e+03</td>\n",
       "      <td>-9.990000e+02</td>\n",
       "      <td>0.000000e+00</td>\n",
       "      <td>0.000000e+00</td>\n",
       "      <td>0.000000e+00</td>\n",
       "    </tr>\n",
       "    <tr>\n",
       "      <th>25%</th>\n",
       "      <td>2.444159e+07</td>\n",
       "      <td>-1.227053e+02</td>\n",
       "      <td>3.720829e+01</td>\n",
       "      <td>2.042000e+03</td>\n",
       "      <td>5.000000e+00</td>\n",
       "      <td>1.423700e+04</td>\n",
       "      <td>1.200000e+01</td>\n",
       "      <td>0.000000e+00</td>\n",
       "    </tr>\n",
       "    <tr>\n",
       "      <th>50%</th>\n",
       "      <td>4.888317e+07</td>\n",
       "      <td>-1.213728e+02</td>\n",
       "      <td>3.923711e+01</td>\n",
       "      <td>2.736000e+03</td>\n",
       "      <td>5.000000e+00</td>\n",
       "      <td>1.468400e+04</td>\n",
       "      <td>2.100000e+01</td>\n",
       "      <td>0.000000e+00</td>\n",
       "    </tr>\n",
       "    <tr>\n",
       "      <th>75%</th>\n",
       "      <td>7.332476e+07</td>\n",
       "      <td>-1.199695e+02</td>\n",
       "      <td>4.031610e+01</td>\n",
       "      <td>3.408000e+03</td>\n",
       "      <td>5.000000e+00</td>\n",
       "      <td>1.513100e+04</td>\n",
       "      <td>3.100000e+01</td>\n",
       "      <td>0.000000e+00</td>\n",
       "    </tr>\n",
       "    <tr>\n",
       "      <th>max</th>\n",
       "      <td>9.776634e+07</td>\n",
       "      <td>-1.143189e+02</td>\n",
       "      <td>4.199499e+01</td>\n",
       "      <td>9.256000e+03</td>\n",
       "      <td>9.000000e+00</td>\n",
       "      <td>1.758000e+04</td>\n",
       "      <td>2.550000e+02</td>\n",
       "      <td>1.000000e+00</td>\n",
       "    </tr>\n",
       "  </tbody>\n",
       "</table>\n",
       "</div>"
      ],
      "text/plain": [
       "         Unnamed: 0     Longitude      Latitude           EVI            TA  \\\n",
       "count  9.776634e+07  9.776634e+07  9.776634e+07  9.776634e+07  9.776634e+07   \n",
       "mean   4.888317e+07 -1.211427e+02  3.865945e+01  2.721132e+03  4.840701e+00   \n",
       "std    2.822271e+07  1.764654e+00  2.271792e+00  1.005279e+03  8.004126e+00   \n",
       "min    0.000000e+00 -1.241544e+02  3.255906e+01 -3.000000e+03 -9.990000e+02   \n",
       "25%    2.444159e+07 -1.227053e+02  3.720829e+01  2.042000e+03  5.000000e+00   \n",
       "50%    4.888317e+07 -1.213728e+02  3.923711e+01  2.736000e+03  5.000000e+00   \n",
       "75%    7.332476e+07 -1.199695e+02  4.031610e+01  3.408000e+03  5.000000e+00   \n",
       "max    9.776634e+07 -1.143189e+02  4.199499e+01  9.256000e+03  9.000000e+00   \n",
       "\n",
       "                LST          Wind          Fire  \n",
       "count  9.776634e+07  9.776634e+07  9.776634e+07  \n",
       "mean   1.465975e+04  2.362577e+01  8.186662e-04  \n",
       "std    8.995667e+02  1.557653e+01  2.860063e-02  \n",
       "min    0.000000e+00  0.000000e+00  0.000000e+00  \n",
       "25%    1.423700e+04  1.200000e+01  0.000000e+00  \n",
       "50%    1.468400e+04  2.100000e+01  0.000000e+00  \n",
       "75%    1.513100e+04  3.100000e+01  0.000000e+00  \n",
       "max    1.758000e+04  2.550000e+02  1.000000e+00  "
      ]
     },
     "execution_count": 4,
     "metadata": {},
     "output_type": "execute_result"
    }
   ],
   "source": [
    "full_data.describe()"
   ]
  },
  {
   "cell_type": "code",
   "execution_count": null,
   "id": "c9686bdb-4801-423b-a7a0-aa7b27900e6e",
   "metadata": {},
   "outputs": [],
   "source": [
    "full_data.isnull().sum() # return number of missing value for each column"
   ]
  },
  {
   "cell_type": "code",
   "execution_count": null,
   "id": "e2193e2d-8351-47bc-b529-3631a6bd7fc4",
   "metadata": {},
   "outputs": [],
   "source": [
    "len(full_data)"
   ]
  },
  {
   "cell_type": "code",
   "execution_count": null,
   "id": "74d111ba-a107-436b-b82e-f30d2e0156b4",
   "metadata": {},
   "outputs": [],
   "source": [
    "Count=full_data.Fire.value_counts() #count target feature \n",
    "Count"
   ]
  },
  {
   "cell_type": "code",
   "execution_count": null,
   "id": "c990d17e-ca03-41d9-a79b-6dd52a91b956",
   "metadata": {},
   "outputs": [],
   "source": [
    "print('Proportion:', round(Count[0] / Count[1], 2), ': 1')"
   ]
  },
  {
   "cell_type": "markdown",
   "id": "0d35feef",
   "metadata": {
    "jp-MarkdownHeadingCollapsed": true
   },
   "source": [
    "# Cleaning the data"
   ]
  },
  {
   "cell_type": "markdown",
   "id": "e646cac3-18f2-47a5-857a-a5ac5861387d",
   "metadata": {},
   "source": [
    "## Isolating to a spacific range of dates"
   ]
  },
  {
   "cell_type": "code",
   "execution_count": null,
   "id": "24b8cd5b-0f9e-4ea9-8a62-70973266f4e8",
   "metadata": {},
   "outputs": [],
   "source": [
    "#Create a boolean mask for X time\n",
    "mask = (data['Date'] >= '2013-01-02') & (data['Date'] <= '2013-04-02')\n",
    "data = data[mask]\n",
    "data.Date.value_counts()"
   ]
  },
  {
   "cell_type": "markdown",
   "id": "85e1527a-0414-4963-9f3e-b04ef13e42a3",
   "metadata": {},
   "source": [
    "## Data Cleaning"
   ]
  },
  {
   "cell_type": "code",
   "execution_count": null,
   "id": "linear-facing",
   "metadata": {
    "scrolled": true
   },
   "outputs": [],
   "source": [
    "data.head()"
   ]
  },
  {
   "cell_type": "code",
   "execution_count": null,
   "id": "b2fe6a74",
   "metadata": {},
   "outputs": [],
   "source": [
    "data = data[data['Date'] != '2013-01-01'] #Dropping the first day that has missing LST data"
   ]
  },
  {
   "cell_type": "code",
   "execution_count": null,
   "id": "10ef5c17",
   "metadata": {},
   "outputs": [],
   "source": [
    "data.head()"
   ]
  },
  {
   "cell_type": "code",
   "execution_count": null,
   "id": "sudden-termination",
   "metadata": {},
   "outputs": [],
   "source": [
    "#if 'Date' in data:\n",
    "data = data.drop(['Date', 'Longitude', 'Latitude'], axis = 1) \n",
    "data.head()"
   ]
  },
  {
   "cell_type": "code",
   "execution_count": null,
   "id": "special-alfred",
   "metadata": {
    "scrolled": true
   },
   "outputs": [],
   "source": [
    "data.isnull().sum() # return number of missing value for each column"
   ]
  },
  {
   "cell_type": "code",
   "execution_count": null,
   "id": "f367e0de-91f9-422e-8b01-ac9b5c6ce6e2",
   "metadata": {},
   "outputs": [],
   "source": [
    "data.dropna(axis=0, inplace=True) # drop the rows with null values\n",
    "data.isnull().sum() # return number of missing value for each column"
   ]
  },
  {
   "cell_type": "code",
   "execution_count": null,
   "id": "external-seating",
   "metadata": {
    "scrolled": true
   },
   "outputs": [],
   "source": [
    "data.TA.value_counts()"
   ]
  },
  {
   "cell_type": "code",
   "execution_count": null,
   "id": "legendary-greeting",
   "metadata": {},
   "outputs": [],
   "source": [
    "data = data[data.TA !=-999] \n",
    "data = data[data.TA != 3]\n",
    "data = data[data.TA != 4]"
   ]
  },
  {
   "cell_type": "code",
   "execution_count": null,
   "id": "eight-simulation",
   "metadata": {},
   "outputs": [],
   "source": [
    "data.TA.value_counts()"
   ]
  },
  {
   "cell_type": "code",
   "execution_count": null,
   "id": "shaped-banner",
   "metadata": {},
   "outputs": [],
   "source": [
    "Count=data.Fire.value_counts() #count target feature \n",
    "Count"
   ]
  },
  {
   "cell_type": "code",
   "execution_count": null,
   "id": "continent-watts",
   "metadata": {},
   "outputs": [],
   "source": [
    "print('Proportion:', round(Count[0] / Count[1], 2), ': 1')\n"
   ]
  },
  {
   "cell_type": "code",
   "execution_count": null,
   "id": "portuguese-macro",
   "metadata": {},
   "outputs": [],
   "source": [
    "data.LST.value_counts()"
   ]
  },
  {
   "cell_type": "code",
   "execution_count": null,
   "id": "right-closer",
   "metadata": {},
   "outputs": [],
   "source": [
    "data.info()"
   ]
  },
  {
   "cell_type": "code",
   "execution_count": null,
   "id": "broke-biography",
   "metadata": {},
   "outputs": [],
   "source": [
    "data.describe() # Statistic summary"
   ]
  },
  {
   "cell_type": "markdown",
   "id": "18c77b2f-7862-4632-ad30-2b1dffa14476",
   "metadata": {},
   "source": [
    "## Dividing The Data to be sent to Gretel"
   ]
  },
  {
   "cell_type": "code",
   "execution_count": 25,
   "id": "a25b8ebc-1726-4198-b130-90a1fc8c4430",
   "metadata": {},
   "outputs": [],
   "source": [
    "#gretle_data = data[data.Fire == 1]\n",
    "#print(len(gretle_data))\n",
    "#len(data)-32"
   ]
  },
  {
   "cell_type": "code",
   "execution_count": 26,
   "id": "4ec19b1f-0778-46c5-a5eb-c4ab8d53562e",
   "metadata": {},
   "outputs": [],
   "source": [
    "#gretle_data.to_csv('gretle_data.csv')"
   ]
  },
  {
   "cell_type": "code",
   "execution_count": 27,
   "id": "3d4c3957-5631-4ba6-8cb3-f651bd7a24e3",
   "metadata": {},
   "outputs": [],
   "source": [
    "#data.to_csv('10_day_data.csv')"
   ]
  },
  {
   "cell_type": "code",
   "execution_count": 28,
   "id": "3e5a2c0f-54f8-4688-99d6-fbdbc5f12b24",
   "metadata": {},
   "outputs": [
    {
     "data": {
      "text/html": [
       "<div>\n",
       "<style scoped>\n",
       "    .dataframe tbody tr th:only-of-type {\n",
       "        vertical-align: middle;\n",
       "    }\n",
       "\n",
       "    .dataframe tbody tr th {\n",
       "        vertical-align: top;\n",
       "    }\n",
       "\n",
       "    .dataframe thead th {\n",
       "        text-align: right;\n",
       "    }\n",
       "</style>\n",
       "<table border=\"1\" class=\"dataframe\">\n",
       "  <thead>\n",
       "    <tr style=\"text-align: right;\">\n",
       "      <th></th>\n",
       "      <th>Unnamed: 0</th>\n",
       "      <th>EVI</th>\n",
       "      <th>TA</th>\n",
       "      <th>LST</th>\n",
       "      <th>Wind</th>\n",
       "      <th>Fire</th>\n",
       "    </tr>\n",
       "  </thead>\n",
       "  <tbody>\n",
       "    <tr>\n",
       "      <th>0</th>\n",
       "      <td>1255766</td>\n",
       "      <td>-9999.0</td>\n",
       "      <td>5.0</td>\n",
       "      <td>13816.0</td>\n",
       "      <td>-9999.0</td>\n",
       "      <td>1.0</td>\n",
       "    </tr>\n",
       "    <tr>\n",
       "      <th>1</th>\n",
       "      <td>1247033</td>\n",
       "      <td>-9999.0</td>\n",
       "      <td>5.0</td>\n",
       "      <td>13825.0</td>\n",
       "      <td>-9999.0</td>\n",
       "      <td>1.0</td>\n",
       "    </tr>\n",
       "    <tr>\n",
       "      <th>2</th>\n",
       "      <td>1270936</td>\n",
       "      <td>-9999.0</td>\n",
       "      <td>5.0</td>\n",
       "      <td>13808.0</td>\n",
       "      <td>-9999.0</td>\n",
       "      <td>1.0</td>\n",
       "    </tr>\n",
       "    <tr>\n",
       "      <th>3</th>\n",
       "      <td>1394565</td>\n",
       "      <td>-9999.0</td>\n",
       "      <td>5.0</td>\n",
       "      <td>13818.0</td>\n",
       "      <td>-9999.0</td>\n",
       "      <td>1.0</td>\n",
       "    </tr>\n",
       "    <tr>\n",
       "      <th>4</th>\n",
       "      <td>1243489</td>\n",
       "      <td>-9999.0</td>\n",
       "      <td>5.0</td>\n",
       "      <td>13828.0</td>\n",
       "      <td>-9999.0</td>\n",
       "      <td>1.0</td>\n",
       "    </tr>\n",
       "  </tbody>\n",
       "</table>\n",
       "</div>"
      ],
      "text/plain": [
       "   Unnamed: 0     EVI   TA      LST    Wind  Fire\n",
       "0     1255766 -9999.0  5.0  13816.0 -9999.0   1.0\n",
       "1     1247033 -9999.0  5.0  13825.0 -9999.0   1.0\n",
       "2     1270936 -9999.0  5.0  13808.0 -9999.0   1.0\n",
       "3     1394565 -9999.0  5.0  13818.0 -9999.0   1.0\n",
       "4     1243489 -9999.0  5.0  13828.0 -9999.0   1.0"
      ]
     },
     "execution_count": 28,
     "metadata": {},
     "output_type": "execute_result"
    }
   ],
   "source": [
    "gretle_1_to_1 = pd.read_csv('gretle_data_1_to_1.csv', on_bad_lines='skip')\n",
    "gretle_1_to_1.head()"
   ]
  },
  {
   "cell_type": "markdown",
   "id": "68865043-062a-4241-bc72-1b280029e541",
   "metadata": {},
   "source": [
    "### Spliting Gretel Data"
   ]
  },
  {
   "cell_type": "markdown",
   "id": "19de3e9c",
   "metadata": {
    "jp-MarkdownHeadingCollapsed": true
   },
   "source": [
    "## Splitting Data & Scaling Data\n",
    "We are making the data have similar range for the machine model to not weight one varible bigger then the other"
   ]
  },
  {
   "cell_type": "code",
   "execution_count": null,
   "id": "c2d0f0bc",
   "metadata": {},
   "outputs": [],
   "source": [
    "# Getting the X & Y\n",
    "X = data.drop(columns=['Fire']).values\n",
    "Y = data['Fire'].values\n",
    "    \n",
    "# Labeling the variables\n",
    "scale = StandardScaler()\n",
    "X = scale.fit_transform(X) \n"
   ]
  },
  {
   "cell_type": "code",
   "execution_count": null,
   "id": "823c97fb",
   "metadata": {},
   "outputs": [],
   "source": [
    "# 20% test 80% training data             \n",
    "X_train, X_test, y_train, y_test, = train_test_split(X, Y, test_size=0.2,random_state = 42)\n",
    "\n",
    "                                                         # 0.25 x 0.8 = 0.2 for validation data\n",
    "X_train, X_val, y_train, y_val, = train_test_split(X_train, y_train, test_size=0.25,random_state = 16) "
   ]
  },
  {
   "cell_type": "code",
   "execution_count": null,
   "id": "358c0ebf-f364-48a2-8a4c-2a9f9d82144f",
   "metadata": {},
   "outputs": [],
   "source": [
    "from sklearn.decomposition import PCA\n",
    " \n",
    "pca = PCA(n_components = 2)\n",
    " \n",
    "X_train = pca.fit_transform(X_train)\n",
    "X_test = pca.transform(X_test)\n",
    " \n",
    "explained_variance = pca.explained_variance_ratio_"
   ]
  },
  {
   "cell_type": "markdown",
   "id": "b347e92f",
   "metadata": {},
   "source": [
    "# Fixing the Imbalanced Data"
   ]
  },
  {
   "cell_type": "markdown",
   "id": "e0ba5755-0e13-45b3-b2dd-e4818ae72715",
   "metadata": {
    "jp-MarkdownHeadingCollapsed": true
   },
   "source": [
    "## Oversamling Data"
   ]
  },
  {
   "cell_type": "markdown",
   "id": "ae0d0f61-78fe-4792-8330-247d5998e703",
   "metadata": {},
   "source": [
    "### SMOTE"
   ]
  },
  {
   "cell_type": "code",
   "execution_count": null,
   "id": "f21765f6",
   "metadata": {},
   "outputs": [],
   "source": [
    "from imblearn.over_sampling import SMOTE\n",
    "\n",
    "counter = Counter(y_train)\n",
    "print('Before',counter)\n",
    "# oversampling the train dataset using SMOTE\n",
    "smt = SMOTE(n_jobs=-1)\n",
    "#X_train, y_train = smt.fit_resample(X_train, y_train)\n",
    "X_train_sm, y_train_sm = smt.fit_resample(X_train, y_train)\n",
    "\n",
    "counter = Counter(y_train_sm)\n",
    "print('After',counter)"
   ]
  },
  {
   "cell_type": "markdown",
   "id": "bba8a526",
   "metadata": {},
   "source": [
    "### ADASYN Technique"
   ]
  },
  {
   "cell_type": "code",
   "execution_count": null,
   "id": "e5db5adc",
   "metadata": {},
   "outputs": [],
   "source": [
    "from imblearn.over_sampling import ADASYN\n",
    "\n",
    "counter = Counter(y_train)\n",
    "print('Before',counter)\n",
    "# oversampling the train dataset using ADASYN\n",
    "ada = ADASYN(random_state=130, n_jobs=-1)\n",
    "X_train_ada, y_train_ada = ada.fit_resample(X_train, y_train)\n",
    "\n",
    "counter = Counter(y_train_ada)\n",
    "print('After',counter)"
   ]
  },
  {
   "cell_type": "markdown",
   "id": "f647970f",
   "metadata": {},
   "source": [
    "### SMOTE + Tomek Links"
   ]
  },
  {
   "cell_type": "code",
   "execution_count": null,
   "id": "1f7e59fd",
   "metadata": {},
   "outputs": [],
   "source": [
    "from imblearn.combine import SMOTETomek\n",
    "\n",
    "counter = Counter(y_train)\n",
    "print('Before',counter)\n",
    "# oversampling the train dataset using SMOTE + Tomek\n",
    "smtom = SMOTETomek(random_state=139,n_jobs=-1)\n",
    "X_train_smtom, y_train_smtom = smtom.fit_resample(X_train, y_train)\n",
    "\n",
    "counter = Counter(y_train_smtom)\n",
    "print('After',counter)"
   ]
  },
  {
   "cell_type": "markdown",
   "id": "6e26d64d",
   "metadata": {},
   "source": [
    "### SMOTE + ENN"
   ]
  },
  {
   "cell_type": "code",
   "execution_count": null,
   "id": "99fb0b70",
   "metadata": {},
   "outputs": [],
   "source": [
    "from imblearn.combine import SMOTEENN\n",
    "\n",
    "counter = Counter(y_train)\n",
    "print('Before',counter)\n",
    "# oversampling the train dataset using SMOTE + ENN\n",
    "smenn = SMOTEENN(n_jobs=-1)\n",
    "X_train_smenn, y_train_smenn = smenn.fit_resample(X_train, y_train)\n",
    "\n",
    "counter = Counter(y_train_smenn)\n",
    "print('After',counter)"
   ]
  },
  {
   "cell_type": "markdown",
   "id": "aeebb669",
   "metadata": {},
   "source": [
    "# Building Models"
   ]
  },
  {
   "cell_type": "markdown",
   "id": "ddf21495-1ece-46c2-9bc5-c97e83d0aa1a",
   "metadata": {
    "jp-MarkdownHeadingCollapsed": true
   },
   "source": [
    "## AUX Meathods"
   ]
  },
  {
   "cell_type": "code",
   "execution_count": null,
   "id": "746cb77b-0a1c-4637-990d-89c12a2536f2",
   "metadata": {},
   "outputs": [],
   "source": [
    "save_location = str(\"saved_plots/\")"
   ]
  },
  {
   "cell_type": "code",
   "execution_count": null,
   "id": "129a095d-8c39-4776-a817-1ff69a894b7a",
   "metadata": {},
   "outputs": [],
   "source": [
    "model = list()\n",
    "resample = list()\n",
    "precision = list()\n",
    "recall = list()\n",
    "F1score = list()\n",
    "AUCROC = list()"
   ]
  },
  {
   "cell_type": "code",
   "execution_count": null,
   "id": "2fff69c0-1cd4-4bde-a356-0e52aefd33d8",
   "metadata": {},
   "outputs": [],
   "source": [
    "# Confusion Matrix Meathod\n",
    "def confusion_matrix_build(y_test, predicted, model_name):\n",
    "    NB_cm = confusion_matrix(y_test, predicted)\n",
    "    group_names = ['TN','FP','FN','TP']\n",
    "    group_counts = [\"{0:0.0f}\".format(value) for value in\n",
    "                    NB_cm.flatten()]\n",
    "    labels = [f\"{v1}\\n{v2}\" for v1, v2 in\n",
    "              zip(group_names,group_counts)]\n",
    "    labels = np.asarray(labels).reshape(2,2)\n",
    "    sns.heatmap(NB_cm,annot=labels,fmt='')\n",
    "    plt.title(model_name)\n",
    "    plt.ylabel('True label',fontweight='bold')\n",
    "    plt.xlabel('Predicted label',fontweight='bold')\n",
    "    plt.savefig(f\"{save_location}{model_name}\",dpi=300,bbox_inches='tight', transparent=True)"
   ]
  },
  {
   "cell_type": "code",
   "execution_count": null,
   "id": "8e0526e0-c733-4bf2-984b-186324dc0f4c",
   "metadata": {},
   "outputs": [],
   "source": [
    "def evaluation_report(clf_model, X_test, y_test, algo=None, sampling=None):\n",
    "    # Test set prediction\n",
    "    y_prob=clf_model.predict_proba(X_test)\n",
    "    y_pred=clf_model.predict(X_test)\n",
    "\n",
    "    \n",
    "    print('Classification Report')\n",
    "    print('='*60)\n",
    "    print(classification_report(y_test,y_pred),\"\\n\")\n",
    "    print('AUC-ROC')\n",
    "    print('='*60)\n",
    "    print(roc_auc_score(y_test, y_prob[:,1]))\n",
    "    print('='*60)\n",
    "    print('Confusion Matrix')\n",
    "    confusion_matrix_build(y_test, y_pred, f\"{algo}{sampling}\")\n",
    "          \n",
    "    model.append(algo)\n",
    "    precision.append(precision_score(y_test,y_pred))\n",
    "    recall.append(recall_score(y_test,y_pred))\n",
    "    F1score.append(f1_score(y_test,y_pred))\n",
    "    AUCROC.append(roc_auc_score(y_test, y_prob[:,1]))\n",
    "    resample.append(sampling)"
   ]
  },
  {
   "cell_type": "markdown",
   "id": "lesser-hanging",
   "metadata": {
    "jp-MarkdownHeadingCollapsed": true
   },
   "source": [
    "## Gaussian Naive Bayes"
   ]
  },
  {
   "cell_type": "markdown",
   "id": "60e2ffaa-aa52-4466-858b-1a5e471dd4e6",
   "metadata": {},
   "source": [
    "### Gaussian Naive Bayes Original Data"
   ]
  },
  {
   "cell_type": "code",
   "execution_count": 42,
   "id": "recognized-sunset",
   "metadata": {
    "scrolled": true
   },
   "outputs": [
    {
     "name": "stdout",
     "output_type": "stream",
     "text": [
      "Classification Report\n",
      "============================================================\n",
      "              precision    recall  f1-score   support\n",
      "\n",
      "           0       1.00      1.00      1.00  17765364\n",
      "           1       0.00      0.00      0.00     14887\n",
      "\n",
      "    accuracy                           1.00  17780251\n",
      "   macro avg       0.50      0.50      0.50  17780251\n",
      "weighted avg       1.00      1.00      1.00  17780251\n",
      " \n",
      "\n",
      "AUC-ROC\n",
      "============================================================\n",
      "0.8697097371537165\n",
      "============================================================\n",
      "Confusion Matrix\n"
     ]
    },
    {
     "data": {
      "image/png": "[encoded data removed]",
      "text/plain": [
       "<Figure size 432x288 with 2 Axes>"
      ]
     },
     "metadata": {
      "needs_background": "light"
     },
     "output_type": "display_data"
    }
   ],
   "source": [
    "NB= GaussianNB(var_smoothing= 2.848035868435799e-08)\n",
    "NB.fit(X_train, y_train)\n",
    "\n",
    "evaluation_report(NB, X_test, y_test, 'Gaussian Naive Bayes', 'actual')"
   ]
  },
  {
   "cell_type": "code",
   "execution_count": 41,
   "id": "a8b75d9b-3edf-48cc-86e3-b41c1afc6afc",
   "metadata": {
    "scrolled": true
   },
   "outputs": [
    {
     "name": "stdout",
     "output_type": "stream",
     "text": [
      "Fitting 3 folds for each of 10 candidates, totalling 30 fits\n",
      "[CV] END ................var_smoothing=2.848035868435799e-08; total time=  18.0s\n",
      "[CV] END ................var_smoothing=2.848035868435799e-08; total time=  15.4s\n",
      "[CV] END ................var_smoothing=2.848035868435799e-08; total time=  17.2s\n",
      "[CV] END ...............var_smoothing=1.5199110829529332e-05; total time=  17.1s\n",
      "[CV] END ...............var_smoothing=1.5199110829529332e-05; total time=  15.5s\n",
      "[CV] END ...............var_smoothing=1.5199110829529332e-05; total time=  15.4s\n",
      "[CV] END ...............var_smoothing=4.3287612810830526e-07; total time=  15.7s\n",
      "[CV] END ...............var_smoothing=4.3287612810830526e-07; total time=  12.9s\n",
      "[CV] END ...............var_smoothing=4.3287612810830526e-07; total time=  16.5s\n",
      "[CV] END ................var_smoothing=8.111308307896872e-05; total time=  13.8s\n",
      "[CV] END ................var_smoothing=8.111308307896872e-05; total time=  14.4s\n",
      "[CV] END ................var_smoothing=8.111308307896872e-05; total time=  14.9s\n",
      "[CV] END ...............................var_smoothing=0.0001; total time=  13.6s\n",
      "[CV] END ...............................var_smoothing=0.0001; total time=  16.2s\n",
      "[CV] END ...............................var_smoothing=0.0001; total time=  13.4s\n",
      "[CV] END ................var_smoothing=0.0002848035868435802; total time=  15.0s\n",
      "[CV] END ................var_smoothing=0.0002848035868435802; total time=  15.2s\n",
      "[CV] END ................var_smoothing=0.0002848035868435802; total time=  13.6s\n",
      "[CV] END .................................var_smoothing=0.01; total time=  15.7s\n",
      "[CV] END .................................var_smoothing=0.01; total time=  12.9s\n",
      "[CV] END .................................var_smoothing=0.01; total time=  15.1s\n",
      "[CV] END ................var_smoothing=5.336699231206302e-08; total time=  12.3s\n",
      "[CV] END ................var_smoothing=5.336699231206302e-08; total time=  13.5s\n",
      "[CV] END ................var_smoothing=5.336699231206302e-08; total time=  13.6s\n",
      "[CV] END ..................var_smoothing=0.12328467394420659; total time=  12.5s\n",
      "[CV] END ..................var_smoothing=0.12328467394420659; total time=  14.3s\n",
      "[CV] END ..................var_smoothing=0.12328467394420659; total time=  11.7s\n",
      "[CV] END ..................................var_smoothing=1.0; total time=  15.1s\n",
      "[CV] END ..................................var_smoothing=1.0; total time=  10.9s\n",
      "[CV] END ..................................var_smoothing=1.0; total time=  15.8s\n"
     ]
    },
    {
     "data": {
      "text/plain": [
       "{'var_smoothing': 2.848035868435799e-08}"
      ]
     },
     "execution_count": 41,
     "metadata": {},
     "output_type": "execute_result"
    }
   ],
   "source": [
    "# #Hyperparameter Tuning for Gaussian Naive Bayes\n",
    "#params_NB = {'var_smoothing': np.logspace(0,-9, num=100)}\n",
    "#NB = GaussianNB()\n",
    "#NB_ran = RandomizedSearchCV(NB, param_distributions=params_NB, \n",
    "#                            verbose=2, cv=3, random_state=42, n_iter=10, scoring='accuracy')\n",
    "#NB_ran.fit(X_train, y_train)\n",
    "#NB_ran.best_params_"
   ]
  },
  {
   "cell_type": "markdown",
   "id": "834e1ee9-b296-4873-b692-cda4b09842bb",
   "metadata": {},
   "source": [
    "### Gaussian -- SMOTE"
   ]
  },
  {
   "cell_type": "code",
   "execution_count": 43,
   "id": "6592e9b0-b471-40fa-a4b6-22b3bcd25a67",
   "metadata": {},
   "outputs": [
    {
     "name": "stdout",
     "output_type": "stream",
     "text": [
      "Classification Report\n",
      "============================================================\n",
      "              precision    recall  f1-score   support\n",
      "\n",
      "           0       1.00      0.73      0.84  17765364\n",
      "           1       0.00      0.89      0.01     14887\n",
      "\n",
      "    accuracy                           0.73  17780251\n",
      "   macro avg       0.50      0.81      0.42  17780251\n",
      "weighted avg       1.00      0.73      0.84  17780251\n",
      " \n",
      "\n",
      "AUC-ROC\n",
      "============================================================\n",
      "0.869717935235238\n",
      "============================================================\n",
      "Confusion Matrix\n"
     ]
    },
    {
     "data": {
      "image/png": "[encoded data removed]",
      "text/plain": [
       "<Figure size 432x288 with 2 Axes>"
      ]
     },
     "metadata": {
      "needs_background": "light"
     },
     "output_type": "display_data"
    }
   ],
   "source": [
    "NB.fit(X_train_sm, y_train_sm)\n",
    "\n",
    "evaluation_report(NB, X_test, y_test, 'Gaussian Naive Bayes', ' SMOTE')"
   ]
  },
  {
   "cell_type": "markdown",
   "id": "5ff112fe-b875-4676-ba5c-cf605c6b3e98",
   "metadata": {},
   "source": [
    "### Gaussian -- ADASYN"
   ]
  },
  {
   "cell_type": "code",
   "execution_count": 44,
   "id": "324f7e59-9984-4a31-b587-04057f0aa28c",
   "metadata": {},
   "outputs": [
    {
     "name": "stdout",
     "output_type": "stream",
     "text": [
      "Classification Report\n",
      "============================================================\n",
      "              precision    recall  f1-score   support\n",
      "\n",
      "           0       1.00      0.73      0.84  17765364\n",
      "           1       0.00      0.89      0.01     14887\n",
      "\n",
      "    accuracy                           0.73  17780251\n",
      "   macro avg       0.50      0.81      0.42  17780251\n",
      "weighted avg       1.00      0.73      0.84  17780251\n",
      " \n",
      "\n",
      "AUC-ROC\n",
      "============================================================\n",
      "0.8696884006635736\n",
      "============================================================\n",
      "Confusion Matrix\n"
     ]
    },
    {
     "data": {
      "image/png": "[encoded data removed]",
      "text/plain": [
       "<Figure size 432x288 with 2 Axes>"
      ]
     },
     "metadata": {
      "needs_background": "light"
     },
     "output_type": "display_data"
    }
   ],
   "source": [
    "NB.fit(X_train_ada, y_train_ada)\n",
    "\n",
    "evaluation_report(NB, X_test, y_test, 'Gaussian Naive Bayes', 'ADASYN')"
   ]
  },
  {
   "cell_type": "markdown",
   "id": "9510923f-efb1-4ccc-98eb-788335683c85",
   "metadata": {},
   "source": [
    "### Gaussian -- SMOTE + TOMEK"
   ]
  },
  {
   "cell_type": "code",
   "execution_count": null,
   "id": "2c926d94-62b8-4e4d-8dea-09cc50469365",
   "metadata": {},
   "outputs": [],
   "source": [
    "NB.fit(X_train_smtom, y_train_smtom)\n",
    "\n",
    "evaluation_report(NB, X_test, y_test, 'Gaussian Naive Bayes', 'SMOTE + TOMEK')"
   ]
  },
  {
   "cell_type": "markdown",
   "id": "9386ffbf-0976-41c5-a8da-1afe8f90c7ba",
   "metadata": {},
   "source": [
    "### Gaussian -- SMOTE + ENN"
   ]
  },
  {
   "cell_type": "code",
   "execution_count": null,
   "id": "1f71c096-1dce-4be5-b09f-36fa447ff921",
   "metadata": {},
   "outputs": [],
   "source": [
    "NB.fit(X_train_smenn, y_train_smenn)\n",
    "\n",
    "evaluation_report(NB, X_test, y_test, 'Gaussian Naive Bayes', 'SMOTE + ENN')"
   ]
  },
  {
   "cell_type": "markdown",
   "id": "amber-yahoo",
   "metadata": {
    "jp-MarkdownHeadingCollapsed": true
   },
   "source": [
    "## K - Nearest Neighbors"
   ]
  },
  {
   "cell_type": "code",
   "execution_count": null,
   "id": "agreed-blend",
   "metadata": {},
   "outputs": [],
   "source": [
    "KNN = KNeighborsClassifier(metric= 'euclidean', n_neighbors= 13, weights='uniform', n_jobs=-1)  \n",
    "KNN.fit(X_train, y_train)\n",
    "\n",
    "evaluation_report(KNN, X_test, y_test, 'KNN', ' Original')"
   ]
  },
  {
   "cell_type": "code",
   "execution_count": null,
   "id": "8033320f-1fb2-44a4-a86e-8e17974add14",
   "metadata": {},
   "outputs": [],
   "source": [
    "# #Hyperparameter Tuning for KNN\n",
    "n_neighbors = range(1, 21, 2)\n",
    "weights = ['uniform', 'distance']\n",
    "metric = ['euclidean', 'manhattan', 'minkowski']\n",
    "# define grid search\n",
    "grid = dict(n_neighbors=n_neighbors,weights=weights,metric=metric)\n",
    "cv = RepeatedStratifiedKFold(n_splits=10, n_repeats=3, random_state=42)\n",
    "grid_search = GridSearchCV(estimator=KNN, param_grid=grid, n_jobs=-1, cv=cv, scoring='accuracy',error_score=0)\n",
    "grid_result = grid_search.fit(X, Y)\n",
    "# summarize results\n",
    "print(\"Best: %f using %s\" % (grid_result.best_score_, grid_result.best_params_))\n",
    "means = grid_result.cv_results_['mean_test_score']\n",
    "stds = grid_result.cv_results_['std_test_score']\n",
    "params = grid_result.cv_results_['params']\n",
    "for mean, stdev, param in zip(means, stds, params):\n",
    "    print(\"%f (%f) with: %r\" % (mean, stdev, param))"
   ]
  },
  {
   "cell_type": "markdown",
   "id": "6500e927-fe3b-4519-bbf6-ec71bc26a222",
   "metadata": {},
   "source": [
    "### KNN - SMOTE"
   ]
  },
  {
   "cell_type": "code",
   "execution_count": null,
   "id": "e889d2ed-e156-4ccd-8948-dc2e39eefb27",
   "metadata": {},
   "outputs": [],
   "source": [
    "KNN.fit(X_train_sm, y_train_sm)\n",
    "\n",
    "evaluation_report(KNN, X_test, y_test, 'KNN ', 'SMOTE')"
   ]
  },
  {
   "cell_type": "markdown",
   "id": "8ab49e3d-d679-4f5e-84f4-84f3817243b6",
   "metadata": {},
   "source": [
    "### KNN - ADASYN"
   ]
  },
  {
   "cell_type": "code",
   "execution_count": null,
   "id": "032550aa-3368-4380-8c8d-6cf2f452ae69",
   "metadata": {},
   "outputs": [],
   "source": [
    "KNN.fit(X_train_ada, y_train_ada)\n",
    "\n",
    "evaluation_report(KNN, X_test, y_test, 'KNN', ' ADASYN')"
   ]
  },
  {
   "cell_type": "markdown",
   "id": "ec7710f6-abaf-4750-9547-ab7772966c79",
   "metadata": {},
   "source": [
    "### KNN - SMOTE + TOMEK"
   ]
  },
  {
   "cell_type": "code",
   "execution_count": null,
   "id": "6e18aabb-45f5-4a5e-a5bf-32583331ea42",
   "metadata": {},
   "outputs": [],
   "source": [
    "KNN.fit(X_train_smtom, y_train_smtom)\n",
    "\n",
    "evaluation_report(KNN, X_test, y_test, 'KNN', ' SMOTE + TOMEK')"
   ]
  },
  {
   "cell_type": "markdown",
   "id": "eccc3800-a86f-45ef-a4f2-8a0f12c5e90e",
   "metadata": {},
   "source": [
    "### KNN - SMOTE + ENN"
   ]
  },
  {
   "cell_type": "code",
   "execution_count": null,
   "id": "e8282516-62bd-4fa7-9af7-a5fe435f44c4",
   "metadata": {},
   "outputs": [],
   "source": [
    "KNN.fit(X_train_smenn, y_train_smenn)\n",
    "\n",
    "evaluation_report(KNN, X_test, y_test, 'KNN ', 'SMOTE + ENN')"
   ]
  },
  {
   "cell_type": "markdown",
   "id": "saving-current",
   "metadata": {
    "jp-MarkdownHeadingCollapsed": true
   },
   "source": [
    "## Neural Networks"
   ]
  },
  {
   "cell_type": "code",
   "execution_count": null,
   "id": "amino-antigua",
   "metadata": {},
   "outputs": [],
   "source": [
    "from sklearn.neural_network import MLPClassifier\n",
    "\n",
    "mlp = MLPClassifier(hidden_layer_sizes=(8,8,8), activation='relu', solver='adam', max_iter=500)\n",
    "#mpl = MLPClassifier(activation= 'tanh', alpha= 0.0001, hidden_layer_sizes= (20,), learning_rate= 'adaptive', solver= 'sgd')\n",
    "mlp.fit(X_train,y_train)\n",
    "\n",
    "NN_pred_train = mlp.predict(X_train)\n",
    "NN_pred_test = mlp.predict(X_test)\n",
    "\n",
    "evaluation_report(mlp, X_test, y_test, 'Neural Network', ' Original')"
   ]
  },
  {
   "cell_type": "markdown",
   "id": "04fdebdc-c65d-48f5-ae0a-7825ef40f63a",
   "metadata": {},
   "source": [
    "### NN - SMOTE"
   ]
  },
  {
   "cell_type": "code",
   "execution_count": null,
   "id": "f2ca1fa0-55db-44aa-a10e-f4a684bbfdab",
   "metadata": {},
   "outputs": [],
   "source": [
    "mlp.fit(X_train_sm,y_train_sm)\n",
    "\n",
    "evaluation_report(mlp, X_test, y_test, 'Neural Network', ' SMOTE')"
   ]
  },
  {
   "cell_type": "markdown",
   "id": "e230c205-02da-4c05-bea9-5f55cd6b2532",
   "metadata": {},
   "source": [
    "### NN - ADASYN"
   ]
  },
  {
   "cell_type": "code",
   "execution_count": null,
   "id": "ebf0e5d5-ce41-454f-bf68-ee98137973af",
   "metadata": {},
   "outputs": [],
   "source": [
    "mlp.fit(X_train_ada,y_train_ada)\n",
    "\n",
    "evaluation_report(mlp, X_test, y_test, 'Neural Network', ' ADASYN')"
   ]
  },
  {
   "cell_type": "markdown",
   "id": "945d2274-ccb5-4149-9034-d1c33e49d023",
   "metadata": {},
   "source": [
    "### NN - SMOTE + TOMEK"
   ]
  },
  {
   "cell_type": "code",
   "execution_count": null,
   "id": "05da00d7-17d0-488b-9b96-de2b332dd285",
   "metadata": {},
   "outputs": [],
   "source": [
    "mlp.fit(X_train_smtom,y_train_smtom)\n",
    "\n",
    "evaluation_report(mlp, X_test, y_test, 'Neural Network', ' SMOTE + TOMEK')"
   ]
  },
  {
   "cell_type": "markdown",
   "id": "53caef9d-5ac0-4b58-894d-82f70d6eae6c",
   "metadata": {},
   "source": [
    "### NN - SMOTE + ENN"
   ]
  },
  {
   "cell_type": "code",
   "execution_count": null,
   "id": "822cf953-e093-42dd-88f6-901d7ff60964",
   "metadata": {},
   "outputs": [],
   "source": [
    "mlp.fit(X_train_smenn,y_train_smenn)\n",
    "\n",
    "evaluation_report(mlp, X_test, y_test, 'Neural Network', ' SMOTE + ENN')"
   ]
  },
  {
   "cell_type": "markdown",
   "id": "0de91ba3-1771-44f8-8ba7-72b5db523952",
   "metadata": {},
   "source": [
    "# Model Compereson"
   ]
  },
  {
   "cell_type": "code",
   "execution_count": null,
   "id": "867890a0-2eec-48ea-878f-ea76e6e463da",
   "metadata": {},
   "outputs": [],
   "source": [
    "clf_eval_df = pd.DataFrame({'model':model,\n",
    "                            'resample':resample,\n",
    "                            'precision':precision,\n",
    "                            'recall':recall,\n",
    "                            'f1-score':F1score,\n",
    "                            'AUC-ROC':AUCROC})"
   ]
  },
  {
   "cell_type": "code",
   "execution_count": null,
   "id": "b709207e-da99-405e-a1d5-8beeb77e2073",
   "metadata": {},
   "outputs": [],
   "source": [
    "clf_eval_df"
   ]
  },
  {
   "cell_type": "code",
   "execution_count": null,
   "id": "f015d732-8b2a-4ed4-a164-a705734411b9",
   "metadata": {},
   "outputs": [],
   "source": [
    "sns.set(font_scale=1.2)\n",
    "g = sns.FacetGrid(clf_eval_df, col=\"model\", height=5)\n",
    "g.map(sns.barplot, \"resample\", \"recall\", palette='twilight', order=[\"actual\", \"smote\", \"adasyn\", \"smote+tomek\", \"smote+enn\"])\n",
    "g.set_xticklabels(rotation=30)\n",
    "g.set_xlabels(' ', fontsize=14)\n",
    "g.set_ylabels('Recall', fontsize=14)"
   ]
  },
  {
   "cell_type": "code",
   "execution_count": null,
   "id": "7257a1d5-02ce-4f98-905b-218a51a590f5",
   "metadata": {},
   "outputs": [],
   "source": []
  }
 ],
 "metadata": {
  "kernelspec": {
   "display_name": "venvpy3",
   "language": "python",
   "name": "venvpy3"
  },
  "language_info": {
   "codemirror_mode": {
    "name": "ipython",
    "version": 3
   },
   "file_extension": ".py",
   "mimetype": "text/x-python",
   "name": "python",
   "nbconvert_exporter": "python",
   "pygments_lexer": "ipython3",
   "version": "3.10.12"
  }
 },
 "nbformat": 4,
 "nbformat_minor": 5
}
