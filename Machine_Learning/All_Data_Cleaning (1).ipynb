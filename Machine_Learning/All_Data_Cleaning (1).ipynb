{
 "cells": [
  {
   "cell_type": "code",
   "execution_count": 2,
   "id": "6e6638ac-d1ef-48e9-b459-7e631d7ccb88",
   "metadata": {},
   "outputs": [],
   "source": [
    "# This was code that attempted to combine all 10 years of data into a single pandas Dataframe. But failed.\n",
    "# The issue was in storing over 70 gigabytes worth of CSV files in a singe Dataframe, which crashed the program half way through\n",
    "# \n",
    "#\n",
    "#\n",
    "#"
   ]
  },
  {
   "cell_type": "code",
   "execution_count": 1,
   "id": "3b282e3b",
   "metadata": {
    "scrolled": true
   },
   "outputs": [],
   "source": [
    "#Load libaries\n",
    "import os\n",
    "import pandas as pd \n",
    "import seaborn as sns\n",
    "import numpy as np \n",
    "import matplotlib.pyplot as plt \n",
    "from pydotplus import graph_from_dot_data\n",
    "from sklearn import preprocessing\n",
    "from sklearn.preprocessing import StandardScaler, LabelEncoder\n",
    "from scipy import stats\n",
    "from sklearn.linear_model import LogisticRegression\n",
    "from sklearn.naive_bayes import MultinomialNB\n",
    "from sklearn.naive_bayes import GaussianNB\n",
    "from sklearn.neighbors import KNeighborsClassifier\n",
    "from sklearn.ensemble import RandomForestClassifier, RandomForestRegressor\n",
    "from sklearn.svm import SVC \n",
    "from sklearn import svm, metrics\n",
    "from sklearn.model_selection import GridSearchCV, RandomizedSearchCV\n",
    "from sklearn.metrics import confusion_matrix, classification_report\n",
    "from sklearn.model_selection import train_test_split, GridSearchCV, cross_validate, cross_val_score, KFold\n",
    "from sklearn.model_selection import RepeatedStratifiedKFold\n",
    "from sklearn.linear_model import ElasticNet\n",
    "from sklearn.metrics import mean_squared_error\n",
    "from sklearn.metrics import roc_curve\n",
    "from sklearn.metrics import roc_auc_score, accuracy_score, f1_score, precision_score, recall_score\n",
    "from collections import Counter\n",
    "\n",
    "import warnings\n",
    "warnings.filterwarnings('ignore')\n",
    "            "
   ]
  },
  {
   "cell_type": "markdown",
   "id": "e7fd8bb3-efe9-4081-b11f-4aa932689cc3",
   "metadata": {},
   "source": [
    "### Looking into ALL Data"
   ]
  },
  {
   "cell_type": "code",
   "execution_count": 2,
   "id": "73d77916-b07c-4e9e-a5d6-e7d7d08c7b20",
   "metadata": {},
   "outputs": [],
   "source": [
    "data = pd.DataFrame()   # Empty dataset"
   ]
  },
  {
   "cell_type": "code",
   "execution_count": null,
   "id": "67f3fe1c-7a2d-419e-b51a-d95dae950dca",
   "metadata": {},
   "outputs": [
    {
     "name": "stdout",
     "output_type": "stream",
     "text": [
      "Done sorting\n",
      "File name: 2018data.csv\n",
      "File name: 2020data.csv\n",
      "File name: 2013data.csv\n",
      "File name: 2019data.csv\n",
      "File name: 2014data.csv\n",
      "File name: 2015data.csv\n",
      "File name: 2022data.csv\n",
      "File name: 2021data.csv\n"
     ]
    }
   ],
   "source": [
    "directory_path = \"Data\"\n",
    "file_list = os.listdir(directory_path)\n",
    "\n",
    "# Sort the list of files\n",
    "sorted_files = sorted(file_list)\n",
    "print(\"Done sorting\")\n",
    "\n",
    "for filename in file_list:\n",
    "    file_path = os.path.join(directory_path, filename)\n",
    "\n",
    "    with open(file_path, 'r') as file:\n",
    "        print(f\"File name: {filename}\")\n",
    "        temp_data= pd.read_csv(file_path, on_bad_lines='skip')\n",
    "        data = pd.concat([data, temp_data], axis=0)\n",
    "        \n",
    "\n",
    "print(\"DONE!\")"
   ]
  },
  {
   "cell_type": "code",
   "execution_count": null,
   "id": "7dafaf38-e17a-451c-b164-14e65b24e212",
   "metadata": {},
   "outputs": [],
   "source": [
    "data.head()"
   ]
  },
  {
   "cell_type": "markdown",
   "id": "0d35feef",
   "metadata": {},
   "source": [
    "# Cleaning the data"
   ]
  },
  {
   "cell_type": "markdown",
   "id": "5f40f964-dae8-4316-89bc-22f9bce7a19a",
   "metadata": {},
   "source": [
    "## Debuging Data"
   ]
  },
  {
   "cell_type": "code",
   "execution_count": 18,
   "id": "d4b2b1d3-a3b9-4f73-8385-715d77593d7a",
   "metadata": {},
   "outputs": [
    {
     "data": {
      "text/html": [
       "<div>\n",
       "<style scoped>\n",
       "    .dataframe tbody tr th:only-of-type {\n",
       "        vertical-align: middle;\n",
       "    }\n",
       "\n",
       "    .dataframe tbody tr th {\n",
       "        vertical-align: top;\n",
       "    }\n",
       "\n",
       "    .dataframe thead th {\n",
       "        text-align: right;\n",
       "    }\n",
       "</style>\n",
       "<table border=\"1\" class=\"dataframe\">\n",
       "  <thead>\n",
       "    <tr style=\"text-align: right;\">\n",
       "      <th></th>\n",
       "      <th>Date</th>\n",
       "      <th>Longitude</th>\n",
       "      <th>Latitude</th>\n",
       "      <th>EVI</th>\n",
       "      <th>TA</th>\n",
       "      <th>LST</th>\n",
       "      <th>Wind</th>\n",
       "      <th>Fire</th>\n",
       "    </tr>\n",
       "  </thead>\n",
       "  <tbody>\n",
       "    <tr>\n",
       "      <th>0</th>\n",
       "      <td>2022-01-01</td>\n",
       "      <td>-123.754626</td>\n",
       "      <td>41.994986</td>\n",
       "      <td>1712</td>\n",
       "      <td>5</td>\n",
       "      <td>13505</td>\n",
       "      <td>23</td>\n",
       "      <td>0</td>\n",
       "    </tr>\n",
       "    <tr>\n",
       "      <th>1</th>\n",
       "      <td>2022-01-01</td>\n",
       "      <td>-123.750462</td>\n",
       "      <td>41.994986</td>\n",
       "      <td>1923</td>\n",
       "      <td>5</td>\n",
       "      <td>13505</td>\n",
       "      <td>23</td>\n",
       "      <td>0</td>\n",
       "    </tr>\n",
       "    <tr>\n",
       "      <th>2</th>\n",
       "      <td>2022-01-01</td>\n",
       "      <td>-123.746298</td>\n",
       "      <td>41.994986</td>\n",
       "      <td>1923</td>\n",
       "      <td>5</td>\n",
       "      <td>13505</td>\n",
       "      <td>23</td>\n",
       "      <td>0</td>\n",
       "    </tr>\n",
       "    <tr>\n",
       "      <th>3</th>\n",
       "      <td>2022-01-01</td>\n",
       "      <td>-123.742134</td>\n",
       "      <td>41.994986</td>\n",
       "      <td>1815</td>\n",
       "      <td>5</td>\n",
       "      <td>13505</td>\n",
       "      <td>23</td>\n",
       "      <td>0</td>\n",
       "    </tr>\n",
       "    <tr>\n",
       "      <th>4</th>\n",
       "      <td>2022-01-01</td>\n",
       "      <td>-123.737970</td>\n",
       "      <td>41.994986</td>\n",
       "      <td>3449</td>\n",
       "      <td>5</td>\n",
       "      <td>13571</td>\n",
       "      <td>23</td>\n",
       "      <td>0</td>\n",
       "    </tr>\n",
       "  </tbody>\n",
       "</table>\n",
       "</div>"
      ],
      "text/plain": [
       "         Date   Longitude   Latitude   EVI  TA    LST  Wind  Fire\n",
       "0  2022-01-01 -123.754626  41.994986  1712   5  13505    23     0\n",
       "1  2022-01-01 -123.750462  41.994986  1923   5  13505    23     0\n",
       "2  2022-01-01 -123.746298  41.994986  1923   5  13505    23     0\n",
       "3  2022-01-01 -123.742134  41.994986  1815   5  13505    23     0\n",
       "4  2022-01-01 -123.737970  41.994986  3449   5  13571    23     0"
      ]
     },
     "execution_count": 18,
     "metadata": {},
     "output_type": "execute_result"
    }
   ],
   "source": [
    "debug_data.head()"
   ]
  },
  {
   "cell_type": "code",
   "execution_count": 19,
   "id": "c7dd1e23-8ef1-4350-86de-6243d8d0b08b",
   "metadata": {},
   "outputs": [],
   "source": [
    "debug_data2 = pd.read_csv('Data/2021data.csv', on_bad_lines='skip') "
   ]
  },
  {
   "cell_type": "code",
   "execution_count": 20,
   "id": "259f097e-b22a-4b01-b75e-5dd4d70b0f3e",
   "metadata": {},
   "outputs": [
    {
     "data": {
      "text/html": [
       "<div>\n",
       "<style scoped>\n",
       "    .dataframe tbody tr th:only-of-type {\n",
       "        vertical-align: middle;\n",
       "    }\n",
       "\n",
       "    .dataframe tbody tr th {\n",
       "        vertical-align: top;\n",
       "    }\n",
       "\n",
       "    .dataframe thead th {\n",
       "        text-align: right;\n",
       "    }\n",
       "</style>\n",
       "<table border=\"1\" class=\"dataframe\">\n",
       "  <thead>\n",
       "    <tr style=\"text-align: right;\">\n",
       "      <th></th>\n",
       "      <th>Date</th>\n",
       "      <th>Longitude</th>\n",
       "      <th>Latitude</th>\n",
       "      <th>EVI</th>\n",
       "      <th>TA</th>\n",
       "      <th>LST</th>\n",
       "      <th>Wind</th>\n",
       "      <th>Fire</th>\n",
       "    </tr>\n",
       "  </thead>\n",
       "  <tbody>\n",
       "    <tr>\n",
       "      <th>0</th>\n",
       "      <td>2021-01-01</td>\n",
       "      <td>-123.754626</td>\n",
       "      <td>41.994986</td>\n",
       "      <td>2219</td>\n",
       "      <td>5</td>\n",
       "      <td>13663</td>\n",
       "      <td>48</td>\n",
       "      <td>0</td>\n",
       "    </tr>\n",
       "    <tr>\n",
       "      <th>1</th>\n",
       "      <td>2021-01-01</td>\n",
       "      <td>-123.750462</td>\n",
       "      <td>41.994986</td>\n",
       "      <td>2238</td>\n",
       "      <td>5</td>\n",
       "      <td>13663</td>\n",
       "      <td>48</td>\n",
       "      <td>0</td>\n",
       "    </tr>\n",
       "    <tr>\n",
       "      <th>2</th>\n",
       "      <td>2021-01-01</td>\n",
       "      <td>-123.746298</td>\n",
       "      <td>41.994986</td>\n",
       "      <td>2238</td>\n",
       "      <td>5</td>\n",
       "      <td>13663</td>\n",
       "      <td>48</td>\n",
       "      <td>0</td>\n",
       "    </tr>\n",
       "    <tr>\n",
       "      <th>3</th>\n",
       "      <td>2021-01-01</td>\n",
       "      <td>-123.742134</td>\n",
       "      <td>41.994986</td>\n",
       "      <td>2834</td>\n",
       "      <td>5</td>\n",
       "      <td>13663</td>\n",
       "      <td>48</td>\n",
       "      <td>0</td>\n",
       "    </tr>\n",
       "    <tr>\n",
       "      <th>4</th>\n",
       "      <td>2021-01-01</td>\n",
       "      <td>-123.737970</td>\n",
       "      <td>41.994986</td>\n",
       "      <td>3057</td>\n",
       "      <td>4</td>\n",
       "      <td>13660</td>\n",
       "      <td>48</td>\n",
       "      <td>0</td>\n",
       "    </tr>\n",
       "  </tbody>\n",
       "</table>\n",
       "</div>"
      ],
      "text/plain": [
       "         Date   Longitude   Latitude   EVI  TA    LST  Wind  Fire\n",
       "0  2021-01-01 -123.754626  41.994986  2219   5  13663    48     0\n",
       "1  2021-01-01 -123.750462  41.994986  2238   5  13663    48     0\n",
       "2  2021-01-01 -123.746298  41.994986  2238   5  13663    48     0\n",
       "3  2021-01-01 -123.742134  41.994986  2834   5  13663    48     0\n",
       "4  2021-01-01 -123.737970  41.994986  3057   4  13660    48     0"
      ]
     },
     "execution_count": 20,
     "metadata": {},
     "output_type": "execute_result"
    }
   ],
   "source": [
    "debug_data2.head()"
   ]
  },
  {
   "cell_type": "code",
   "execution_count": 21,
   "id": "3c314a32-82b2-4f39-87fb-6e4993b0a6da",
   "metadata": {},
   "outputs": [],
   "source": [
    "output_data = pd.concat([debug_data, debug_data2], axis=0)"
   ]
  },
  {
   "cell_type": "code",
   "execution_count": 22,
   "id": "07809c86-5cb3-4d99-82cf-dd14b4c0616c",
   "metadata": {},
   "outputs": [
    {
     "data": {
      "text/html": [
       "<div>\n",
       "<style scoped>\n",
       "    .dataframe tbody tr th:only-of-type {\n",
       "        vertical-align: middle;\n",
       "    }\n",
       "\n",
       "    .dataframe tbody tr th {\n",
       "        vertical-align: top;\n",
       "    }\n",
       "\n",
       "    .dataframe thead th {\n",
       "        text-align: right;\n",
       "    }\n",
       "</style>\n",
       "<table border=\"1\" class=\"dataframe\">\n",
       "  <thead>\n",
       "    <tr style=\"text-align: right;\">\n",
       "      <th></th>\n",
       "      <th>Date</th>\n",
       "      <th>Longitude</th>\n",
       "      <th>Latitude</th>\n",
       "      <th>EVI</th>\n",
       "      <th>TA</th>\n",
       "      <th>LST</th>\n",
       "      <th>Wind</th>\n",
       "      <th>Fire</th>\n",
       "    </tr>\n",
       "  </thead>\n",
       "  <tbody>\n",
       "    <tr>\n",
       "      <th>0</th>\n",
       "      <td>2022-01-01</td>\n",
       "      <td>-123.754626</td>\n",
       "      <td>41.994986</td>\n",
       "      <td>1712</td>\n",
       "      <td>5</td>\n",
       "      <td>13505</td>\n",
       "      <td>23</td>\n",
       "      <td>0</td>\n",
       "    </tr>\n",
       "    <tr>\n",
       "      <th>1</th>\n",
       "      <td>2022-01-01</td>\n",
       "      <td>-123.750462</td>\n",
       "      <td>41.994986</td>\n",
       "      <td>1923</td>\n",
       "      <td>5</td>\n",
       "      <td>13505</td>\n",
       "      <td>23</td>\n",
       "      <td>0</td>\n",
       "    </tr>\n",
       "    <tr>\n",
       "      <th>2</th>\n",
       "      <td>2022-01-01</td>\n",
       "      <td>-123.746298</td>\n",
       "      <td>41.994986</td>\n",
       "      <td>1923</td>\n",
       "      <td>5</td>\n",
       "      <td>13505</td>\n",
       "      <td>23</td>\n",
       "      <td>0</td>\n",
       "    </tr>\n",
       "    <tr>\n",
       "      <th>3</th>\n",
       "      <td>2022-01-01</td>\n",
       "      <td>-123.742134</td>\n",
       "      <td>41.994986</td>\n",
       "      <td>1815</td>\n",
       "      <td>5</td>\n",
       "      <td>13505</td>\n",
       "      <td>23</td>\n",
       "      <td>0</td>\n",
       "    </tr>\n",
       "    <tr>\n",
       "      <th>4</th>\n",
       "      <td>2022-01-01</td>\n",
       "      <td>-123.737970</td>\n",
       "      <td>41.994986</td>\n",
       "      <td>3449</td>\n",
       "      <td>5</td>\n",
       "      <td>13571</td>\n",
       "      <td>23</td>\n",
       "      <td>0</td>\n",
       "    </tr>\n",
       "  </tbody>\n",
       "</table>\n",
       "</div>"
      ],
      "text/plain": [
       "         Date   Longitude   Latitude   EVI  TA    LST  Wind  Fire\n",
       "0  2022-01-01 -123.754626  41.994986  1712   5  13505    23     0\n",
       "1  2022-01-01 -123.750462  41.994986  1923   5  13505    23     0\n",
       "2  2022-01-01 -123.746298  41.994986  1923   5  13505    23     0\n",
       "3  2022-01-01 -123.742134  41.994986  1815   5  13505    23     0\n",
       "4  2022-01-01 -123.737970  41.994986  3449   5  13571    23     0"
      ]
     },
     "execution_count": 22,
     "metadata": {},
     "output_type": "execute_result"
    }
   ],
   "source": [
    "output_data.head()"
   ]
  },
  {
   "cell_type": "code",
   "execution_count": 23,
   "id": "802f46e9-c95a-48f6-b918-64ff750fb790",
   "metadata": {},
   "outputs": [
    {
     "data": {
      "text/plain": [
       "Date         0\n",
       "Longitude    0\n",
       "Latitude     0\n",
       "EVI          0\n",
       "TA           0\n",
       "LST          0\n",
       "Wind         0\n",
       "Fire         0\n",
       "dtype: int64"
      ]
     },
     "execution_count": 23,
     "metadata": {},
     "output_type": "execute_result"
    }
   ],
   "source": [
    "output_data.isnull().sum() # return number of missing value for each column"
   ]
  },
  {
   "cell_type": "markdown",
   "id": "85e1527a-0414-4963-9f3e-b04ef13e42a3",
   "metadata": {},
   "source": [
    "## Data Cleaning"
   ]
  },
  {
   "cell_type": "code",
   "execution_count": null,
   "id": "linear-facing",
   "metadata": {
    "scrolled": true
   },
   "outputs": [],
   "source": [
    "data.head()"
   ]
  },
  {
   "cell_type": "code",
   "execution_count": null,
   "id": "special-alfred",
   "metadata": {
    "scrolled": true
   },
   "outputs": [],
   "source": [
    "data.isnull().sum() # return number of missing value for each column"
   ]
  },
  {
   "cell_type": "code",
   "execution_count": null,
   "id": "f367e0de-91f9-422e-8b01-ac9b5c6ce6e2",
   "metadata": {},
   "outputs": [],
   "source": [
    "data.dropna(axis=0, inplace=True) # drop the rows with null values\n",
    "data.isnull().sum() # return number of missing value for each column"
   ]
  },
  {
   "cell_type": "code",
   "execution_count": null,
   "id": "sudden-termination",
   "metadata": {},
   "outputs": [],
   "source": [
    "#if 'Date' in data:\n",
    "data = data.drop(['Date', 'Longitude', 'Latitude'], axis = 1) \n",
    "data.head()"
   ]
  },
  {
   "cell_type": "code",
   "execution_count": null,
   "id": "external-seating",
   "metadata": {
    "scrolled": true
   },
   "outputs": [],
   "source": [
    "data.TA.value_counts()"
   ]
  },
  {
   "cell_type": "code",
   "execution_count": null,
   "id": "legendary-greeting",
   "metadata": {},
   "outputs": [],
   "source": [
    "data = data[data.TA !=-999] \n",
    "data = data[data.TA != 3]\n",
    "data = data[data.TA != 4]"
   ]
  },
  {
   "cell_type": "code",
   "execution_count": null,
   "id": "eight-simulation",
   "metadata": {},
   "outputs": [],
   "source": [
    "data.TA.value_counts()"
   ]
  },
  {
   "cell_type": "code",
   "execution_count": null,
   "id": "shaped-banner",
   "metadata": {},
   "outputs": [],
   "source": [
    "Count=data.Fire.value_counts() #count target feature \n",
    "print('Proportion:', round(Count[0] / Count[1], 2), ': 1')\n",
    "Count"
   ]
  },
  {
   "cell_type": "markdown",
   "id": "95e7cd82-6d31-4869-af6e-1b8316f70929",
   "metadata": {},
   "source": [
    "# Outputing the data"
   ]
  },
  {
   "cell_type": "code",
   "execution_count": null,
   "id": "8258cca4-36b7-4504-adde-4e001467722b",
   "metadata": {},
   "outputs": [],
   "source": [
    "# Exportng the data to a csv\n",
    "data.to_csv(\"Full_data.csv\", index=False)"
   ]
  },
  {
   "cell_type": "code",
   "execution_count": null,
   "id": "8b98b8c3-ca7a-49dd-880c-2845d269b720",
   "metadata": {},
   "outputs": [],
   "source": [
    "import zipfile\n",
    "\n",
    "def zip_file(file_path, zip_path):\n",
    "    # Create a zip file\n",
    "    with zipfile.ZipFile(zip_path, 'w', zipfile.ZIP_DEFLATED) as zipf:\n",
    "        # Add the file to the zip archive\n",
    "        zipf.write(file_path, arcname='file_to_zip.txt')\n",
    "\n",
    "# Example usage\n",
    "file_to_zip = \"Full_data.csv\"\n",
    "zip_file_path = \"Full_data.zip\"\n",
    "\n",
    "zip_file(file_to_zip, zip_file_path)"
   ]
  },
  {
   "cell_type": "code",
   "execution_count": null,
   "id": "ac963866-78c4-4d9d-81d9-a077d687e3bb",
   "metadata": {},
   "outputs": [],
   "source": []
  },
  {
   "cell_type": "code",
   "execution_count": null,
   "id": "1c205fb9-c4f0-4aea-bc07-18e8a2797795",
   "metadata": {},
   "outputs": [],
   "source": []
  },
  {
   "cell_type": "code",
   "execution_count": null,
   "id": "6ff9d5ed-825c-4f09-a380-e973c2b76b6e",
   "metadata": {},
   "outputs": [],
   "source": []
  }
 ],
 "metadata": {
  "kernelspec": {
   "display_name": "venvpy3",
   "language": "python",
   "name": "venvpy3"
  },
  "language_info": {
   "codemirror_mode": {
    "name": "ipython",
    "version": 3
   },
   "file_extension": ".py",
   "mimetype": "text/x-python",
   "name": "python",
   "nbconvert_exporter": "python",
   "pygments_lexer": "ipython3",
   "version": "3.10.12"
  }
 },
 "nbformat": 4,
 "nbformat_minor": 5
}
